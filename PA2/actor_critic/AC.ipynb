{
  "cells": [
    {
      "cell_type": "markdown",
      "metadata": {
        "id": "q5IRKRic_XBP"
      },
      "source": [
        "# Actor Critic"
      ]
    },
    {
      "cell_type": "markdown",
      "metadata": {
        "id": "tB1APRkcvXar"
      },
      "source": [
        "**Actor-Critic methods** learn both a policy $\\pi(a|s;\\theta)$ and a state-value function $v(s;w)$ simultaneously. The policy is referred to as the actor that suggests actions given a state. The estimated value function is referred to as the critic. It evaluates actions taken by the actor based on the given policy. In this exercise, both functions are approximated by feedforward neural networks. \n",
        "\n",
        "- The policy network is parametrized by $\\theta$ - it takes a state $s$ as input and outputs the probabilities $\\pi(a|s;\\theta)\\ \\forall\\ a$\n",
        "- The value network is parametrized by $w$ - it takes a state $s$ as input and outputs a scalar value associated with the state, i.e., $v(s;w)$\n",
        "- The single step TD error can be defined as follows:\n",
        "$$\\delta_t  = R_{t+1} + \\gamma v(s_{t+1};w) - v(s_t;w)$$\n",
        "- The loss function to be minimized at every step ($L_{tot}^{(t)}$) is a summation of two terms, as follows:\n",
        "$$L_{tot}^{(t)} = L_{actor}^{(t)} + L_{critic}^{(t)}$$\n",
        "where,\n",
        "$$L_{actor}^{(t)} = -\\log\\pi(a_t|s_t; \\theta)\\delta_t$$\n",
        "$$L_{critic}^{(t)} = \\delta_t^2$$\n",
        "- **NOTE: Here, weights of the first two hidden layers are shared by the policy and the value network**\n",
        "    - First two hidden layer sizes: [1024, 512]\n",
        "    - Output size of policy network: 2 (Softmax activation)\n",
        "    - Output size of value network: 1 (Linear activation)\n",
        "\n",
        "<!-- $$\\pi(a|s;\\theta) = \\phi_{\\theta}(a,s)$$ -->"
      ]
    },
    {
      "cell_type": "markdown",
      "metadata": {
        "id": "0v3xLAumMmXj"
      },
      "source": [
        "# One Time Setup"
      ]
    },
    {
      "cell_type": "code",
      "execution_count": null,
      "metadata": {
        "colab": {
          "base_uri": "https://localhost:8080/"
        },
        "id": "W2l1B_e77aLh",
        "outputId": "bd166a62-1e49-4c9a-ed05-2f079ff0167c"
      },
      "outputs": [
        {
          "output_type": "stream",
          "name": "stdout",
          "text": [
            "Drive already mounted at /content/drive; to attempt to forcibly remount, call drive.mount(\"/content/drive\", force_remount=True).\n",
            "ln: failed to create symbolic link '/content/pa2/rl_pa2': File exists\n"
          ]
        }
      ],
      "source": [
        "from google.colab import drive\n",
        "\n",
        "drive.mount(\"/content/drive\")\n",
        "actual_root_dir = \"/content/drive/MyDrive/rl_pa2/\"\n",
        "root_dir = \"/content/pa2\"\n",
        "!ln -s {actual_root_dir} {root_dir}\n",
        "root_dir = \"/content/pa2/\""
      ]
    },
    {
      "cell_type": "code",
      "execution_count": null,
      "metadata": {
        "colab": {
          "base_uri": "https://localhost:8080/"
        },
        "id": "FMEEBVyhMlRs",
        "outputId": "2e5c7140-0627-4ae3-c7dc-238c5e22ab7a"
      },
      "outputs": [
        {
          "output_type": "stream",
          "name": "stdout",
          "text": [
            "Looking in indexes: https://pypi.org/simple, https://us-python.pkg.dev/colab-wheels/public/simple/\n",
            "Requirement already satisfied: setuptools in /usr/local/lib/python3.9/dist-packages (67.6.0)\n"
          ]
        }
      ],
      "source": [
        "!python3 -m pip install gymnasium pyvirtualdisplay > /dev/null 2>&1\n",
        "!python3 -m pip install tensorflow tensorflow_probability > /dev/null\n",
        "!apt-get install -y xvfb python-opengl ffmpeg > /dev/null 2>&1\n",
        "!apt-get update > /dev/null 2>&1\n",
        "!apt-get install cmake > /dev/null 2>&1\n",
        "!python3 -m pip install --upgrade setuptools 2>&1\n",
        "!python3 -m pip install ez_setup > /dev/null 2>&1\n",
        "!python3 -m pip install 'gym[atari]' > /dev/null 2>&1\n",
        "!python3 -m pip install git+https://github.com/tensorflow/docs > /dev/null 2>&1\n",
        "!python3 -m pip install 'gym[classic_control]' > /dev/null"
      ]
    },
    {
      "cell_type": "code",
      "source": [],
      "metadata": {
        "id": "zPKOyMmGDKh1"
      },
      "execution_count": null,
      "outputs": []
    },
    {
      "cell_type": "markdown",
      "metadata": {
        "id": "fxwOTFMOMqAC"
      },
      "source": [
        "# AC Code"
      ]
    },
    {
      "cell_type": "markdown",
      "metadata": {
        "id": "ImEayDbdvOvn"
      },
      "source": [
        "## Setup"
      ]
    },
    {
      "cell_type": "code",
      "execution_count": null,
      "metadata": {
        "id": "zWDvPVE1ABr9"
      },
      "outputs": [],
      "source": [
        "import datetime\n",
        "from collections import namedtuple, deque\n",
        "import random\n",
        "import numpy as np\n",
        "\n",
        "import seaborn as sns\n",
        "\n",
        "sns.set_style(\"whitegrid\")\n",
        "import matplotlib.pyplot as plt\n",
        "\n",
        "from tqdm.notebook import tqdm, trange\n",
        "\n",
        "twrite = tqdm.write\n",
        "\n",
        "import gymnasium as gym\n",
        "import os\n",
        "\n",
        "os.environ[\"TF_CPP_MIN_LOG_LEVEL\"] = \"0\"\n",
        "import tensorflow as tf\n",
        "import tensorflow_probability as tfp\n",
        "\n",
        "\n",
        "from PIL import Image\n",
        "from pyvirtualdisplay import Display"
      ]
    },
    {
      "cell_type": "markdown",
      "metadata": {
        "id": "1eU3_IeYwN3H"
      },
      "source": [
        "## Initializing Actor-Critic Network"
      ]
    },
    {
      "cell_type": "code",
      "execution_count": null,
      "metadata": {
        "id": "MXFHQcJjVKYu"
      },
      "outputs": [],
      "source": [
        "class ActorCriticModel(tf.keras.Model):\n",
        "    \"\"\"\n",
        "    Defining policy and value networkss\n",
        "    \"\"\"\n",
        "\n",
        "    def __init__(self, action_size, layer_ns):\n",
        "        super(ActorCriticModel, self).__init__()\n",
        "\n",
        "        # Hidden Layers\n",
        "        self.my_layers = [tf.keras.layers.Dense(n, activation=\"relu\") for n in layer_ns]\n",
        "        \n",
        "        # Output Layers\n",
        "        self.pi_out = tf.keras.layers.Dense(action_size, activation=\"softmax\")\n",
        "        self.v_out = tf.keras.layers.Dense(1)\n",
        "\n",
        "    def call(self, state):\n",
        "        \"\"\"\n",
        "        Computes policy distribution and state-value for a given state\n",
        "        \"\"\"\n",
        "        out = state\n",
        "        for layer in self.my_layers:\n",
        "            out = layer(out)\n",
        "\n",
        "        pi = self.pi_out(out)\n",
        "        v = self.v_out(out)\n",
        "\n",
        "        return pi, v"
      ]
    },
    {
      "cell_type": "code",
      "execution_count": null,
      "metadata": {
        "id": "9RNpp9WMfkTE"
      },
      "outputs": [],
      "source": [
        "class Agent:\n",
        "\n",
        "    def __init__(\n",
        "        self, action_size, lr=0.001, gamma=0.99, seed=85, n_s=(1024, 512), h=1\n",
        "    ):\n",
        "        random.seed(seed)\n",
        "        np.random.seed(seed)\n",
        "        tf.random.set_seed(seed)\n",
        "        assert h == 1\n",
        "        self.gamma = gamma\n",
        "        self.ac_model = ActorCriticModel(action_size=action_size, layer_ns=n_s)\n",
        "        self.ac_model.compile(tf.keras.optimizers.Adam(learning_rate=lr))\n",
        "        self.seed_str = tfp.util.SeedStream(seed, salt=\"random_beta\")\n",
        "\n",
        "    def sample_action(self, state):\n",
        "        \"\"\"\n",
        "        Given a state, compute the policy distribution over all actions and sample one action\n",
        "        \"\"\"\n",
        "        pi, _ = self.ac_model(state)\n",
        "\n",
        "        action_probabilities = tfp.distributions.Categorical(probs=pi)\n",
        "        sample = action_probabilities.sample(seed=self.seed_str())\n",
        "\n",
        "        return int(sample.numpy()[0])\n",
        "\n",
        "    def actor_loss(self, action, pi, delta):\n",
        "        \"\"\"\n",
        "        Compute Actor Loss\n",
        "        \"\"\"\n",
        "        return -tf.math.log(pi[0, action]) * delta\n",
        "\n",
        "    def critic_loss(self, delta):\n",
        "        \"\"\"\n",
        "        Critic loss aims to minimize TD error\n",
        "        \"\"\"\n",
        "        return delta**2\n",
        "\n",
        "    @tf.function\n",
        "    def learn(self, state, action, reward, next_state, done):\n",
        "        \"\"\"\n",
        "        For a given transition (s,a,s',r) update the paramters by computing the\n",
        "    gradient of the total loss\n",
        "        \"\"\"\n",
        "        with tf.GradientTape(persistent=True) as tape:\n",
        "            pi, V_s = self.ac_model(state)\n",
        "            _, V_s_next = self.ac_model(next_state)\n",
        "\n",
        "            V_s = tf.squeeze(V_s)\n",
        "            V_s_next = tf.squeeze(V_s_next)\n",
        "\n",
        "            # $\\delta_t  = R_{t+1} + \\gamma v(s_{t+1};w) - v(s_t;w)$\n",
        "            delta = reward + self.gamma * V_s_next - V_s\n",
        "            loss_a = self.actor_loss(action, pi, delta)\n",
        "            loss_c = self.critic_loss(delta)\n",
        "            loss_total = loss_a + loss_c\n",
        "\n",
        "        gradient = tape.gradient(loss_total, self.ac_model.trainable_variables)\n",
        "        self.ac_model.optimizer.apply_gradients(\n",
        "            zip(gradient, self.ac_model.trainable_variables)\n",
        "        )"
      ]
    },
    {
      "cell_type": "code",
      "execution_count": null,
      "metadata": {
        "id": "Ec2WAQg-Cj1F"
      },
      "outputs": [],
      "source": [
        "class nAgent:\n",
        "    \"\"\"\n",
        "    Agent class\n",
        "    \"\"\"\n",
        "\n",
        "    def __init__(\n",
        "        self, action_size, lr=0.001, gamma=0.99, seed=85, n_s=(1024, 512), h=10\n",
        "    ):\n",
        "        random.seed(seed)\n",
        "        np.random.seed(seed)\n",
        "        tf.random.set_seed(seed)\n",
        "        # assert h != 1\n",
        "        self.h = h\n",
        "        self.gamma = gamma\n",
        "        self.ac_model = ActorCriticModel(action_size=action_size, layer_ns=n_s)\n",
        "        self.ac_model.compile(tf.keras.optimizers.Adam(learning_rate=lr))\n",
        "        self.seed_str = tfp.util.SeedStream(seed, salt=\"random_beta\")\n",
        "\n",
        "        self.history = []\n",
        "\n",
        "    def sample_action(self, state):\n",
        "        \"\"\"\n",
        "        Given a state, compute the policy distribution over all actions and sample one action\n",
        "        \"\"\"\n",
        "        pi, _ = self.ac_model(state)\n",
        "\n",
        "        action_probabilities = tfp.distributions.Categorical(probs=pi)\n",
        "        sample = action_probabilities.sample(seed=self.seed_str())\n",
        "\n",
        "        return int(sample.numpy()[0])\n",
        "\n",
        "    def actor_loss(self, action, pi, delta):\n",
        "        \"\"\"\n",
        "        Compute Actor Loss\n",
        "        \"\"\"\n",
        "        return -tf.math.log(pi[0, action]) * delta\n",
        "\n",
        "    def critic_loss(self, delta):\n",
        "        \"\"\"\n",
        "        Critic loss aims to minimize TD error\n",
        "        \"\"\"\n",
        "        return delta**2\n",
        "\n",
        "    def learn(self, state, action, reward, next_state, done):\n",
        "        self.history.append((state, action, reward, next_state))\n",
        "\n",
        "        while len(self.history) >= self.h:\n",
        "            self.learn_once(self.history[: self.h])\n",
        "            del self.history[0]\n",
        "\n",
        "        if done:\n",
        "            self.history = []\n",
        "\n",
        "    # @tf.function\n",
        "    def learn_once(self, hist):\n",
        "        with tf.GradientTape(persistent=True) as tape:\n",
        "            state = hist[0][0]\n",
        "            action = hist[0][1]\n",
        "            # reward = None\n",
        "            next_state = hist[-1][3]\n",
        "\n",
        "            rewards = 0\n",
        "            for i in range(self.h):\n",
        "                rewards += hist[i][2] * self.gamma**i\n",
        "\n",
        "            pi, V_s = self.ac_model(state)\n",
        "            _, V_s_next = self.ac_model(next_state)\n",
        "\n",
        "            V_s = tf.squeeze(V_s)\n",
        "            V_s_next = tf.squeeze(V_s_next)\n",
        "\n",
        "            delta = rewards + self.gamma**self.h * V_s_next - V_s\n",
        "            loss_a = self.actor_loss(action, pi, delta)\n",
        "            loss_c = self.critic_loss(delta)\n",
        "            loss_total = loss_a + loss_c\n",
        "\n",
        "        gradient = tape.gradient(loss_total, self.ac_model.trainable_variables)\n",
        "        self.ac_model.optimizer.apply_gradients(\n",
        "            zip(gradient, self.ac_model.trainable_variables)\n",
        "        )"
      ]
    },
    {
      "cell_type": "code",
      "execution_count": null,
      "metadata": {
        "id": "mecCrsRKNVOK"
      },
      "outputs": [],
      "source": [
        "class TAgent:\n",
        "    \"\"\"\n",
        "    Agent class\n",
        "    \"\"\"\n",
        "\n",
        "    def __init__(\n",
        "        self, action_size, lr=0.001, gamma=0.99, seed=85, n_s=(1024, 512), h=np.inf\n",
        "    ):\n",
        "        random.seed(seed)\n",
        "        np.random.seed(seed)\n",
        "        tf.random.set_seed(seed)\n",
        "        # assert h != 1\n",
        "        self.h = h\n",
        "        self.gamma = gamma\n",
        "        self.ac_model = ActorCriticModel(action_size=action_size, layer_ns=n_s)\n",
        "        self.ac_model.compile(tf.keras.optimizers.Adam(learning_rate=lr))\n",
        "        self.seed_str = tfp.util.SeedStream(seed, salt=\"random_beta\")\n",
        "\n",
        "        self.history = []\n",
        "\n",
        "    def sample_action(self, state):\n",
        "        \"\"\"\n",
        "        Given a state, compute the policy distribution over all actions and sample one action\n",
        "        \"\"\"\n",
        "        pi, _ = self.ac_model(state)\n",
        "\n",
        "        action_probabilities = tfp.distributions.Categorical(probs=pi)\n",
        "        sample = action_probabilities.sample(seed=self.seed_str())\n",
        "\n",
        "        return int(sample.numpy()[0])\n",
        "\n",
        "    def actor_loss(self, action, pi, delta):\n",
        "        \"\"\"\n",
        "        Compute Actor Loss\n",
        "        \"\"\"\n",
        "        return -tf.math.log(pi[0, action]) * delta\n",
        "\n",
        "    def critic_loss(self, delta):\n",
        "        \"\"\"\n",
        "        Critic loss aims to minimize TD error\n",
        "        \"\"\"\n",
        "        return delta**2\n",
        "\n",
        "    def learn(self, state, action, reward, next_state, done):\n",
        "        self.history.append((state, action, reward, next_state))\n",
        "\n",
        "        # We only actually learn at the end of the ep\n",
        "        if done:\n",
        "            self.learn_impl(self.history)\n",
        "            del self.history\n",
        "            self.history = []\n",
        "\n",
        "    # @tf.function\n",
        "    def learn_impl(self, history):\n",
        "        with tf.GradientTape(persistent=True) as tape:\n",
        "            L_ac = 0\n",
        "            L_cr = 0\n",
        "\n",
        "            for t in range(len(history)):\n",
        "                state = history[t][0]\n",
        "                action = history[t][1]\n",
        "\n",
        "                rewards = 0.0\n",
        "                for i in range(len(history) - t):\n",
        "                    history[t + i][2] * self.gamma**i\n",
        "\n",
        "                pi, V_s = self.ac_model(state)\n",
        "                V_s = tf.squeeze(V_s)\n",
        "\n",
        "                delta = rewards - V_s\n",
        "                L_ac += self.actor_loss(action, pi, delta)\n",
        "                L_cr += self.critic_loss(delta)\n",
        "\n",
        "            loss_total = L_ac + L_cr\n",
        "\n",
        "        gradient = tape.gradient(loss_total, self.ac_model.trainable_variables)\n",
        "        self.ac_model.optimizer.apply_gradients(\n",
        "            zip(gradient, self.ac_model.trainable_variables)\n",
        "        )"
      ]
    },
    {
      "cell_type": "markdown",
      "metadata": {
        "id": "7UNwB_NsvQgx"
      },
      "source": [
        "## Runner"
      ]
    },
    {
      "cell_type": "code",
      "execution_count": null,
      "metadata": {
        "id": "4lbwC7TeoD_o"
      },
      "outputs": [],
      "source": [
        "# def run_agent_impl(env_seed, agent_seed, lr=1e-4, n_s=(512, 512, 512)):\n",
        "def run_agent(params, tt=None, override_to_n=False, ret=False, reset_graph=False):\n",
        "    AgentImpl = Agent\n",
        "    if override_to_n or params.h != 1:\n",
        "        AgentImpl = nAgent\n",
        "    if params.h == np.inf:\n",
        "        AgentImpl = TAgent\n",
        "\n",
        "    lr = params.lr\n",
        "    env_seed = params.seeds[0]\n",
        "    agent_seed = params.seeds[1]\n",
        "    rng = np.random.default_rng(env_seed)\n",
        "    n_s = params.layer_sizes\n",
        "\n",
        "    env = gym.make(params.env)\n",
        "\n",
        "    env.reset(seed=int(rng.random() * 2**16))\n",
        "\n",
        "    # Initializing Agent\n",
        "    agent = AgentImpl(\n",
        "        action_size=env.action_space.n, lr=lr, seed=agent_seed, n_s=n_s, h=params.h\n",
        "    )\n",
        "\n",
        "    # Number of episodes\n",
        "    episodes = params.episodes\n",
        "    tf.compat.v1.reset_default_graph()\n",
        "\n",
        "    time_list = []\n",
        "    steps_list = []\n",
        "    reward_list = []\n",
        "\n",
        "    begin_time = datetime.datetime.now()\n",
        "\n",
        "    # if tt is not None:\n",
        "    # tt.reset(total=episodes)\n",
        "    try:\n",
        "        for ep in trange(1, episodes + 1, desc=\"Ep\", position=1, leave=True):\n",
        "            # for ep in range(1, episodes + 1):\n",
        "            # state = env.reset(seed=int(rng.random() * 2**16))[0].reshape(1, -1)\n",
        "            state = env.reset()[0].reshape(1, -1)\n",
        "            done = False\n",
        "            steps = 0\n",
        "            ep_rew = 0\n",
        "            while not done:\n",
        "                steps += 1\n",
        "                action = agent.sample_action(state)  # Sample Action\n",
        "\n",
        "                next_state, reward, terminated, truncated, info = env.step(\n",
        "                    action\n",
        "                )  # Take action\n",
        "                if params.env == \"CartPole-v1\" or params.env == \"MountainCar-v0\":\n",
        "                    reward += 1\n",
        "                done = terminated or truncated\n",
        "                next_state = next_state.reshape(1, -1)\n",
        "\n",
        "                ep_rew += reward  # Updating episode reward\n",
        "                agent.learn(\n",
        "                    state, action, reward, next_state, done\n",
        "                )  # Update Parameters\n",
        "\n",
        "                state = next_state  # Updating State\n",
        "            reward_list.append(ep_rew)\n",
        "            steps_list.append(steps)\n",
        "            time_list.append((datetime.datetime.now() - begin_time).total_seconds())\n",
        "            if tt is not None:\n",
        "                tt.update()\n",
        "\n",
        "            # if reset_graph is not None and ep % reset_graph == 0:\n",
        "            #     tf.compat.v1.reset_default_graph()\n",
        "\n",
        "            # if ep % 10 == 0:\n",
        "            #     avg_rew = np.mean(reward_list[-10:])\n",
        "\n",
        "            #     twrite(f\"Episode {ep} Reward {ep_rew:.2f} Average Reward {avg_rew:.2f}\")\n",
        "            # if ep % 100:\n",
        "            #     avg_100 = np.mean(reward_list[-100:])\n",
        "\n",
        "            #     if avg_100 > 195.0:\n",
        "            #         # twrite(f\"Stopped at Episode {ep - 100}\")\n",
        "            #         break\n",
        "\n",
        "        rn, tn, sn = np.array(reward_list), np.array(time_list), np.array(steps_list)\n",
        "        write_data(params, rn, tn, sn)\n",
        "\n",
        "    except KeyboardInterrupt:\n",
        "        print(\"Keyboard interrupt!\")\n",
        "        pass\n",
        "    finally:\n",
        "        time_taken = datetime.datetime.now() - begin_time\n",
        "        rn, tn, sn = np.array(reward_list), np.array(time_list), np.array(steps_list)\n",
        "        if reset_graph:\n",
        "            tf.keras.backend.clear_session()\n",
        "        if ret:\n",
        "            return tn, rn, sn"
      ]
    },
    {
      "cell_type": "markdown",
      "metadata": {
        "id": "bYW3bhav21Ub"
      },
      "source": [
        "## Params"
      ]
    },
    {
      "cell_type": "code",
      "execution_count": null,
      "metadata": {
        "id": "aWxH29Ry23Q5"
      },
      "outputs": [],
      "source": [
        "from dataclasses import dataclass\n",
        "from typing import List, Tuple, Literal\n",
        "\n",
        "\n",
        "@dataclass\n",
        "class Params:\n",
        "    env: Literal[\"Acrobot-v1\", \"CartPole-v1\", \"MountainCar-v0\"]\n",
        "    h: int\n",
        "    lr: float\n",
        "    layer_sizes: List[int]\n",
        "    seeds: Tuple[int, int]\n",
        "    episodes: int\n",
        "\n",
        "    def dirname(self):\n",
        "        return f\"{self.env}/BB_{self.h}_{self.lr:.5f}_C{'-'.join(map(str, self.layer_sizes))}C_BB\"\n",
        "\n",
        "    def filename(self):\n",
        "        return f\"BB_{self.episodes}_{self.seeds[0]}_{self.seeds[1]}.npz\""
      ]
    },
    {
      "cell_type": "code",
      "execution_count": null,
      "metadata": {
        "id": "UXbs2ALR9Q9H"
      },
      "outputs": [],
      "source": [
        "import os\n",
        "import numpy as np\n",
        "from pathlib import Path\n",
        "\n",
        "\n",
        "def write_data(params, r_s, t_s, s_s):\n",
        "    dirs = Path(root_dir) / params.dirname()\n",
        "    dirs.mkdir(parents=True, exist_ok=True)\n",
        "\n",
        "    fl = dirs / params.filename()\n",
        "    fl.unlink(missing_ok=True)\n",
        "\n",
        "    np.savez(str(fl), r_s=r_s, t_s=t_s, s_s=s_s)"
      ]
    },
    {
      "cell_type": "code",
      "execution_count": null,
      "metadata": {
        "id": "I-7YYqGdHJQs"
      },
      "outputs": [],
      "source": [
        "import itertools\n",
        "from functools import reduce\n",
        "import operator\n",
        "from multiprocessing import Pool, cpu_count\n",
        "import tqdm\n",
        "\n",
        "\n",
        "def product_dict(**kwargs):\n",
        "    keys = kwargs.keys()\n",
        "    vals = kwargs.values()\n",
        "    for instance in itertools.product(*vals):\n",
        "        yield dict(zip(keys, instance))\n",
        "\n",
        "\n",
        "def get_all_params(configs):\n",
        "    for args in product_dict(**configs):\n",
        "        pp = Params(**args)\n",
        "        yield pp\n",
        "\n",
        "\n",
        "from tqdm.contrib.concurrent import process_map, thread_map\n",
        "\n",
        "\n",
        "def run_cfg(configs):\n",
        "    N = reduce(operator.mul, map(len, configs.values()))\n",
        "    nproc = cpu_count()\n",
        "    print(f\"Running {N} configs with with {nproc} cpus\")\n",
        "    with Pool(processes=nproc) as p:\n",
        "        # with tqdm.tqdm(total=N) as pbar:\n",
        "        thread_map(run_agent, get_all_params(configs), total=N, max_workers=nproc)\n",
        "    print(\"done\")\n",
        "\n",
        "\n",
        "def run_series(configs, skip=0, **kwargs):\n",
        "    N = reduce(operator.mul, map(len, configs.values()))\n",
        "    print(f\"Running {N} configs\")\n",
        "    i = 0\n",
        "    for conf in tqdm.tqdm(get_all_params(configs), total=N, desc=\"Conf\", position=0):\n",
        "        if i >= skip:\n",
        "            run_agent(conf, **kwargs)\n",
        "        i += 1\n",
        "    print(\"done\")"
      ]
    },
    {
      "cell_type": "markdown",
      "metadata": {
        "id": "bpZyP0aFMr1J"
      },
      "source": [
        "# AC Running"
      ]
    },
    {
      "cell_type": "markdown",
      "metadata": {
        "id": "WOVAniphh_7t"
      },
      "source": [
        "## Run Set 1"
      ]
    },
    {
      "cell_type": "code",
      "execution_count": null,
      "metadata": {
        "colab": {
          "base_uri": "https://localhost:8080/",
          "height": 430,
          "referenced_widgets": [
            "fdd3840dde8a440896ad36633bdb91db",
            "9c5bf10841e141cbb09c3b852e59a21e",
            "7527fbe28c404d4da5a87a34f6b2b689",
            "566ab948033044a190e1d14b578e12e4",
            "7a91edbbb93441988d98e4d2527bcf4c",
            "80bb2652bcea4429af6d402d148f60cb",
            "d6a39ef0742f44979054587c81600028",
            "e4b8d16692824ae2af96f94095a00569",
            "91ebad332eb24f8fbf795bb562db138b",
            "521d6c2cdbef4a98bb86c32c34c961a8",
            "4ac30b992661444b993d82cfb4f20bcf"
          ]
        },
        "id": "vZ53Fx6yiCxh",
        "outputId": "174a6cdc-7849-49d2-a3ec-7bc61f79fd04"
      },
      "outputs": [
        {
          "data": {
            "application/vnd.jupyter.widget-view+json": {
              "model_id": "fdd3840dde8a440896ad36633bdb91db",
              "version_major": 2,
              "version_minor": 0
            },
            "text/plain": [
              "Ep:   0%|          | 0/80 [00:00<?, ?it/s]"
            ]
          },
          "metadata": {},
          "output_type": "display_data"
        },
        {
          "name": "stdout",
          "output_type": "stream",
          "text": [
            "Episode 10 Reward 38.00 Average Reward 24.80\n",
            "Episode 20 Reward 33.00 Average Reward 44.30\n",
            "Episode 30 Reward 124.00 Average Reward 67.80\n",
            "Episode 40 Reward 66.00 Average Reward 82.10\n",
            "Episode 50 Reward 144.00 Average Reward 109.30\n",
            "Episode 60 Reward 86.00 Average Reward 53.70\n",
            "Episode 70 Reward 91.00 Average Reward 85.50\n",
            "Episode 80 Reward 62.00 Average Reward 91.00\n"
          ]
        },
        {
          "data": {
            "text/plain": [
              "[<matplotlib.lines.Line2D at 0x7fa174250e20>]"
            ]
          },
          "execution_count": 21,
          "metadata": {},
          "output_type": "execute_result"
        },
        {
          "data": {
            "image/png": "[encoded data removed]",
            "text/plain": [
              "<Figure size 432x288 with 1 Axes>"
            ]
          },
          "metadata": {},
          "output_type": "display_data"
        }
      ],
      "source": [
        "base_conf = {\n",
        "    \"env\": \"CartPole-v1\",\n",
        "    \"h\": 1,\n",
        "    \"lr\": 1e-4,\n",
        "    \"layer_sizes\": (1024, 512),\n",
        "    \"seeds\": (10, 12),\n",
        "    \"episodes\": 80,\n",
        "}\n",
        "\n",
        "tn, rn, sn = run_agent(Params(**base_conf), ret=True)\n",
        "plt.plot(rn)"
      ]
    },
    {
      "cell_type": "code",
      "execution_count": null,
      "metadata": {
        "colab": {
          "base_uri": "https://localhost:8080/",
          "height": 519,
          "referenced_widgets": [
            "4a3c978a7d934e7ca93ea839242cbb8b",
            "1a4586d39bc14f2d998640611340bec8",
            "82373804c7b34826b1b67dd8e7c201e0",
            "d4eb591127924c6db1c6803a312bcd6e",
            "0a13a9fd15a84b409071ecef4b5ac07f",
            "c1999d633e4742e585f4830beddb16c6",
            "a7af2252665c41bc9a9e763092a40226",
            "40641d39695944ed9b6a79cc9f04aa0e",
            "c6fe4472e1a7482587bdf38dc2af6dfd",
            "f8358e9272c148adbd89ff7ade2ffb1a",
            "ef603c739d6148c1aad0f56f0011c075"
          ]
        },
        "id": "LT2Eju6W6tBK",
        "outputId": "74638ffc-da6f-4b1e-a578-86909ec43ef1"
      },
      "outputs": [
        {
          "data": {
            "application/vnd.jupyter.widget-view+json": {
              "model_id": "4a3c978a7d934e7ca93ea839242cbb8b",
              "version_major": 2,
              "version_minor": 0
            },
            "text/plain": [
              "Ep:   0%|          | 0/80 [00:00<?, ?it/s]"
            ]
          },
          "metadata": {},
          "output_type": "display_data"
        },
        {
          "name": "stderr",
          "output_type": "stream",
          "text": [
            "WARNING:tensorflow:5 out of the last 5 calls to <function _BaseOptimizer._update_step_xla at 0x7f5f1c096700> triggered tf.function retracing. Tracing is expensive and the excessive number of tracings could be due to (1) creating @tf.function repeatedly in a loop, (2) passing tensors with different shapes, (3) passing Python objects instead of tensors. For (1), please define your @tf.function outside of the loop. For (2), @tf.function has reduce_retracing=True option that can avoid unnecessary retracing. For (3), please refer to https://www.tensorflow.org/guide/function#controlling_retracing and https://www.tensorflow.org/api_docs/python/tf/function for  more details.\n",
            "WARNING:tensorflow:6 out of the last 6 calls to <function _BaseOptimizer._update_step_xla at 0x7f5f1c096700> triggered tf.function retracing. Tracing is expensive and the excessive number of tracings could be due to (1) creating @tf.function repeatedly in a loop, (2) passing tensors with different shapes, (3) passing Python objects instead of tensors. For (1), please define your @tf.function outside of the loop. For (2), @tf.function has reduce_retracing=True option that can avoid unnecessary retracing. For (3), please refer to https://www.tensorflow.org/guide/function#controlling_retracing and https://www.tensorflow.org/api_docs/python/tf/function for  more details.\n"
          ]
        },
        {
          "name": "stdout",
          "output_type": "stream",
          "text": [
            "Episode 10 Reward -500.00 Average Reward -444.70\n",
            "Episode 20 Reward -500.00 Average Reward -500.00\n",
            "Episode 30 Reward -500.00 Average Reward -468.90\n",
            "Episode 40 Reward -500.00 Average Reward -484.30\n",
            "Episode 50 Reward -411.00 Average Reward -431.20\n",
            "Episode 60 Reward -500.00 Average Reward -468.70\n",
            "Episode 70 Reward -500.00 Average Reward -498.60\n",
            "Episode 80 Reward -290.00 Average Reward -439.80\n"
          ]
        },
        {
          "data": {
            "text/plain": [
              "[<matplotlib.lines.Line2D at 0x7f5f3de7f610>]"
            ]
          },
          "execution_count": 13,
          "metadata": {},
          "output_type": "execute_result"
        },
        {
          "data": {
            "image/png": "[encoded data removed]",
            "text/plain": [
              "<Figure size 432x288 with 1 Axes>"
            ]
          },
          "metadata": {},
          "output_type": "display_data"
        }
      ],
      "source": [
        "base_conf = {\n",
        "    \"env\": \"Acrobot-v1\",\n",
        "    \"h\": np.inf,\n",
        "    \"lr\": 1e-4,\n",
        "    \"layer_sizes\": (1024, 512),\n",
        "    \"seeds\": (10, 12),\n",
        "    \"episodes\": 80,\n",
        "}\n",
        "\n",
        "tn, rn, sn = run_agent(Params(**base_conf), ret=True)\n",
        "plt.plot(rn)"
      ]
    },
    {
      "cell_type": "code",
      "execution_count": null,
      "metadata": {
        "colab": {
          "background_save": true,
          "base_uri": "https://localhost:8080/",
          "height": 609,
          "referenced_widgets": [
            "2d90c2ff818a4c468b3f26d0cdac0930",
            "d61ec56d80304d2196b694802dd580c7",
            "249f81ff930d4b6288dd4c44e1081f5b",
            "d6f0a9a23df44964bbdfef05364194e5",
            "3eedd1a339194c8982a4a66e4f37ba6c",
            "0da484a55614418980b8da3e4136574d",
            "3c81f4806aaf4a87850e578134ec6925",
            "c1741454203a4374940fdd4d1250b01b",
            "327571fd859044c786e59c89e529c1a1",
            "61456ef2c8ed46c6b96095b729c61325",
            "b3f489a308184a1d9e5415cdcce9123d"
          ]
        },
        "id": "t-BZvEFMAmq-",
        "outputId": "c6564d24-a544-4a0c-f04b-9e5949c3e61e"
      },
      "outputs": [
        {
          "data": {
            "application/vnd.jupyter.widget-view+json": {
              "model_id": "2d90c2ff818a4c468b3f26d0cdac0930",
              "version_major": 2,
              "version_minor": 0
            },
            "text/plain": [
              "Ep:   0%|          | 0/160 [00:00<?, ?it/s]"
            ]
          },
          "metadata": {},
          "output_type": "display_data"
        },
        {
          "name": "stdout",
          "output_type": "stream",
          "text": [
            "Episode 10 Reward -500.00 Average Reward -480.70\n",
            "Episode 20 Reward -500.00 Average Reward -500.00\n",
            "Episode 30 Reward -500.00 Average Reward -500.00\n",
            "Episode 40 Reward -500.00 Average Reward -500.00\n",
            "Episode 50 Reward -330.00 Average Reward -483.00\n",
            "Episode 60 Reward -500.00 Average Reward -500.00\n",
            "Episode 70 Reward -500.00 Average Reward -500.00\n",
            "Episode 80 Reward -500.00 Average Reward -500.00\n",
            "Episode 90 Reward -500.00 Average Reward -500.00\n",
            "Episode 100 Reward -500.00 Average Reward -480.90\n",
            "Episode 110 Reward -500.00 Average Reward -500.00\n",
            "Episode 120 Reward -500.00 Average Reward -500.00\n",
            "Episode 130 Reward -500.00 Average Reward -500.00\n",
            "Episode 140 Reward -500.00 Average Reward -500.00\n",
            "Episode 150 Reward -284.00 Average Reward -414.90\n",
            "Episode 160 Reward -500.00 Average Reward -497.00\n"
          ]
        },
        {
          "data": {
            "text/plain": [
              "[<matplotlib.lines.Line2D at 0x7f5f3de17ac0>]"
            ]
          },
          "execution_count": 14,
          "metadata": {},
          "output_type": "execute_result"
        },
        {
          "data": {
            "image/png": "[encoded data removed]",
            "text/plain": [
              "<Figure size 432x288 with 1 Axes>"
            ]
          },
          "metadata": {},
          "output_type": "display_data"
        }
      ],
      "source": [
        "base_conf = {\n",
        "    \"env\": \"Acrobot-v1\",\n",
        "    \"h\": np.inf,\n",
        "    \"lr\": 1e-3,\n",
        "    \"layer_sizes\": (1024, 512),\n",
        "    \"seeds\": (10, 12),\n",
        "    \"episodes\": 160,\n",
        "}\n",
        "\n",
        "tn, rn, sn = run_agent(Params(**base_conf), ret=True)\n",
        "plt.plot(rn)\n",
        "plt.plot(sn)"
      ]
    },
    {
      "cell_type": "code",
      "execution_count": null,
      "metadata": {
        "colab": {
          "background_save": true,
          "referenced_widgets": [
            "9f720f9b71934e6aa653efa41df17051"
          ]
        },
        "id": "Q-3jw0cj-a9Y",
        "outputId": "b54bcf10-d150-40fa-e8fd-76a00401ddcc"
      },
      "outputs": [
        {
          "data": {
            "application/vnd.jupyter.widget-view+json": {
              "model_id": "9f720f9b71934e6aa653efa41df17051",
              "version_major": 2,
              "version_minor": 0
            },
            "text/plain": [
              "Ep:   0%|          | 0/80 [00:00<?, ?it/s]"
            ]
          },
          "metadata": {},
          "output_type": "display_data"
        },
        {
          "name": "stdout",
          "output_type": "stream",
          "text": [
            "Episode 10 Reward -500.00 Average Reward -500.00\n",
            "Episode 20 Reward -500.00 Average Reward -500.00\n",
            "Episode 30 Reward -500.00 Average Reward -500.00\n",
            "Episode 40 Reward -500.00 Average Reward -500.00\n",
            "Episode 50 Reward -500.00 Average Reward -500.00\n",
            "Episode 60 Reward -500.00 Average Reward -500.00\n",
            "Episode 70 Reward -500.00 Average Reward -500.00\n",
            "Episode 80 Reward -500.00 Average Reward -500.00\n"
          ]
        },
        {
          "data": {
            "text/plain": [
              "[<matplotlib.lines.Line2D at 0x7f5eb26a2760>]"
            ]
          },
          "execution_count": 15,
          "metadata": {},
          "output_type": "execute_result"
        },
        {
          "data": {
            "image/png": "[encoded data removed]",
            "text/plain": [
              "<Figure size 432x288 with 1 Axes>"
            ]
          },
          "metadata": {},
          "output_type": "display_data"
        }
      ],
      "source": [
        "base_conf = {\n",
        "    \"env\": \"Acrobot-v1\",\n",
        "    \"h\": 20,\n",
        "    \"lr\": 1e-4,\n",
        "    \"layer_sizes\": (1024, 512),\n",
        "    \"seeds\": (10, 12),\n",
        "    \"episodes\": 80,\n",
        "}\n",
        "\n",
        "tn, rn, sn = run_agent(Params(**base_conf), ret=True)\n",
        "plt.plot(rn)"
      ]
    },
    {
      "cell_type": "code",
      "execution_count": null,
      "metadata": {
        "colab": {
          "background_save": true,
          "referenced_widgets": [
            "70d5308eb0924572876de6aeb1c1a39b"
          ]
        },
        "id": "K21ciY-Q-cOj",
        "outputId": "dbd1be85-d1a4-4899-cac8-121a604aee32"
      },
      "outputs": [
        {
          "data": {
            "application/vnd.jupyter.widget-view+json": {
              "model_id": "70d5308eb0924572876de6aeb1c1a39b",
              "version_major": 2,
              "version_minor": 0
            },
            "text/plain": [
              "Ep:   0%|          | 0/80 [00:00<?, ?it/s]"
            ]
          },
          "metadata": {},
          "output_type": "display_data"
        },
        {
          "name": "stdout",
          "output_type": "stream",
          "text": [
            "Episode 10 Reward -500.00 Average Reward -490.60\n",
            "Episode 20 Reward -500.00 Average Reward -500.00\n",
            "Episode 30 Reward -500.00 Average Reward -500.00\n",
            "Episode 40 Reward -500.00 Average Reward -500.00\n",
            "Episode 50 Reward -500.00 Average Reward -500.00\n",
            "Episode 60 Reward -500.00 Average Reward -500.00\n",
            "Episode 70 Reward -500.00 Average Reward -500.00\n",
            "Episode 80 Reward -500.00 Average Reward -500.00\n"
          ]
        },
        {
          "data": {
            "text/plain": [
              "[<matplotlib.lines.Line2D at 0x7f5eb2c3aa30>]"
            ]
          },
          "execution_count": 16,
          "metadata": {},
          "output_type": "execute_result"
        },
        {
          "data": {
            "image/png": "[encoded data removed]",
            "text/plain": [
              "<Figure size 432x288 with 1 Axes>"
            ]
          },
          "metadata": {},
          "output_type": "display_data"
        }
      ],
      "source": [
        "base_conf = {\n",
        "    \"env\": \"Acrobot-v1\",\n",
        "    \"h\": 100,\n",
        "    \"lr\": 1e-4,\n",
        "    \"layer_sizes\": (1024, 512),\n",
        "    \"seeds\": (10, 12),\n",
        "    \"episodes\": 80,\n",
        "}\n",
        "\n",
        "tn, rn, sn = run_agent(Params(**base_conf), ret=True)\n",
        "plt.plot(rn)"
      ]
    },
    {
      "cell_type": "code",
      "execution_count": null,
      "metadata": {
        "colab": {
          "background_save": true,
          "referenced_widgets": [
            "4b27c09810f64f46b1b24e983a58431a"
          ]
        },
        "id": "k4zboV_FIWXg",
        "outputId": "f2892f09-39b6-48c2-c7c9-23b57fd886bf"
      },
      "outputs": [
        {
          "data": {
            "application/vnd.jupyter.widget-view+json": {
              "model_id": "4b27c09810f64f46b1b24e983a58431a",
              "version_major": 2,
              "version_minor": 0
            },
            "text/plain": [
              "Ep:   0%|          | 0/80 [00:00<?, ?it/s]"
            ]
          },
          "metadata": {},
          "output_type": "display_data"
        },
        {
          "name": "stdout",
          "output_type": "stream",
          "text": [
            "Episode 10 Reward -500.00 Average Reward -500.00\n",
            "Episode 20 Reward -500.00 Average Reward -500.00\n",
            "Episode 30 Reward -500.00 Average Reward -500.00\n",
            "Episode 40 Reward -500.00 Average Reward -489.40\n",
            "Episode 50 Reward -491.00 Average Reward -490.70\n",
            "Episode 60 Reward -500.00 Average Reward -477.30\n",
            "Episode 70 Reward -500.00 Average Reward -497.30\n",
            "Episode 80 Reward -500.00 Average Reward -500.00\n"
          ]
        },
        {
          "data": {
            "text/plain": [
              "[<matplotlib.lines.Line2D at 0x7f5eb1d98bb0>]"
            ]
          },
          "execution_count": 17,
          "metadata": {},
          "output_type": "execute_result"
        },
        {
          "data": {
            "image/png": "[encoded data removed]",
            "text/plain": [
              "<Figure size 432x288 with 1 Axes>"
            ]
          },
          "metadata": {},
          "output_type": "display_data"
        }
      ],
      "source": [
        "base_conf = {\n",
        "    \"env\": \"Acrobot-v1\",\n",
        "    \"h\": np.inf,\n",
        "    \"lr\": 1e-4,\n",
        "    \"layer_sizes\": (2048, 1024),\n",
        "    \"seeds\": (10, 12),\n",
        "    \"episodes\": 80,\n",
        "}\n",
        "\n",
        "tn, rn, sn = run_agent(Params(**base_conf), ret=True)\n",
        "plt.plot(rn)"
      ]
    },
    {
      "cell_type": "code",
      "execution_count": null,
      "metadata": {
        "colab": {
          "background_save": true,
          "referenced_widgets": [
            "1a6956c8675e4d1c83b3dd726462e4f2"
          ]
        },
        "id": "kUXwblquIZg2",
        "outputId": "6c2529db-ef6e-47e1-cdaa-6f4076f627c1"
      },
      "outputs": [
        {
          "data": {
            "application/vnd.jupyter.widget-view+json": {
              "model_id": "1a6956c8675e4d1c83b3dd726462e4f2",
              "version_major": 2,
              "version_minor": 0
            },
            "text/plain": [
              "Ep:   0%|          | 0/80 [00:00<?, ?it/s]"
            ]
          },
          "metadata": {},
          "output_type": "display_data"
        },
        {
          "name": "stdout",
          "output_type": "stream",
          "text": [
            "Episode 10 Reward -371.00 Average Reward -487.10\n",
            "Episode 20 Reward -428.00 Average Reward -474.50\n",
            "Episode 30 Reward -500.00 Average Reward -500.00\n",
            "Episode 40 Reward -500.00 Average Reward -458.50\n",
            "Episode 50 Reward -361.00 Average Reward -433.60\n",
            "Episode 60 Reward -350.00 Average Reward -330.90\n",
            "Episode 70 Reward -305.00 Average Reward -343.10\n",
            "Episode 80 Reward -472.00 Average Reward -384.80\n"
          ]
        },
        {
          "data": {
            "text/plain": [
              "[<matplotlib.lines.Line2D at 0x7f5eb2c52f70>]"
            ]
          },
          "execution_count": 18,
          "metadata": {},
          "output_type": "execute_result"
        },
        {
          "data": {
            "image/png": "[encoded data removed]",
            "text/plain": [
              "<Figure size 432x288 with 1 Axes>"
            ]
          },
          "metadata": {},
          "output_type": "display_data"
        }
      ],
      "source": [
        "base_conf = {\n",
        "    \"env\": \"Acrobot-v1\",\n",
        "    \"h\": np.inf,\n",
        "    \"lr\": 1e-3,\n",
        "    \"layer_sizes\": (2048, 1024),\n",
        "    \"seeds\": (10, 12),\n",
        "    \"episodes\": 80,\n",
        "}\n",
        "\n",
        "tn, rn, sn = run_agent(Params(**base_conf), ret=True)\n",
        "plt.plot(rn)"
      ]
    },
    {
      "cell_type": "code",
      "execution_count": null,
      "metadata": {
        "id": "Rfs4VbP8IfwA"
      },
      "outputs": [],
      "source": [
        "base_conf = {\n",
        "    \"env\": 'Acrobot-v1',\n",
        "    \"h\": np.inf, \n",
        "    \"lr\": 1e-4, \n",
        "    \"layer_sizes\": (512, 256),\n",
        "    \"seeds\": (10, 12),uuu\n",
        "    \"episodes\": 80,\n",
        "}\n",
        "\n",
        "tn, rn, sn = run_agent(Params(**base_conf), ret=True)\n",
        "plt.plot(rn)"
      ]
    },
    {
      "cell_type": "code",
      "execution_count": null,
      "metadata": {
        "id": "Ih-12B8pIbmL"
      },
      "outputs": [],
      "source": [
        "base_conf = {\n",
        "    \"env\": \"Acrobot-v1\",\n",
        "    \"h\": np.inf,\n",
        "    \"lr\": 1e-3,\n",
        "    \"layer_sizes\": (2048, 1024),\n",
        "    \"seeds\": (10, 12),\n",
        "    \"episodes\": 80,\n",
        "}\n",
        "\n",
        "tn, rn, sn = run_agent(Params(**base_conf), ret=True)\n",
        "plt.plot(rn)"
      ]
    },
    {
      "cell_type": "code",
      "execution_count": null,
      "metadata": {
        "colab": {
          "base_uri": "https://localhost:8080/",
          "height": 430,
          "referenced_widgets": [
            "ea960df2344046b3828d3a7f07012695",
            "326c7017c6a847cfacc39ed9590daa6f",
            "79ff35aa8ec8472995ff69a254a5a0df",
            "c0ee78dc1f5d45c0811ac344b9ade1fc",
            "83f93f8cf7cd41f0ac13372e46f9b637",
            "4f0c3f2a3cb6471a92c480cc90a8574d",
            "746912310de4494d8029387be025518d",
            "5fa1deeb41ac43f187e1d55d169a3280",
            "1608e0db9a404d26a310b6400e815320",
            "33272273747d4571aff444342b1989e9",
            "4568afd7cbf44cc7947319dfd1bddd50"
          ]
        },
        "id": "sJCubVQQjC22",
        "outputId": "9cb427ac-6c71-44c5-a963-260825d3e48a"
      },
      "outputs": [
        {
          "data": {
            "application/vnd.jupyter.widget-view+json": {
              "model_id": "ea960df2344046b3828d3a7f07012695",
              "version_major": 2,
              "version_minor": 0
            },
            "text/plain": [
              "Ep:   0%|          | 0/80 [00:00<?, ?it/s]"
            ]
          },
          "metadata": {},
          "output_type": "display_data"
        },
        {
          "name": "stdout",
          "output_type": "stream",
          "text": [
            "Episode 10 Reward -500.00 Average Reward -500.00\n",
            "Episode 20 Reward -500.00 Average Reward -500.00\n",
            "Episode 30 Reward -500.00 Average Reward -500.00\n",
            "Episode 40 Reward -500.00 Average Reward -500.00\n",
            "Episode 50 Reward -500.00 Average Reward -500.00\n",
            "Episode 60 Reward -500.00 Average Reward -500.00\n",
            "Episode 70 Reward -500.00 Average Reward -500.00\n",
            "Episode 80 Reward -500.00 Average Reward -500.00\n"
          ]
        },
        {
          "data": {
            "text/plain": [
              "[<matplotlib.lines.Line2D at 0x7fa174254d30>]"
            ]
          },
          "execution_count": 19,
          "metadata": {},
          "output_type": "execute_result"
        },
        {
          "data": {
            "image/png": "[encoded data removed]",
            "text/plain": [
              "<Figure size 432x288 with 1 Axes>"
            ]
          },
          "metadata": {},
          "output_type": "display_data"
        }
      ],
      "source": [
        "base_conf = {\n",
        "    \"env\": \"Acrobot-v1\",\n",
        "    \"h\": 1,\n",
        "    \"lr\": 1e-4,\n",
        "    \"layer_sizes\": (1024, 512),\n",
        "    \"seeds\": (10, 12),\n",
        "    \"episodes\": 80,\n",
        "}\n",
        "\n",
        "tn, rn, sn = run_agent(Params(**base_conf), ret=True)\n",
        "plt.plot(rn)\n",
        "plt.plot(sn)"
      ]
    },
    {
      "cell_type": "code",
      "execution_count": null,
      "metadata": {
        "colab": {
          "base_uri": "https://localhost:8080/",
          "height": 462,
          "referenced_widgets": [
            "0bbc61673ca94951b5abba4130eade5a",
            "40c8e8eb7ad94b5a8c205baf0c188e4c",
            "bee2f3933efa4f888ef76bd495a2ee6b",
            "2272184dcce24ab69259bad6c35b1261",
            "0d277da9e0e349f5a9e5c7b29f63e841",
            "3dea6860d80145b4b0091911775ccfca",
            "f5f4ee93d3eb4ed5b9ce28a603950cc1",
            "00451ca84d2a4975b711a62382f19855",
            "33d6af8616214ea39f7aebb2f1e6a1a3",
            "a6faa6ed16414a77992acb8ba67c6b92",
            "99d9c19f66464983899c9624a1858bae"
          ]
        },
        "id": "uBUAnm8mjQwi",
        "outputId": "d8580fe9-b8c6-4c59-f6a5-ed1296f87716"
      },
      "outputs": [
        {
          "data": {
            "application/vnd.jupyter.widget-view+json": {
              "model_id": "0bbc61673ca94951b5abba4130eade5a",
              "version_major": 2,
              "version_minor": 0
            },
            "text/plain": [
              "Ep:   0%|          | 0/80 [00:00<?, ?it/s]"
            ]
          },
          "metadata": {},
          "output_type": "display_data"
        },
        {
          "name": "stdout",
          "output_type": "stream",
          "text": [
            "Episode 10 Reward 0.00 Average Reward 0.00\n",
            "Episode 20 Reward 0.00 Average Reward 0.00\n",
            "Episode 30 Reward 0.00 Average Reward 0.00\n",
            "Episode 40 Reward 0.00 Average Reward 0.00\n",
            "Episode 50 Reward 0.00 Average Reward 0.00\n",
            "Episode 60 Reward 0.00 Average Reward 0.00\n",
            "Episode 70 Reward 0.00 Average Reward 0.00\n",
            "Episode 80 Reward 0.00 Average Reward 0.00\n"
          ]
        },
        {
          "data": {
            "text/plain": [
              "[<matplotlib.lines.Line2D at 0x7fa15bb59220>]"
            ]
          },
          "execution_count": 57,
          "metadata": {},
          "output_type": "execute_result"
        },
        {
          "data": {
            "image/png": "[encoded data removed]",
            "text/plain": [
              "<Figure size 432x288 with 1 Axes>"
            ]
          },
          "metadata": {},
          "output_type": "display_data"
        }
      ],
      "source": [
        "base_conf = {\n",
        "    \"env\": \"MountainCar-v0\",\n",
        "    \"h\": np.inf,\n",
        "    \"lr\": 1e-4,\n",
        "    \"layer_sizes\": (1024, 512),\n",
        "    \"seeds\": (10, 12),\n",
        "    \"episodes\": 80,\n",
        "}\n",
        "\n",
        "tn, rn, sn = run_agent(Params(**base_conf), ret=True)\n",
        "plt.plot(rn)"
      ]
    },
    {
      "cell_type": "markdown",
      "source": [
        "## Run Set 2"
      ],
      "metadata": {
        "id": "1L4OS4nMzQ8F"
      }
    },
    {
      "cell_type": "code",
      "source": [
        "# Abhiyaan ac\n",
        "conf4 = {\n",
        "    \"env\": (\"MountainCar-v0\",),\n",
        "    \"h\": (\n",
        "        1,\n",
        "        30,\n",
        "        np.inf,\n",
        "    ),\n",
        "    \"lr\": (1e-5, 1e-4, 1e-3),\n",
        "    \"layer_sizes\": (\n",
        "        [2048, 1024],\n",
        "        [1024, 512],\n",
        "    ),\n",
        "    \"seeds\": (\n",
        "        (10, 12),\n",
        "        (55, 21),\n",
        "        (17, 31),\n",
        "        (21, 3),\n",
        "        (50, 40),\n",
        "        (23, 33),\n",
        "        (71, 93),\n",
        "        (99, 9),\n",
        "        (0, 0),\n",
        "        (77, 77),\n",
        "    ),\n",
        "    \"episodes\": (400,),\n",
        "}\n",
        "\n",
        "run_series(conf4, ep_max=200)"
      ],
      "metadata": {
        "id": "Tut1hhPky9mM"
      },
      "execution_count": null,
      "outputs": []
    },
    {
      "cell_type": "code",
      "source": [
        "# me19b177 ac\n",
        "conf4 = {\n",
        "    \"env\": (\"Acrobot-v1\",),\n",
        "    \"h\": (\n",
        "        1,\n",
        "        10,\n",
        "        30,\n",
        "        np.inf,\n",
        "    ),\n",
        "    \"lr\": (1e-5, 1e-4, 1e-3),\n",
        "    \"layer_sizes\": (\n",
        "        [2048, 1024],\n",
        "        [1024, 512],\n",
        "    ),\n",
        "    \"seeds\": (\n",
        "        (10, 12),\n",
        "        (55, 21),\n",
        "        (17, 31),\n",
        "        (21, 3),\n",
        "        (50, 40),\n",
        "        (23, 33),\n",
        "        (71, 93),\n",
        "        (99, 9),\n",
        "        (0, 0),\n",
        "        (77, 77),\n",
        "    ),\n",
        "    \"episodes\": (200,),\n",
        "}\n",
        "\n",
        "run_series(conf4)"
      ],
      "metadata": {
        "id": "pNBXKeO1y-tI"
      },
      "execution_count": null,
      "outputs": []
    },
    {
      "cell_type": "code",
      "source": [
        "# anudeep ac\n",
        "conf4 = {\n",
        "    \"env\": (\"CartPole-v1\",),\n",
        "    \"h\": (\n",
        "        1,\n",
        "        10,\n",
        "        30,\n",
        "        np.inf,\n",
        "    ),\n",
        "    \"lr\": (1e-5, 1e-4, 1e-3),\n",
        "    \"layer_sizes\": (\n",
        "        [2048, 1024],\n",
        "        [1024, 512],\n",
        "    ),\n",
        "    \"seeds\": (\n",
        "        (10, 12),\n",
        "        (55, 21),\n",
        "        (17, 31),\n",
        "        (21, 3),\n",
        "        (50, 40),\n",
        "        (23, 33),\n",
        "        (71, 93),\n",
        "        (99, 9),\n",
        "        (0, 0),\n",
        "        (77, 77),\n",
        "    ),\n",
        "    \"episodes\": (200,),\n",
        "}\n",
        "\n",
        "run_series(conf4)"
      ],
      "metadata": {
        "id": "anN0JqkDzK1-"
      },
      "execution_count": null,
      "outputs": []
    },
    {
      "cell_type": "code",
      "source": [
        "# suraj ac\n",
        "conf4 = {\n",
        "    \"env\": (\"CartPole-v1\",),\n",
        "    \"h\": (\n",
        "        1,\n",
        "        np.inf,\n",
        "    ),\n",
        "    \"lr\": (1e-4,),\n",
        "    \"layer_sizes\": ([2048, 1024],),\n",
        "    \"seeds\": (\n",
        "        (55, 21),\n",
        "        (17, 31),\n",
        "    ),\n",
        "    \"episodes\": (2000,),\n",
        "}\n",
        "\n",
        "run_series(conf4)"
      ],
      "metadata": {
        "colab": {
          "base_uri": "https://localhost:8080/",
          "height": 274,
          "referenced_widgets": [
            "b89fba202558431cac2ae19003fbfd5e",
            "f329ed6effdf4308bc229c89c487392d",
            "0e9cd8eea6d845f9b0448785bf952d9a",
            "202fb989641f41f098792b03e90a52ce",
            "06720b9b22254455be87cbf02e627025",
            "1a5f44357c584fa097017cc99ae66f41",
            "4666cb50113d4258a8103aea9a2ab009",
            "97a6fe2d11c24c28a3ed06663fcf7089",
            "62c4164a686e48519cec3765d3752da9",
            "b91a8a06d9444ad399407ca473bd0405",
            "512e31392b2344b6b3870263f4386679",
            "182512d223d24266a441c0c0bdf6c47a",
            "5432cbe56bc94c9591332c19ed63891b",
            "78d60a43d4bc4e24a94284ee515cbe0e",
            "58b98fd26bb34cafb80b6bba3126be40",
            "857776f9b0a149afa54150fba1fc1856",
            "8aa751fba7c444fd83fbb9550974db75",
            "abb5f95337b248579df9c642a4c09ce4",
            "d4741d3cdfd943f594ab76b8dbdd3aa4",
            "ed47add165004b61b55c876dbbaeccf8",
            "35201c595ef244699e0a1385b46dc5b4",
            "40ba1f0d2a0b46728ae2999038a629c8",
            "9781cd6a40ae4c3fb2e30f0c2f946e2d",
            "75cece2f73204c7d91ec122752308c3d",
            "e639744015eb4c1eb9875c968c5e613f",
            "06d46c587bcb483395a9769b87ad79c8",
            "078dceeb1d304c9da59da0b855000915",
            "57e51877fae9472eb492982fad07b75b",
            "3a4678153754495db977e50c93046f85",
            "824bc5f6de9c4e1da6072a483b059dec",
            "61b630ec3ceb44108975ceab3573049a",
            "4c0c13f262d74d2e96a100a31b34cf3e",
            "ba616ee68ae146a1861c0bdf54c6461f",
            "17bd95a3c5024e66b4810233d058e768",
            "cff441c5cedd44e980b6a76bb8852a26",
            "2593d1ad569c46cb8cbe14038d750a82",
            "fd4f882895ff4b289e7843450f0eda2d",
            "84b07f0e38504b1b9efaaa134c4504d4",
            "c25d88c9c05744e2b404e7d4f8b1b45e",
            "9c6e27c591f84e7baea9b77a0497237d",
            "cd61facaa0d14f6d8cb964ea995b8ffa",
            "452b166abe754de5ad4b2b2de7b5d36b",
            "7bd8077958de4aca8969af1c579fc857",
            "c0887c44041941c7b6728e23e24f72a0"
          ]
        },
        "id": "PIfq3cKFz7rc",
        "outputId": "bb951e71-db05-464f-f5f6-a7dbc3f55293"
      },
      "execution_count": null,
      "outputs": [
        {
          "output_type": "stream",
          "name": "stdout",
          "text": [
            "Running 4 configs\n"
          ]
        },
        {
          "output_type": "stream",
          "name": "stderr",
          "text": [
            "\rConf:   0%|          | 0/4 [00:00<?, ?it/s]"
          ]
        },
        {
          "output_type": "display_data",
          "data": {
            "text/plain": [
              "Ep:   0%|          | 0/2000 [00:00<?, ?it/s]"
            ],
            "application/vnd.jupyter.widget-view+json": {
              "version_major": 2,
              "version_minor": 0,
              "model_id": "b89fba202558431cac2ae19003fbfd5e"
            }
          },
          "metadata": {}
        },
        {
          "output_type": "stream",
          "name": "stderr",
          "text": [
            "\rConf:  25%|██▌       | 1/4 [59:48<2:59:26, 3588.76s/it]"
          ]
        },
        {
          "output_type": "display_data",
          "data": {
            "text/plain": [
              "Ep:   0%|          | 0/2000 [00:00<?, ?it/s]"
            ],
            "application/vnd.jupyter.widget-view+json": {
              "version_major": 2,
              "version_minor": 0,
              "model_id": "182512d223d24266a441c0c0bdf6c47a"
            }
          },
          "metadata": {}
        },
        {
          "output_type": "stream",
          "name": "stderr",
          "text": [
            "\rConf:  50%|█████     | 2/4 [2:21:47<2:25:42, 4371.30s/it]"
          ]
        },
        {
          "output_type": "display_data",
          "data": {
            "text/plain": [
              "Ep:   0%|          | 0/2000 [00:00<?, ?it/s]"
            ],
            "application/vnd.jupyter.widget-view+json": {
              "version_major": 2,
              "version_minor": 0,
              "model_id": "9781cd6a40ae4c3fb2e30f0c2f946e2d"
            }
          },
          "metadata": {}
        },
        {
          "output_type": "stream",
          "name": "stderr",
          "text": [
            "\rConf:  75%|███████▌  | 3/4 [2:37:32<46:46, 2806.68s/it]  "
          ]
        },
        {
          "output_type": "display_data",
          "data": {
            "text/plain": [
              "Ep:   0%|          | 0/2000 [00:00<?, ?it/s]"
            ],
            "application/vnd.jupyter.widget-view+json": {
              "version_major": 2,
              "version_minor": 0,
              "model_id": "17bd95a3c5024e66b4810233d058e768"
            }
          },
          "metadata": {}
        },
        {
          "output_type": "stream",
          "name": "stderr",
          "text": [
            "Conf: 100%|██████████| 4/4 [2:48:39<00:00, 2529.76s/it]"
          ]
        },
        {
          "output_type": "stream",
          "name": "stdout",
          "text": [
            "done\n"
          ]
        },
        {
          "output_type": "stream",
          "name": "stderr",
          "text": [
            "\n"
          ]
        }
      ]
    },
    {
      "cell_type": "code",
      "source": [
        "# suraj ac\n",
        "conf4 = {\n",
        "    \"env\": (\"Acrobot-v1\",),\n",
        "    \"h\": (np.inf,),\n",
        "    \"lr\": (1e-44,),\n",
        "    \"layer_sizes\": ([2048, 1024],),\n",
        "    \"seeds\": (\n",
        "        (55, 21),\n",
        "        (17, 31),\n",
        "    ),\n",
        "    \"episodes\": (5000,),\n",
        "}\n",
        "\n",
        "run_series(conf4)"
      ],
      "metadata": {
        "colab": {
          "base_uri": "https://localhost:8080/",
          "height": 86,
          "referenced_widgets": [
            "064ab0e679d8400b9d5c02202c8b06ca",
            "eddb622a8c13479b981226221e0bba05",
            "7b5d82c46eab43588c1ca14679716185",
            "2f2e0d71620e4b31b91758c24b6b4c74",
            "8ad2d2be183f4f619baad4b32cccd7ec",
            "faa77b3a867f489d8091263db46a137f",
            "2153bea46a9a48aea81bd063010094f8",
            "378fdc6659054aa4b0ad690f88787873",
            "d7df9e9cfdda40fcb6869efbc2035764",
            "fca76e88354243b0bca9ebf2c34c5f9c",
            "c958e07f3a9f47c5a46cad0f1a558126"
          ]
        },
        "id": "Vc7pKi6n0PRx",
        "outputId": "120dccef-a532-46aa-8b54-24297106e7f8"
      },
      "execution_count": null,
      "outputs": [
        {
          "output_type": "stream",
          "name": "stdout",
          "text": [
            "Running 2 configs\n"
          ]
        },
        {
          "output_type": "stream",
          "name": "stderr",
          "text": [
            "\rConf:   0%|          | 0/2 [00:00<?, ?it/s]"
          ]
        },
        {
          "output_type": "display_data",
          "data": {
            "text/plain": [
              "Ep:   0%|          | 0/5000 [00:00<?, ?it/s]"
            ],
            "application/vnd.jupyter.widget-view+json": {
              "version_major": 2,
              "version_minor": 0,
              "model_id": "064ab0e679d8400b9d5c02202c8b06ca"
            }
          },
          "metadata": {}
        }
      ]
    },
    {
      "cell_type": "code",
      "source": [
        "# suraj ac\n",
        "conf4 = {\n",
        "    \"env\": (\"MountainCar-v0\",),\n",
        "    \"h\": (np.inf,),\n",
        "    \"lr\": (1e-4,),\n",
        "    \"layer_sizes\": ([2048, 1024],),\n",
        "    \"seeds\": (\n",
        "        (55, 21),\n",
        "        (17, 31),\n",
        "    ),\n",
        "    \"episodes\": (5000,),\n",
        "}\n",
        "\n",
        "run_series(conf4)"
      ],
      "metadata": {
        "id": "WeWV_P8Z4zm5"
      },
      "execution_count": null,
      "outputs": []
    },
    {
      "cell_type": "code",
      "source": [
        "# suraj ac\n",
        "conf4 = {\n",
        "    \"env\": (\"MountainCar-v0\",),\n",
        "    \"h\": (np.inf,),\n",
        "    \"lr\": (1e-3,),\n",
        "    \"layer_sizes\": ([2048, 1024],),\n",
        "    \"seeds\": ((9, 28),),\n",
        "    \"episodes\": (1000,),\n",
        "}\n",
        "\n",
        "run_series(conf4)"
      ],
      "metadata": {
        "id": "r9Qs1Tn6yX-w"
      },
      "execution_count": null,
      "outputs": []
    },
    {
      "cell_type": "code",
      "source": [
        "# suraj ac\n",
        "conf4 = {\n",
        "    \"env\": (\"MountainCar-v0\",),\n",
        "    \"h\": (np.inf,),\n",
        "    \"lr\": (1e-4,),\n",
        "    \"layer_sizes\": ([2048, 1024],),\n",
        "    \"seeds\": (\n",
        "        (55, 21),\n",
        "        (17, 31),\n",
        "    ),\n",
        "    \"episodes\": (500,),\n",
        "}\n",
        "\n",
        "run_series(conf4, reset_graph=True)"
      ],
      "metadata": {
        "id": "fVtqv2fwyZY2",
        "colab": {
          "base_uri": "https://localhost:8080/",
          "height": 193,
          "referenced_widgets": [
            "ff4d12707ab14bfd9e2d8eade126a16e",
            "a8f502d20dae4a9a9f9657d291b6d004",
            "a35afeb3a6894022a3b1d0a6a72482fa",
            "e4639155cecb482794fa66927d6642fa",
            "0f6f97c555954824ac0903c10a48de94",
            "a3174fb05dd248cdb6a08c20c712785f",
            "e8ec6fcfabd44ed9ae07cf98a79038c4",
            "d38b83f9d4bf4d5fa27897053748e56b",
            "7dfd33d16c734424aa4734fa40c5d247",
            "199004d334b54a438ac9fe566161cc19",
            "dd81949fa3c843d48beedf06aeb1416e",
            "f7cf01da73b8460db60cf087c6743c40",
            "ef6da399ef564443a9d85bbd72aa0b25",
            "e0b7fed8e25545a385be160a964a82da",
            "99f52d3430534880a01da9557742bc03",
            "816d28b338484d11879a5b7bebee5283",
            "25e7ec543ac44cb7b28cce87bc13a925",
            "9a8529514d794f40a29f70cda926b058",
            "c641db16a2e34ef694f245c5f23d76a9",
            "22c6102e511545f09086155b4624b2a8",
            "a0f09404935a4ba6864ca27015cabcec",
            "30235253e36b40fe935dc32e6720f24d"
          ]
        },
        "outputId": "f4afa508-5ab4-453e-e4ea-38176f955af4"
      },
      "execution_count": null,
      "outputs": [
        {
          "output_type": "stream",
          "name": "stdout",
          "text": [
            "Running 2 configs\n"
          ]
        },
        {
          "output_type": "stream",
          "name": "stderr",
          "text": [
            "\rConf:   0%|          | 0/2 [00:00<?, ?it/s]"
          ]
        },
        {
          "output_type": "display_data",
          "data": {
            "text/plain": [
              "Ep:   0%|          | 0/500 [00:00<?, ?it/s]"
            ],
            "application/vnd.jupyter.widget-view+json": {
              "version_major": 2,
              "version_minor": 0,
              "model_id": "ff4d12707ab14bfd9e2d8eade126a16e"
            }
          },
          "metadata": {}
        },
        {
          "output_type": "stream",
          "name": "stderr",
          "text": [
            "WARNING:tensorflow:5 out of the last 5 calls to <function _BaseOptimizer._update_step_xla at 0x7ffa6fc24ee0> triggered tf.function retracing. Tracing is expensive and the excessive number of tracings could be due to (1) creating @tf.function repeatedly in a loop, (2) passing tensors with different shapes, (3) passing Python objects instead of tensors. For (1), please define your @tf.function outside of the loop. For (2), @tf.function has reduce_retracing=True option that can avoid unnecessary retracing. For (3), please refer to https://www.tensorflow.org/guide/function#controlling_retracing and https://www.tensorflow.org/api_docs/python/tf/function for  more details.\n",
            "WARNING:tensorflow:6 out of the last 6 calls to <function _BaseOptimizer._update_step_xla at 0x7ffa6fc24ee0> triggered tf.function retracing. Tracing is expensive and the excessive number of tracings could be due to (1) creating @tf.function repeatedly in a loop, (2) passing tensors with different shapes, (3) passing Python objects instead of tensors. For (1), please define your @tf.function outside of the loop. For (2), @tf.function has reduce_retracing=True option that can avoid unnecessary retracing. For (3), please refer to https://www.tensorflow.org/guide/function#controlling_retracing and https://www.tensorflow.org/api_docs/python/tf/function for  more details.\n",
            "Conf:  50%|█████     | 1/2 [27:14<27:14, 1634.21s/it]"
          ]
        },
        {
          "output_type": "display_data",
          "data": {
            "text/plain": [
              "Ep:   0%|          | 0/500 [00:00<?, ?it/s]"
            ],
            "application/vnd.jupyter.widget-view+json": {
              "version_major": 2,
              "version_minor": 0,
              "model_id": "f7cf01da73b8460db60cf087c6743c40"
            }
          },
          "metadata": {}
        }
      ]
    },
    {
      "cell_type": "code",
      "source": [
        "import ctypes\n",
        "\n",
        "libc = ctypes.CDLL(\"libc.so.6\")  # clearing cache\n",
        "libc.malloc_trim(0)"
      ],
      "metadata": {
        "colab": {
          "base_uri": "https://localhost:8080/"
        },
        "id": "Kb5WPqq8FZao",
        "outputId": "7741eb70-f7d2-4948-efe1-e9cc095cbb56"
      },
      "execution_count": null,
      "outputs": [
        {
          "output_type": "execute_result",
          "data": {
            "text/plain": [
              "1"
            ]
          },
          "metadata": {},
          "execution_count": 21
        }
      ]
    },
    {
      "cell_type": "code",
      "source": [],
      "metadata": {
        "colab": {
          "base_uri": "https://localhost:8080/"
        },
        "id": "_Y2Ratp5JZuG",
        "outputId": "740695d0-68ac-4b05-eba0-4c155cb03130"
      },
      "execution_count": null,
      "outputs": [
        {
          "output_type": "execute_result",
          "data": {
            "text/plain": [
              "0"
            ]
          },
          "metadata": {},
          "execution_count": 19
        }
      ]
    },
    {
      "cell_type": "code",
      "source": [
        "# suraj ac\n",
        "conf4 = {\n",
        "    \"env\": (\"MountainCar-v0\",),\n",
        "    \"h\": (50,),\n",
        "    \"lr\": (1e-4,),\n",
        "    \"layer_sizes\": ([2048, 1024],),\n",
        "    \"seeds\": (\n",
        "        (55, 21),\n",
        "        (17, 31),\n",
        "    ),\n",
        "    \"episodes\": (500,),\n",
        "}\n",
        "\n",
        "run_series(conf4, reset_graph=100)"
      ],
      "metadata": {
        "id": "MGLOn-YvBtc6"
      },
      "execution_count": null,
      "outputs": []
    },
    {
      "cell_type": "markdown",
      "metadata": {
        "id": "OCZu6--bvRzb"
      },
      "source": [
        "## Run Set 3"
      ]
    },
    {
      "cell_type": "markdown",
      "metadata": {
        "id": "8ZcrRU8kFU-5"
      },
      "source": [
        "### H-Values"
      ]
    },
    {
      "cell_type": "code",
      "execution_count": null,
      "metadata": {
        "id": "ECiiO9-jJVVY"
      },
      "outputs": [],
      "source": [
        "base_conf = {\n",
        "    \"h\": 1,\n",
        "    \"lr\": 1e-4,\n",
        "    \"layer_sizes\": [1024, 512],\n",
        "    \"seeds\": (10, 12),\n",
        "}\n",
        "tn, rn, sn = run_agent(Params(**base_conf), ret=True, ep_max=80)\n",
        "plt.plot(rn)"
      ]
    },
    {
      "cell_type": "code",
      "execution_count": null,
      "metadata": {
        "id": "ZtDfjnHQ7ma1"
      },
      "outputs": [],
      "source": [
        "base_conf = {\n",
        "    \"h\": 2,\n",
        "    \"lr\": 1e-4,\n",
        "    \"layer_sizes\": [1024, 512],\n",
        "    \"seeds\": (10, 12),\n",
        "}\n",
        "tn, rn, sn = run_agent(Params(**base_conf), ret=True, ep_max=80)\n",
        "plt.plot(rn)"
      ]
    },
    {
      "cell_type": "code",
      "execution_count": null,
      "metadata": {
        "id": "0rIHgirGQ7Ul"
      },
      "outputs": [],
      "source": [
        "base_conf = {\n",
        "    \"h\": 10,\n",
        "    \"lr\": 1e-4,\n",
        "    \"layer_sizes\": [1024, 512],\n",
        "    \"seeds\": (10, 12),\n",
        "}\n",
        "tn, rn, sn = run_agent(Params(**base_conf), ret=True, ep_max=80)\n",
        "plt.plot(rn)"
      ]
    },
    {
      "cell_type": "code",
      "execution_count": null,
      "metadata": {
        "id": "-za9x4izSTAN"
      },
      "outputs": [],
      "source": [
        "plt.plot(sn)"
      ]
    },
    {
      "cell_type": "code",
      "execution_count": null,
      "metadata": {
        "id": "ISy2TqlTE5ho"
      },
      "outputs": [],
      "source": [
        "base_conf = {\n",
        "    \"h\": 2,\n",
        "    \"lr\": 1e-4,\n",
        "    \"layer_sizes\": [1024, 512],\n",
        "    \"seeds\": (10, 12),\n",
        "}\n",
        "run_agent(Params(**base_conf))"
      ]
    },
    {
      "cell_type": "code",
      "execution_count": null,
      "metadata": {
        "id": "x2kEM2l4E6B7"
      },
      "outputs": [],
      "source": [
        "base_conf = {\n",
        "    \"h\": 5,\n",
        "    \"lr\": 1e-4,\n",
        "    \"layer_sizes\": [1024, 512],\n",
        "    \"seeds\": (10, 12),\n",
        "}\n",
        "run_agent(Params(**base_conf))"
      ]
    },
    {
      "cell_type": "code",
      "execution_count": null,
      "metadata": {
        "id": "hRAMBvqyE8sQ"
      },
      "outputs": [],
      "source": [
        "base_conf = {\n",
        "    \"h\": 10,\n",
        "    \"lr\": 1e-4,\n",
        "    \"layer_sizes\": [1024, 512],\n",
        "    \"seeds\": (10, 12),\n",
        "}\n",
        "run_agent(Params(**base_conf))"
      ]
    },
    {
      "cell_type": "code",
      "execution_count": null,
      "metadata": {
        "id": "xVXnrasCE9x5"
      },
      "outputs": [],
      "source": [
        "base_conf = {\n",
        "    \"h\": np.inf,\n",
        "    \"lr\": 1e-4,\n",
        "    \"layer_sizes\": [1024, 512],\n",
        "    \"seeds\": (10, 12),\n",
        "}\n",
        "run_agent(Params(**base_conf))"
      ]
    },
    {
      "cell_type": "markdown",
      "metadata": {
        "id": "ebdAVnEeFdeI"
      },
      "source": [
        "### Wide H-Values"
      ]
    },
    {
      "cell_type": "code",
      "execution_count": null,
      "metadata": {
        "id": "lA7pN1q_FdeJ"
      },
      "outputs": [],
      "source": [
        "base_conf = {\n",
        "    \"h\": 1,\n",
        "    \"lr\": 1e-4,\n",
        "    \"layer_sizes\": [2048, 1024],\n",
        "    \"seeds\": (10, 12),\n",
        "}\n",
        "run_agent(Params(**base_conf))"
      ]
    },
    {
      "cell_type": "code",
      "execution_count": null,
      "metadata": {
        "id": "9yy35gd2FdeJ"
      },
      "outputs": [],
      "source": [
        "base_conf = {\n",
        "    \"h\": 2,\n",
        "    \"lr\": 1e-4,\n",
        "    \"layer_sizes\": [2048, 1024],\n",
        "    \"seeds\": (10, 12),\n",
        "}\n",
        "run_agent(Params(**base_conf))"
      ]
    },
    {
      "cell_type": "code",
      "execution_count": null,
      "metadata": {
        "id": "YiZTk0gYFdeJ"
      },
      "outputs": [],
      "source": [
        "base_conf = {\n",
        "    \"h\": 5,\n",
        "    \"lr\": 1e-4,\n",
        "    \"layer_sizes\": [2048, 1024],\n",
        "    \"seeds\": (10, 12),\n",
        "}\n",
        "run_agent(Params(**base_conf))"
      ]
    },
    {
      "cell_type": "code",
      "execution_count": null,
      "metadata": {
        "id": "yEI2cEQ5FdeJ"
      },
      "outputs": [],
      "source": [
        "base_conf = {\n",
        "    \"h\": 10,\n",
        "    \"lr\": 1e-4,\n",
        "    \"layer_sizes\": [2048, 1024],\n",
        "    \"seeds\": (10, 12),\n",
        "}\n",
        "run_agent(Params(**base_conf))"
      ]
    },
    {
      "cell_type": "code",
      "execution_count": null,
      "metadata": {
        "id": "Qk1A_FjUFdeJ"
      },
      "outputs": [],
      "source": [
        "base_conf = {\n",
        "    \"h\": np.inf,\n",
        "    \"lr\": 1e-4,\n",
        "    \"layer_sizes\": [2048, 1024],\n",
        "    \"seeds\": (10, 12),\n",
        "}\n",
        "run_agent(Params(**base_conf))"
      ]
    },
    {
      "cell_type": "markdown",
      "metadata": {
        "id": "ZZrBSxq4FYlm"
      },
      "source": [
        "### Other test"
      ]
    },
    {
      "cell_type": "code",
      "execution_count": null,
      "metadata": {
        "id": "IEOqk41CLdcw"
      },
      "outputs": [],
      "source": [
        "base_conf = {\n",
        "    \"h\": 1,\n",
        "    \"lr\": 1e-4,\n",
        "    \"layer_sizes\": [2048, 1024],\n",
        "    \"seeds\": (10, 12),\n",
        "}\n",
        "run_agent(Params(**base_conf))"
      ]
    },
    {
      "cell_type": "code",
      "execution_count": null,
      "metadata": {
        "id": "dLx__QhmIYHx"
      },
      "outputs": [],
      "source": [
        "base_conf = {\n",
        "    \"h\": 1,\n",
        "    \"lr\": 1e-4,\n",
        "    \"layer_sizes\": [2048, 1024],\n",
        "    \"seeds\": (10, 12),\n",
        "}\n",
        "run_agent(Params(**base_conf), override_to_n=True)"
      ]
    },
    {
      "cell_type": "code",
      "execution_count": null,
      "metadata": {
        "id": "N8nQuUPPQ59y"
      },
      "outputs": [],
      "source": [
        "base_conf = {\n",
        "    \"h\": 10,\n",
        "    \"lr\": 1e-4,\n",
        "    \"layer_sizes\": [2048, 1024],\n",
        "    \"seeds\": (10, 12),\n",
        "}\n",
        "run_agent(Params(**base_conf))"
      ]
    },
    {
      "cell_type": "code",
      "execution_count": null,
      "metadata": {
        "id": "N3k8P9g2O6iH"
      },
      "outputs": [],
      "source": [
        "base_conf = {\n",
        "    \"h\": np.inf,\n",
        "    \"lr\": 1e-4,\n",
        "    \"layer_sizes\": [1024, 512],\n",
        "    \"seeds\": (10, 12),\n",
        "}\n",
        "run_agent(Params(**base_conf), override_to_n=True)"
      ]
    },
    {
      "cell_type": "code",
      "execution_count": null,
      "metadata": {
        "id": "GGva7G51S_Xy"
      },
      "outputs": [],
      "source": [
        "base_conf = {\n",
        "    \"h\": np.inf,\n",
        "    \"lr\": 1e-4,\n",
        "    \"layer_sizes\": [256, 128],\n",
        "    \"seeds\": (10, 12),\n",
        "}\n",
        "run_agent(Params(**base_conf), override_to_n=True)"
      ]
    },
    {
      "cell_type": "markdown",
      "metadata": {
        "id": "1wAoP1n48H0Z"
      },
      "source": [
        "### Network Shape"
      ]
    },
    {
      "cell_type": "markdown",
      "metadata": {
        "id": "8B4DDvN_HjCu"
      },
      "source": [
        "#### Run the Base Configs"
      ]
    },
    {
      "cell_type": "code",
      "execution_count": null,
      "metadata": {
        "id": "hC3OpJDbEnAu"
      },
      "outputs": [],
      "source": [
        "base_configs = {\n",
        "    \"h\": (1,),\n",
        "    \"lr\": (1e-4,),\n",
        "    \"layer_sizes\": ([1024, 512],),\n",
        "    \"seeds\": (\n",
        "        (10, 12),\n",
        "        (55, 21),\n",
        "        (17, 31),\n",
        "        (21, 3),\n",
        "        (50, 40),\n",
        "        (23, 33),\n",
        "        (71, 93),\n",
        "        (99, 9),\n",
        "        (0, 0),\n",
        "        (77, 77),\n",
        "    ),\n",
        "}\n",
        "\n",
        "run_series(base_configs)"
      ]
    },
    {
      "cell_type": "code",
      "execution_count": null,
      "metadata": {
        "id": "x4-P7oouSuav"
      },
      "outputs": [],
      "source": [
        "!ls {root_dir}"
      ]
    },
    {
      "cell_type": "markdown",
      "metadata": {
        "id": "5eDkJLuBSvza"
      },
      "source": [
        "#### Run a wider network"
      ]
    },
    {
      "cell_type": "code",
      "execution_count": null,
      "metadata": {
        "id": "CUdoC4maSxlv"
      },
      "outputs": [],
      "source": [
        "wide_configs = {\n",
        "    \"h\": (1,),\n",
        "    \"lr\": (1e-4,),\n",
        "    \"layer_sizes\": ([2048, 1024],),\n",
        "    \"seeds\": (\n",
        "        (10, 12),\n",
        "        (55, 21),\n",
        "        (17, 31),\n",
        "        (21, 3),\n",
        "        (50, 40),\n",
        "        (23, 33),\n",
        "        (71, 93),\n",
        "        (99, 9),\n",
        "        (0, 0),\n",
        "        (77, 77),\n",
        "    ),\n",
        "}\n",
        "\n",
        "run_series(wide_configs)"
      ]
    },
    {
      "cell_type": "markdown",
      "metadata": {
        "id": "dnVsCJBZS4q6"
      },
      "source": [
        "#### Run a narrower network"
      ]
    },
    {
      "cell_type": "code",
      "execution_count": null,
      "metadata": {
        "id": "WMck2zhWS4q6"
      },
      "outputs": [],
      "source": [
        "narrow_configs = {\n",
        "    \"h\": (1,),\n",
        "    \"lr\": (1e-4,),\n",
        "    \"layer_sizes\": ([512, 256],),\n",
        "    \"seeds\": (\n",
        "        (10, 12),\n",
        "        (55, 21),\n",
        "        (17, 31),\n",
        "        (21, 3),\n",
        "        (50, 40),\n",
        "        (23, 33),\n",
        "        (71, 93),\n",
        "        (99, 9),\n",
        "        (0, 0),\n",
        "        (77, 77),\n",
        "    ),\n",
        "}\n",
        "\n",
        "run_series(narrow_configs)"
      ]
    },
    {
      "cell_type": "markdown",
      "metadata": {
        "id": "XCaZ9VLsYMXw"
      },
      "source": [
        "#### Run on a Deeper"
      ]
    },
    {
      "cell_type": "code",
      "execution_count": null,
      "metadata": {
        "id": "etAtJV9DYOUl"
      },
      "outputs": [],
      "source": [
        "deep_config = {\n",
        "    \"h\": (1,),\n",
        "    \"lr\": (1e-4,),\n",
        "    \"layer_sizes\": ([1024, 512, 512],),\n",
        "    \"seeds\": (\n",
        "        (10, 12),\n",
        "        (55, 21),\n",
        "        (17, 31),\n",
        "        (21, 3),\n",
        "        (50, 40),\n",
        "        (23, 33),\n",
        "        (71, 93),\n",
        "        (99, 9),\n",
        "        (0, 0),\n",
        "        (77, 77),\n",
        "    ),\n",
        "}\n",
        "\n",
        "run_series(deep_config)"
      ]
    },
    {
      "cell_type": "markdown",
      "metadata": {
        "id": "Q96jijmsYTPu"
      },
      "source": [
        "#### Run on a Deeper Narrow"
      ]
    },
    {
      "cell_type": "code",
      "execution_count": null,
      "metadata": {
        "id": "YDnmeaVdYTPv"
      },
      "outputs": [],
      "source": [
        "deep_nar_config = {\n",
        "    \"h\": (1,),\n",
        "    \"lr\": (1e-4,),\n",
        "    \"layer_sizes\": ([512, 256, 256],),\n",
        "    \"seeds\": (\n",
        "        (10, 12),\n",
        "        (55, 21),\n",
        "        (17, 31),\n",
        "        (21, 3),\n",
        "        (50, 40),\n",
        "        (23, 33),\n",
        "        (71, 93),\n",
        "        (99, 9),\n",
        "        (0, 0),\n",
        "        (77, 77),\n",
        "    ),\n",
        "}\n",
        "\n",
        "run_series(deep_nar_config)"
      ]
    },
    {
      "cell_type": "markdown",
      "metadata": {
        "id": "o5wJ8ZREqPmx"
      },
      "source": [
        "#### Very Shallow"
      ]
    },
    {
      "cell_type": "code",
      "execution_count": null,
      "metadata": {
        "id": "KT2_JZSbqRSk"
      },
      "outputs": [],
      "source": [
        "shallowest_conf = {\n",
        "    \"h\": (1,),\n",
        "    \"lr\": (1e-4,),\n",
        "    \"layer_sizes\": (\n",
        "        [\n",
        "            1024,\n",
        "        ],\n",
        "    ),\n",
        "    \"seeds\": (\n",
        "        (10, 12),\n",
        "        (55, 21),\n",
        "        (17, 31),\n",
        "        (21, 3),\n",
        "        (50, 40),\n",
        "        (23, 33),\n",
        "        (71, 93),\n",
        "        (99, 9),\n",
        "        (0, 0),\n",
        "        (77, 77),\n",
        "    ),\n",
        "}\n",
        "\n",
        "run_series(shallowest_conf)"
      ]
    },
    {
      "cell_type": "markdown",
      "metadata": {
        "id": "bWX4cJAk8PGI"
      },
      "source": [
        "### Learning Rate"
      ]
    },
    {
      "cell_type": "markdown",
      "metadata": {
        "id": "9OenWMs38TEm"
      },
      "source": [
        "For this set of runs, the number of episodes has been reduced to 125"
      ]
    },
    {
      "cell_type": "code",
      "execution_count": null,
      "metadata": {
        "id": "VT7WUE-R8U19"
      },
      "outputs": [],
      "source": [
        "conf1 = {\n",
        "    \"h\": (1,),\n",
        "    \"lr\": (1e-4,),\n",
        "    \"layer_sizes\": ([2048, 1024],),\n",
        "    \"seeds\": (\n",
        "        (10, 12),\n",
        "        (55, 21),\n",
        "        (17, 31),\n",
        "        (21, 3),\n",
        "        (50, 40),\n",
        "        (23, 33),\n",
        "        (71, 93),\n",
        "        (99, 9),\n",
        "        (0, 0),\n",
        "        (77, 77),\n",
        "    ),\n",
        "}\n",
        "\n",
        "run_series(conf1, ep_max=200)"
      ]
    },
    {
      "cell_type": "code",
      "execution_count": null,
      "metadata": {
        "id": "RLdoHhS_8aAI"
      },
      "outputs": [],
      "source": [
        "conf2 = {\n",
        "    \"h\": (1,),\n",
        "    \"lr\": (5e-4,),\n",
        "    \"layer_sizes\": ([2048, 1024],),\n",
        "    \"seeds\": (\n",
        "        (10, 12),\n",
        "        (55, 21),\n",
        "        (17, 31),\n",
        "        (21, 3),\n",
        "        (50, 40),\n",
        "        (23, 33),\n",
        "        (71, 93),\n",
        "        (99, 9),\n",
        "        (0, 0),\n",
        "        (77, 77),\n",
        "    ),\n",
        "}\n",
        "\n",
        "run_series(conf2, ep_max=200)"
      ]
    },
    {
      "cell_type": "code",
      "execution_count": null,
      "metadata": {
        "id": "JQonHHMm8aT0"
      },
      "outputs": [],
      "source": [
        "conf3 = {\n",
        "    \"h\": (1,),\n",
        "    \"lr\": (1e-3,),\n",
        "    \"layer_sizes\": ([2048, 1024],),\n",
        "    \"seeds\": (\n",
        "        (10, 12),\n",
        "        (55, 21),\n",
        "        (17, 31),\n",
        "        (21, 3),\n",
        "        (50, 40),\n",
        "        (23, 33),\n",
        "        (71, 93),\n",
        "        (99, 9),\n",
        "        (0, 0),\n",
        "        (77, 77),\n",
        "    ),\n",
        "}\n",
        "\n",
        "run_series(conf3, ep_max=200)"
      ]
    },
    {
      "cell_type": "code",
      "execution_count": null,
      "metadata": {
        "id": "5GYdUvw28bxX"
      },
      "outputs": [],
      "source": [
        "conf4 = {\n",
        "    \"h\": (1,),\n",
        "    \"lr\": (1e-5,),\n",
        "    \"layer_sizes\": ([2048, 1024],),\n",
        "    \"seeds\": (\n",
        "        (10, 12),\n",
        "        (55, 21),\n",
        "        (17, 31),\n",
        "        (21, 3),\n",
        "        (50, 40),\n",
        "        (23, 33),\n",
        "        (71, 93),\n",
        "        (99, 9),\n",
        "        (0, 0),\n",
        "        (77, 77),\n",
        "    ),\n",
        "}\n",
        "\n",
        "run_series(conf4, ep_max=200)"
      ]
    }
  ],
  "metadata": {
    "accelerator": "GPU",
    "colab": {
      "collapsed_sections": [
        "q5IRKRic_XBP",
        "0v3xLAumMmXj",
        "fxwOTFMOMqAC",
        "bYW3bhav21Ub",
        "bpZyP0aFMr1J",
        "WOVAniphh_7t",
        "1L4OS4nMzQ8F",
        "8ZcrRU8kFU-5",
        "ebdAVnEeFdeI",
        "ZZrBSxq4FYlm",
        "1wAoP1n48H0Z",
        "8B4DDvN_HjCu",
        "5eDkJLuBSvza",
        "dnVsCJBZS4q6",
        "XCaZ9VLsYMXw",
        "Q96jijmsYTPu",
        "o5wJ8ZREqPmx",
        "bWX4cJAk8PGI"
      ],
      "provenance": []
    },
    "kernelspec": {
      "display_name": "Python 3 (ipykernel)",
      "language": "python",
      "name": "python3"
    },
    "language_info": {
      "codemirror_mode": {
        "name": "ipython",
        "version": 3
      },
      "file_extension": ".py",
      "mimetype": "text/x-python",
      "name": "python",
      "nbconvert_exporter": "python",
      "pygments_lexer": "ipython3",
      "version": "3.8.10"
    },
    "toc": {
      "base_numbering": 1,
      "nav_menu": {},
      "number_sections": true,
      "sideBar": true,
      "skip_h1_title": false,
      "title_cell": "Table of Contents",
      "title_sidebar": "Contents",
      "toc_cell": false,
      "toc_position": {},
      "toc_section_display": true,
      "toc_window_display": false
    },
    "widgets": {
      "application/vnd.jupyter.widget-state+json": {
        "00451ca84d2a4975b711a62382f19855": {
          "model_module": "@jupyter-widgets/base",
          "model_module_version": "1.2.0",
          "model_name": "LayoutModel",
          "state": {
            "_model_module": "@jupyter-widgets/base",
            "_model_module_version": "1.2.0",
            "_model_name": "LayoutModel",
            "_view_count": null,
            "_view_module": "@jupyter-widgets/base",
            "_view_module_version": "1.2.0",
            "_view_name": "LayoutView",
            "align_content": null,
            "align_items": null,
            "align_self": null,
            "border": null,
            "bottom": null,
            "display": null,
            "flex": null,
            "flex_flow": null,
            "grid_area": null,
            "grid_auto_columns": null,
            "grid_auto_flow": null,
            "grid_auto_rows": null,
            "grid_column": null,
            "grid_gap": null,
            "grid_row": null,
            "grid_template_areas": null,
            "grid_template_columns": null,
            "grid_template_rows": null,
            "height": null,
            "justify_content": null,
            "justify_items": null,
            "left": null,
            "margin": null,
            "max_height": null,
            "max_width": null,
            "min_height": null,
            "min_width": null,
            "object_fit": null,
            "object_position": null,
            "order": null,
            "overflow": null,
            "overflow_x": null,
            "overflow_y": null,
            "padding": null,
            "right": null,
            "top": null,
            "visibility": null,
            "width": null
          }
        },
        "0a13a9fd15a84b409071ecef4b5ac07f": {
          "model_module": "@jupyter-widgets/base",
          "model_module_version": "1.2.0",
          "model_name": "LayoutModel",
          "state": {
            "_model_module": "@jupyter-widgets/base",
            "_model_module_version": "1.2.0",
            "_model_name": "LayoutModel",
            "_view_count": null,
            "_view_module": "@jupyter-widgets/base",
            "_view_module_version": "1.2.0",
            "_view_name": "LayoutView",
            "align_content": null,
            "align_items": null,
            "align_self": null,
            "border": null,
            "bottom": null,
            "display": null,
            "flex": null,
            "flex_flow": null,
            "grid_area": null,
            "grid_auto_columns": null,
            "grid_auto_flow": null,
            "grid_auto_rows": null,
            "grid_column": null,
            "grid_gap": null,
            "grid_row": null,
            "grid_template_areas": null,
            "grid_template_columns": null,
            "grid_template_rows": null,
            "height": null,
            "justify_content": null,
            "justify_items": null,
            "left": null,
            "margin": null,
            "max_height": null,
            "max_width": null,
            "min_height": null,
            "min_width": null,
            "object_fit": null,
            "object_position": null,
            "order": null,
            "overflow": null,
            "overflow_x": null,
            "overflow_y": null,
            "padding": null,
            "right": null,
            "top": null,
            "visibility": null,
            "width": null
          }
        },
        "0bbc61673ca94951b5abba4130eade5a": {
          "model_module": "@jupyter-widgets/controls",
          "model_module_version": "1.5.0",
          "model_name": "HBoxModel",
          "state": {
            "_dom_classes": [],
            "_model_module": "@jupyter-widgets/controls",
            "_model_module_version": "1.5.0",
            "_model_name": "HBoxModel",
            "_view_count": null,
            "_view_module": "@jupyter-widgets/controls",
            "_view_module_version": "1.5.0",
            "_view_name": "HBoxView",
            "box_style": "",
            "children": [
              "IPY_MODEL_40c8e8eb7ad94b5a8c205baf0c188e4c",
              "IPY_MODEL_bee2f3933efa4f888ef76bd495a2ee6b",
              "IPY_MODEL_2272184dcce24ab69259bad6c35b1261"
            ],
            "layout": "IPY_MODEL_0d277da9e0e349f5a9e5c7b29f63e841"
          }
        },
        "0d277da9e0e349f5a9e5c7b29f63e841": {
          "model_module": "@jupyter-widgets/base",
          "model_module_version": "1.2.0",
          "model_name": "LayoutModel",
          "state": {
            "_model_module": "@jupyter-widgets/base",
            "_model_module_version": "1.2.0",
            "_model_name": "LayoutModel",
            "_view_count": null,
            "_view_module": "@jupyter-widgets/base",
            "_view_module_version": "1.2.0",
            "_view_name": "LayoutView",
            "align_content": null,
            "align_items": null,
            "align_self": null,
            "border": null,
            "bottom": null,
            "display": null,
            "flex": null,
            "flex_flow": null,
            "grid_area": null,
            "grid_auto_columns": null,
            "grid_auto_flow": null,
            "grid_auto_rows": null,
            "grid_column": null,
            "grid_gap": null,
            "grid_row": null,
            "grid_template_areas": null,
            "grid_template_columns": null,
            "grid_template_rows": null,
            "height": null,
            "justify_content": null,
            "justify_items": null,
            "left": null,
            "margin": null,
            "max_height": null,
            "max_width": null,
            "min_height": null,
            "min_width": null,
            "object_fit": null,
            "object_position": null,
            "order": null,
            "overflow": null,
            "overflow_x": null,
            "overflow_y": null,
            "padding": null,
            "right": null,
            "top": null,
            "visibility": null,
            "width": null
          }
        },
        "0da484a55614418980b8da3e4136574d": {
          "model_module": "@jupyter-widgets/base",
          "model_module_version": "1.2.0",
          "model_name": "LayoutModel",
          "state": {
            "_model_module": "@jupyter-widgets/base",
            "_model_module_version": "1.2.0",
            "_model_name": "LayoutModel",
            "_view_count": null,
            "_view_module": "@jupyter-widgets/base",
            "_view_module_version": "1.2.0",
            "_view_name": "LayoutView",
            "align_content": null,
            "align_items": null,
            "align_self": null,
            "border": null,
            "bottom": null,
            "display": null,
            "flex": null,
            "flex_flow": null,
            "grid_area": null,
            "grid_auto_columns": null,
            "grid_auto_flow": null,
            "grid_auto_rows": null,
            "grid_column": null,
            "grid_gap": null,
            "grid_row": null,
            "grid_template_areas": null,
            "grid_template_columns": null,
            "grid_template_rows": null,
            "height": null,
            "justify_content": null,
            "justify_items": null,
            "left": null,
            "margin": null,
            "max_height": null,
            "max_width": null,
            "min_height": null,
            "min_width": null,
            "object_fit": null,
            "object_position": null,
            "order": null,
            "overflow": null,
            "overflow_x": null,
            "overflow_y": null,
            "padding": null,
            "right": null,
            "top": null,
            "visibility": null,
            "width": null
          }
        },
        "1608e0db9a404d26a310b6400e815320": {
          "model_module": "@jupyter-widgets/controls",
          "model_module_version": "1.5.0",
          "model_name": "ProgressStyleModel",
          "state": {
            "_model_module": "@jupyter-widgets/controls",
            "_model_module_version": "1.5.0",
            "_model_name": "ProgressStyleModel",
            "_view_count": null,
            "_view_module": "@jupyter-widgets/base",
            "_view_module_version": "1.2.0",
            "_view_name": "StyleView",
            "bar_color": null,
            "description_width": ""
          }
        },
        "1a4586d39bc14f2d998640611340bec8": {
          "model_module": "@jupyter-widgets/controls",
          "model_module_version": "1.5.0",
          "model_name": "HTMLModel",
          "state": {
            "_dom_classes": [],
            "_model_module": "@jupyter-widgets/controls",
            "_model_module_version": "1.5.0",
            "_model_name": "HTMLModel",
            "_view_count": null,
            "_view_module": "@jupyter-widgets/controls",
            "_view_module_version": "1.5.0",
            "_view_name": "HTMLView",
            "description": "",
            "description_tooltip": null,
            "layout": "IPY_MODEL_c1999d633e4742e585f4830beddb16c6",
            "placeholder": "​",
            "style": "IPY_MODEL_a7af2252665c41bc9a9e763092a40226",
            "value": "Ep: 100%"
          }
        },
        "2272184dcce24ab69259bad6c35b1261": {
          "model_module": "@jupyter-widgets/controls",
          "model_module_version": "1.5.0",
          "model_name": "HTMLModel",
          "state": {
            "_dom_classes": [],
            "_model_module": "@jupyter-widgets/controls",
            "_model_module_version": "1.5.0",
            "_model_name": "HTMLModel",
            "_view_count": null,
            "_view_module": "@jupyter-widgets/controls",
            "_view_module_version": "1.5.0",
            "_view_name": "HTMLView",
            "description": "",
            "description_tooltip": null,
            "layout": "IPY_MODEL_a6faa6ed16414a77992acb8ba67c6b92",
            "placeholder": "​",
            "style": "IPY_MODEL_99d9c19f66464983899c9624a1858bae",
            "value": " 80/80 [04:17&lt;00:00,  3.12s/it]"
          }
        },
        "249f81ff930d4b6288dd4c44e1081f5b": {
          "model_module": "@jupyter-widgets/controls",
          "model_module_version": "1.5.0",
          "model_name": "FloatProgressModel",
          "state": {
            "_dom_classes": [],
            "_model_module": "@jupyter-widgets/controls",
            "_model_module_version": "1.5.0",
            "_model_name": "FloatProgressModel",
            "_view_count": null,
            "_view_module": "@jupyter-widgets/controls",
            "_view_module_version": "1.5.0",
            "_view_name": "ProgressView",
            "bar_style": "success",
            "description": "",
            "description_tooltip": null,
            "layout": "IPY_MODEL_c1741454203a4374940fdd4d1250b01b",
            "max": 160,
            "min": 0,
            "orientation": "horizontal",
            "style": "IPY_MODEL_327571fd859044c786e59c89e529c1a1",
            "value": 160
          }
        },
        "2d90c2ff818a4c468b3f26d0cdac0930": {
          "model_module": "@jupyter-widgets/controls",
          "model_module_version": "1.5.0",
          "model_name": "HBoxModel",
          "state": {
            "_dom_classes": [],
            "_model_module": "@jupyter-widgets/controls",
            "_model_module_version": "1.5.0",
            "_model_name": "HBoxModel",
            "_view_count": null,
            "_view_module": "@jupyter-widgets/controls",
            "_view_module_version": "1.5.0",
            "_view_name": "HBoxView",
            "box_style": "",
            "children": [
              "IPY_MODEL_d61ec56d80304d2196b694802dd580c7",
              "IPY_MODEL_249f81ff930d4b6288dd4c44e1081f5b",
              "IPY_MODEL_d6f0a9a23df44964bbdfef05364194e5"
            ],
            "layout": "IPY_MODEL_3eedd1a339194c8982a4a66e4f37ba6c"
          }
        },
        "326c7017c6a847cfacc39ed9590daa6f": {
          "model_module": "@jupyter-widgets/controls",
          "model_module_version": "1.5.0",
          "model_name": "HTMLModel",
          "state": {
            "_dom_classes": [],
            "_model_module": "@jupyter-widgets/controls",
            "_model_module_version": "1.5.0",
            "_model_name": "HTMLModel",
            "_view_count": null,
            "_view_module": "@jupyter-widgets/controls",
            "_view_module_version": "1.5.0",
            "_view_name": "HTMLView",
            "description": "",
            "description_tooltip": null,
            "layout": "IPY_MODEL_4f0c3f2a3cb6471a92c480cc90a8574d",
            "placeholder": "​",
            "style": "IPY_MODEL_746912310de4494d8029387be025518d",
            "value": "Ep: 100%"
          }
        },
        "327571fd859044c786e59c89e529c1a1": {
          "model_module": "@jupyter-widgets/controls",
          "model_module_version": "1.5.0",
          "model_name": "ProgressStyleModel",
          "state": {
            "_model_module": "@jupyter-widgets/controls",
            "_model_module_version": "1.5.0",
            "_model_name": "ProgressStyleModel",
            "_view_count": null,
            "_view_module": "@jupyter-widgets/base",
            "_view_module_version": "1.2.0",
            "_view_name": "StyleView",
            "bar_color": null,
            "description_width": ""
          }
        },
        "33272273747d4571aff444342b1989e9": {
          "model_module": "@jupyter-widgets/base",
          "model_module_version": "1.2.0",
          "model_name": "LayoutModel",
          "state": {
            "_model_module": "@jupyter-widgets/base",
            "_model_module_version": "1.2.0",
            "_model_name": "LayoutModel",
            "_view_count": null,
            "_view_module": "@jupyter-widgets/base",
            "_view_module_version": "1.2.0",
            "_view_name": "LayoutView",
            "align_content": null,
            "align_items": null,
            "align_self": null,
            "border": null,
            "bottom": null,
            "display": null,
            "flex": null,
            "flex_flow": null,
            "grid_area": null,
            "grid_auto_columns": null,
            "grid_auto_flow": null,
            "grid_auto_rows": null,
            "grid_column": null,
            "grid_gap": null,
            "grid_row": null,
            "grid_template_areas": null,
            "grid_template_columns": null,
            "grid_template_rows": null,
            "height": null,
            "justify_content": null,
            "justify_items": null,
            "left": null,
            "margin": null,
            "max_height": null,
            "max_width": null,
            "min_height": null,
            "min_width": null,
            "object_fit": null,
            "object_position": null,
            "order": null,
            "overflow": null,
            "overflow_x": null,
            "overflow_y": null,
            "padding": null,
            "right": null,
            "top": null,
            "visibility": null,
            "width": null
          }
        },
        "33d6af8616214ea39f7aebb2f1e6a1a3": {
          "model_module": "@jupyter-widgets/controls",
          "model_module_version": "1.5.0",
          "model_name": "ProgressStyleModel",
          "state": {
            "_model_module": "@jupyter-widgets/controls",
            "_model_module_version": "1.5.0",
            "_model_name": "ProgressStyleModel",
            "_view_count": null,
            "_view_module": "@jupyter-widgets/base",
            "_view_module_version": "1.2.0",
            "_view_name": "StyleView",
            "bar_color": null,
            "description_width": ""
          }
        },
        "3c81f4806aaf4a87850e578134ec6925": {
          "model_module": "@jupyter-widgets/controls",
          "model_module_version": "1.5.0",
          "model_name": "DescriptionStyleModel",
          "state": {
            "_model_module": "@jupyter-widgets/controls",
            "_model_module_version": "1.5.0",
            "_model_name": "DescriptionStyleModel",
            "_view_count": null,
            "_view_module": "@jupyter-widgets/base",
            "_view_module_version": "1.2.0",
            "_view_name": "StyleView",
            "description_width": ""
          }
        },
        "3dea6860d80145b4b0091911775ccfca": {
          "model_module": "@jupyter-widgets/base",
          "model_module_version": "1.2.0",
          "model_name": "LayoutModel",
          "state": {
            "_model_module": "@jupyter-widgets/base",
            "_model_module_version": "1.2.0",
            "_model_name": "LayoutModel",
            "_view_count": null,
            "_view_module": "@jupyter-widgets/base",
            "_view_module_version": "1.2.0",
            "_view_name": "LayoutView",
            "align_content": null,
            "align_items": null,
            "align_self": null,
            "border": null,
            "bottom": null,
            "display": null,
            "flex": null,
            "flex_flow": null,
            "grid_area": null,
            "grid_auto_columns": null,
            "grid_auto_flow": null,
            "grid_auto_rows": null,
            "grid_column": null,
            "grid_gap": null,
            "grid_row": null,
            "grid_template_areas": null,
            "grid_template_columns": null,
            "grid_template_rows": null,
            "height": null,
            "justify_content": null,
            "justify_items": null,
            "left": null,
            "margin": null,
            "max_height": null,
            "max_width": null,
            "min_height": null,
            "min_width": null,
            "object_fit": null,
            "object_position": null,
            "order": null,
            "overflow": null,
            "overflow_x": null,
            "overflow_y": null,
            "padding": null,
            "right": null,
            "top": null,
            "visibility": null,
            "width": null
          }
        },
        "3eedd1a339194c8982a4a66e4f37ba6c": {
          "model_module": "@jupyter-widgets/base",
          "model_module_version": "1.2.0",
          "model_name": "LayoutModel",
          "state": {
            "_model_module": "@jupyter-widgets/base",
            "_model_module_version": "1.2.0",
            "_model_name": "LayoutModel",
            "_view_count": null,
            "_view_module": "@jupyter-widgets/base",
            "_view_module_version": "1.2.0",
            "_view_name": "LayoutView",
            "align_content": null,
            "align_items": null,
            "align_self": null,
            "border": null,
            "bottom": null,
            "display": null,
            "flex": null,
            "flex_flow": null,
            "grid_area": null,
            "grid_auto_columns": null,
            "grid_auto_flow": null,
            "grid_auto_rows": null,
            "grid_column": null,
            "grid_gap": null,
            "grid_row": null,
            "grid_template_areas": null,
            "grid_template_columns": null,
            "grid_template_rows": null,
            "height": null,
            "justify_content": null,
            "justify_items": null,
            "left": null,
            "margin": null,
            "max_height": null,
            "max_width": null,
            "min_height": null,
            "min_width": null,
            "object_fit": null,
            "object_position": null,
            "order": null,
            "overflow": null,
            "overflow_x": null,
            "overflow_y": null,
            "padding": null,
            "right": null,
            "top": null,
            "visibility": null,
            "width": null
          }
        },
        "40641d39695944ed9b6a79cc9f04aa0e": {
          "model_module": "@jupyter-widgets/base",
          "model_module_version": "1.2.0",
          "model_name": "LayoutModel",
          "state": {
            "_model_module": "@jupyter-widgets/base",
            "_model_module_version": "1.2.0",
            "_model_name": "LayoutModel",
            "_view_count": null,
            "_view_module": "@jupyter-widgets/base",
            "_view_module_version": "1.2.0",
            "_view_name": "LayoutView",
            "align_content": null,
            "align_items": null,
            "align_self": null,
            "border": null,
            "bottom": null,
            "display": null,
            "flex": null,
            "flex_flow": null,
            "grid_area": null,
            "grid_auto_columns": null,
            "grid_auto_flow": null,
            "grid_auto_rows": null,
            "grid_column": null,
            "grid_gap": null,
            "grid_row": null,
            "grid_template_areas": null,
            "grid_template_columns": null,
            "grid_template_rows": null,
            "height": null,
            "justify_content": null,
            "justify_items": null,
            "left": null,
            "margin": null,
            "max_height": null,
            "max_width": null,
            "min_height": null,
            "min_width": null,
            "object_fit": null,
            "object_position": null,
            "order": null,
            "overflow": null,
            "overflow_x": null,
            "overflow_y": null,
            "padding": null,
            "right": null,
            "top": null,
            "visibility": null,
            "width": null
          }
        },
        "40c8e8eb7ad94b5a8c205baf0c188e4c": {
          "model_module": "@jupyter-widgets/controls",
          "model_module_version": "1.5.0",
          "model_name": "HTMLModel",
          "state": {
            "_dom_classes": [],
            "_model_module": "@jupyter-widgets/controls",
            "_model_module_version": "1.5.0",
            "_model_name": "HTMLModel",
            "_view_count": null,
            "_view_module": "@jupyter-widgets/controls",
            "_view_module_version": "1.5.0",
            "_view_name": "HTMLView",
            "description": "",
            "description_tooltip": null,
            "layout": "IPY_MODEL_3dea6860d80145b4b0091911775ccfca",
            "placeholder": "​",
            "style": "IPY_MODEL_f5f4ee93d3eb4ed5b9ce28a603950cc1",
            "value": "Ep: 100%"
          }
        },
        "4568afd7cbf44cc7947319dfd1bddd50": {
          "model_module": "@jupyter-widgets/controls",
          "model_module_version": "1.5.0",
          "model_name": "DescriptionStyleModel",
          "state": {
            "_model_module": "@jupyter-widgets/controls",
            "_model_module_version": "1.5.0",
            "_model_name": "DescriptionStyleModel",
            "_view_count": null,
            "_view_module": "@jupyter-widgets/base",
            "_view_module_version": "1.2.0",
            "_view_name": "StyleView",
            "description_width": ""
          }
        },
        "4a3c978a7d934e7ca93ea839242cbb8b": {
          "model_module": "@jupyter-widgets/controls",
          "model_module_version": "1.5.0",
          "model_name": "HBoxModel",
          "state": {
            "_dom_classes": [],
            "_model_module": "@jupyter-widgets/controls",
            "_model_module_version": "1.5.0",
            "_model_name": "HBoxModel",
            "_view_count": null,
            "_view_module": "@jupyter-widgets/controls",
            "_view_module_version": "1.5.0",
            "_view_name": "HBoxView",
            "box_style": "",
            "children": [
              "IPY_MODEL_1a4586d39bc14f2d998640611340bec8",
              "IPY_MODEL_82373804c7b34826b1b67dd8e7c201e0",
              "IPY_MODEL_d4eb591127924c6db1c6803a312bcd6e"
            ],
            "layout": "IPY_MODEL_0a13a9fd15a84b409071ecef4b5ac07f"
          }
        },
        "4ac30b992661444b993d82cfb4f20bcf": {
          "model_module": "@jupyter-widgets/controls",
          "model_module_version": "1.5.0",
          "model_name": "DescriptionStyleModel",
          "state": {
            "_model_module": "@jupyter-widgets/controls",
            "_model_module_version": "1.5.0",
            "_model_name": "DescriptionStyleModel",
            "_view_count": null,
            "_view_module": "@jupyter-widgets/base",
            "_view_module_version": "1.2.0",
            "_view_name": "StyleView",
            "description_width": ""
          }
        },
        "4f0c3f2a3cb6471a92c480cc90a8574d": {
          "model_module": "@jupyter-widgets/base",
          "model_module_version": "1.2.0",
          "model_name": "LayoutModel",
          "state": {
            "_model_module": "@jupyter-widgets/base",
            "_model_module_version": "1.2.0",
            "_model_name": "LayoutModel",
            "_view_count": null,
            "_view_module": "@jupyter-widgets/base",
            "_view_module_version": "1.2.0",
            "_view_name": "LayoutView",
            "align_content": null,
            "align_items": null,
            "align_self": null,
            "border": null,
            "bottom": null,
            "display": null,
            "flex": null,
            "flex_flow": null,
            "grid_area": null,
            "grid_auto_columns": null,
            "grid_auto_flow": null,
            "grid_auto_rows": null,
            "grid_column": null,
            "grid_gap": null,
            "grid_row": null,
            "grid_template_areas": null,
            "grid_template_columns": null,
            "grid_template_rows": null,
            "height": null,
            "justify_content": null,
            "justify_items": null,
            "left": null,
            "margin": null,
            "max_height": null,
            "max_width": null,
            "min_height": null,
            "min_width": null,
            "object_fit": null,
            "object_position": null,
            "order": null,
            "overflow": null,
            "overflow_x": null,
            "overflow_y": null,
            "padding": null,
            "right": null,
            "top": null,
            "visibility": null,
            "width": null
          }
        },
        "521d6c2cdbef4a98bb86c32c34c961a8": {
          "model_module": "@jupyter-widgets/base",
          "model_module_version": "1.2.0",
          "model_name": "LayoutModel",
          "state": {
            "_model_module": "@jupyter-widgets/base",
            "_model_module_version": "1.2.0",
            "_model_name": "LayoutModel",
            "_view_count": null,
            "_view_module": "@jupyter-widgets/base",
            "_view_module_version": "1.2.0",
            "_view_name": "LayoutView",
            "align_content": null,
            "align_items": null,
            "align_self": null,
            "border": null,
            "bottom": null,
            "display": null,
            "flex": null,
            "flex_flow": null,
            "grid_area": null,
            "grid_auto_columns": null,
            "grid_auto_flow": null,
            "grid_auto_rows": null,
            "grid_column": null,
            "grid_gap": null,
            "grid_row": null,
            "grid_template_areas": null,
            "grid_template_columns": null,
            "grid_template_rows": null,
            "height": null,
            "justify_content": null,
            "justify_items": null,
            "left": null,
            "margin": null,
            "max_height": null,
            "max_width": null,
            "min_height": null,
            "min_width": null,
            "object_fit": null,
            "object_position": null,
            "order": null,
            "overflow": null,
            "overflow_x": null,
            "overflow_y": null,
            "padding": null,
            "right": null,
            "top": null,
            "visibility": null,
            "width": null
          }
        },
        "566ab948033044a190e1d14b578e12e4": {
          "model_module": "@jupyter-widgets/controls",
          "model_module_version": "1.5.0",
          "model_name": "HTMLModel",
          "state": {
            "_dom_classes": [],
            "_model_module": "@jupyter-widgets/controls",
            "_model_module_version": "1.5.0",
            "_model_name": "HTMLModel",
            "_view_count": null,
            "_view_module": "@jupyter-widgets/controls",
            "_view_module_version": "1.5.0",
            "_view_name": "HTMLView",
            "description": "",
            "description_tooltip": null,
            "layout": "IPY_MODEL_521d6c2cdbef4a98bb86c32c34c961a8",
            "placeholder": "​",
            "style": "IPY_MODEL_4ac30b992661444b993d82cfb4f20bcf",
            "value": " 80/80 [01:03&lt;00:00,  1.17it/s]"
          }
        },
        "5fa1deeb41ac43f187e1d55d169a3280": {
          "model_module": "@jupyter-widgets/base",
          "model_module_version": "1.2.0",
          "model_name": "LayoutModel",
          "state": {
            "_model_module": "@jupyter-widgets/base",
            "_model_module_version": "1.2.0",
            "_model_name": "LayoutModel",
            "_view_count": null,
            "_view_module": "@jupyter-widgets/base",
            "_view_module_version": "1.2.0",
            "_view_name": "LayoutView",
            "align_content": null,
            "align_items": null,
            "align_self": null,
            "border": null,
            "bottom": null,
            "display": null,
            "flex": null,
            "flex_flow": null,
            "grid_area": null,
            "grid_auto_columns": null,
            "grid_auto_flow": null,
            "grid_auto_rows": null,
            "grid_column": null,
            "grid_gap": null,
            "grid_row": null,
            "grid_template_areas": null,
            "grid_template_columns": null,
            "grid_template_rows": null,
            "height": null,
            "justify_content": null,
            "justify_items": null,
            "left": null,
            "margin": null,
            "max_height": null,
            "max_width": null,
            "min_height": null,
            "min_width": null,
            "object_fit": null,
            "object_position": null,
            "order": null,
            "overflow": null,
            "overflow_x": null,
            "overflow_y": null,
            "padding": null,
            "right": null,
            "top": null,
            "visibility": null,
            "width": null
          }
        },
        "61456ef2c8ed46c6b96095b729c61325": {
          "model_module": "@jupyter-widgets/base",
          "model_module_version": "1.2.0",
          "model_name": "LayoutModel",
          "state": {
            "_model_module": "@jupyter-widgets/base",
            "_model_module_version": "1.2.0",
            "_model_name": "LayoutModel",
            "_view_count": null,
            "_view_module": "@jupyter-widgets/base",
            "_view_module_version": "1.2.0",
            "_view_name": "LayoutView",
            "align_content": null,
            "align_items": null,
            "align_self": null,
            "border": null,
            "bottom": null,
            "display": null,
            "flex": null,
            "flex_flow": null,
            "grid_area": null,
            "grid_auto_columns": null,
            "grid_auto_flow": null,
            "grid_auto_rows": null,
            "grid_column": null,
            "grid_gap": null,
            "grid_row": null,
            "grid_template_areas": null,
            "grid_template_columns": null,
            "grid_template_rows": null,
            "height": null,
            "justify_content": null,
            "justify_items": null,
            "left": null,
            "margin": null,
            "max_height": null,
            "max_width": null,
            "min_height": null,
            "min_width": null,
            "object_fit": null,
            "object_position": null,
            "order": null,
            "overflow": null,
            "overflow_x": null,
            "overflow_y": null,
            "padding": null,
            "right": null,
            "top": null,
            "visibility": null,
            "width": null
          }
        },
        "746912310de4494d8029387be025518d": {
          "model_module": "@jupyter-widgets/controls",
          "model_module_version": "1.5.0",
          "model_name": "DescriptionStyleModel",
          "state": {
            "_model_module": "@jupyter-widgets/controls",
            "_model_module_version": "1.5.0",
            "_model_name": "DescriptionStyleModel",
            "_view_count": null,
            "_view_module": "@jupyter-widgets/base",
            "_view_module_version": "1.2.0",
            "_view_name": "StyleView",
            "description_width": ""
          }
        },
        "7527fbe28c404d4da5a87a34f6b2b689": {
          "model_module": "@jupyter-widgets/controls",
          "model_module_version": "1.5.0",
          "model_name": "FloatProgressModel",
          "state": {
            "_dom_classes": [],
            "_model_module": "@jupyter-widgets/controls",
            "_model_module_version": "1.5.0",
            "_model_name": "FloatProgressModel",
            "_view_count": null,
            "_view_module": "@jupyter-widgets/controls",
            "_view_module_version": "1.5.0",
            "_view_name": "ProgressView",
            "bar_style": "",
            "description": "",
            "description_tooltip": null,
            "layout": "IPY_MODEL_e4b8d16692824ae2af96f94095a00569",
            "max": 80,
            "min": 0,
            "orientation": "horizontal",
            "style": "IPY_MODEL_91ebad332eb24f8fbf795bb562db138b",
            "value": 80
          }
        },
        "79ff35aa8ec8472995ff69a254a5a0df": {
          "model_module": "@jupyter-widgets/controls",
          "model_module_version": "1.5.0",
          "model_name": "FloatProgressModel",
          "state": {
            "_dom_classes": [],
            "_model_module": "@jupyter-widgets/controls",
            "_model_module_version": "1.5.0",
            "_model_name": "FloatProgressModel",
            "_view_count": null,
            "_view_module": "@jupyter-widgets/controls",
            "_view_module_version": "1.5.0",
            "_view_name": "ProgressView",
            "bar_style": "",
            "description": "",
            "description_tooltip": null,
            "layout": "IPY_MODEL_5fa1deeb41ac43f187e1d55d169a3280",
            "max": 80,
            "min": 0,
            "orientation": "horizontal",
            "style": "IPY_MODEL_1608e0db9a404d26a310b6400e815320",
            "value": 80
          }
        },
        "7a91edbbb93441988d98e4d2527bcf4c": {
          "model_module": "@jupyter-widgets/base",
          "model_module_version": "1.2.0",
          "model_name": "LayoutModel",
          "state": {
            "_model_module": "@jupyter-widgets/base",
            "_model_module_version": "1.2.0",
            "_model_name": "LayoutModel",
            "_view_count": null,
            "_view_module": "@jupyter-widgets/base",
            "_view_module_version": "1.2.0",
            "_view_name": "LayoutView",
            "align_content": null,
            "align_items": null,
            "align_self": null,
            "border": null,
            "bottom": null,
            "display": null,
            "flex": null,
            "flex_flow": null,
            "grid_area": null,
            "grid_auto_columns": null,
            "grid_auto_flow": null,
            "grid_auto_rows": null,
            "grid_column": null,
            "grid_gap": null,
            "grid_row": null,
            "grid_template_areas": null,
            "grid_template_columns": null,
            "grid_template_rows": null,
            "height": null,
            "justify_content": null,
            "justify_items": null,
            "left": null,
            "margin": null,
            "max_height": null,
            "max_width": null,
            "min_height": null,
            "min_width": null,
            "object_fit": null,
            "object_position": null,
            "order": null,
            "overflow": null,
            "overflow_x": null,
            "overflow_y": null,
            "padding": null,
            "right": null,
            "top": null,
            "visibility": "hidden",
            "width": null
          }
        },
        "80bb2652bcea4429af6d402d148f60cb": {
          "model_module": "@jupyter-widgets/base",
          "model_module_version": "1.2.0",
          "model_name": "LayoutModel",
          "state": {
            "_model_module": "@jupyter-widgets/base",
            "_model_module_version": "1.2.0",
            "_model_name": "LayoutModel",
            "_view_count": null,
            "_view_module": "@jupyter-widgets/base",
            "_view_module_version": "1.2.0",
            "_view_name": "LayoutView",
            "align_content": null,
            "align_items": null,
            "align_self": null,
            "border": null,
            "bottom": null,
            "display": null,
            "flex": null,
            "flex_flow": null,
            "grid_area": null,
            "grid_auto_columns": null,
            "grid_auto_flow": null,
            "grid_auto_rows": null,
            "grid_column": null,
            "grid_gap": null,
            "grid_row": null,
            "grid_template_areas": null,
            "grid_template_columns": null,
            "grid_template_rows": null,
            "height": null,
            "justify_content": null,
            "justify_items": null,
            "left": null,
            "margin": null,
            "max_height": null,
            "max_width": null,
            "min_height": null,
            "min_width": null,
            "object_fit": null,
            "object_position": null,
            "order": null,
            "overflow": null,
            "overflow_x": null,
            "overflow_y": null,
            "padding": null,
            "right": null,
            "top": null,
            "visibility": null,
            "width": null
          }
        },
        "82373804c7b34826b1b67dd8e7c201e0": {
          "model_module": "@jupyter-widgets/controls",
          "model_module_version": "1.5.0",
          "model_name": "FloatProgressModel",
          "state": {
            "_dom_classes": [],
            "_model_module": "@jupyter-widgets/controls",
            "_model_module_version": "1.5.0",
            "_model_name": "FloatProgressModel",
            "_view_count": null,
            "_view_module": "@jupyter-widgets/controls",
            "_view_module_version": "1.5.0",
            "_view_name": "ProgressView",
            "bar_style": "success",
            "description": "",
            "description_tooltip": null,
            "layout": "IPY_MODEL_40641d39695944ed9b6a79cc9f04aa0e",
            "max": 80,
            "min": 0,
            "orientation": "horizontal",
            "style": "IPY_MODEL_c6fe4472e1a7482587bdf38dc2af6dfd",
            "value": 80
          }
        },
        "83f93f8cf7cd41f0ac13372e46f9b637": {
          "model_module": "@jupyter-widgets/base",
          "model_module_version": "1.2.0",
          "model_name": "LayoutModel",
          "state": {
            "_model_module": "@jupyter-widgets/base",
            "_model_module_version": "1.2.0",
            "_model_name": "LayoutModel",
            "_view_count": null,
            "_view_module": "@jupyter-widgets/base",
            "_view_module_version": "1.2.0",
            "_view_name": "LayoutView",
            "align_content": null,
            "align_items": null,
            "align_self": null,
            "border": null,
            "bottom": null,
            "display": null,
            "flex": null,
            "flex_flow": null,
            "grid_area": null,
            "grid_auto_columns": null,
            "grid_auto_flow": null,
            "grid_auto_rows": null,
            "grid_column": null,
            "grid_gap": null,
            "grid_row": null,
            "grid_template_areas": null,
            "grid_template_columns": null,
            "grid_template_rows": null,
            "height": null,
            "justify_content": null,
            "justify_items": null,
            "left": null,
            "margin": null,
            "max_height": null,
            "max_width": null,
            "min_height": null,
            "min_width": null,
            "object_fit": null,
            "object_position": null,
            "order": null,
            "overflow": null,
            "overflow_x": null,
            "overflow_y": null,
            "padding": null,
            "right": null,
            "top": null,
            "visibility": "hidden",
            "width": null
          }
        },
        "91ebad332eb24f8fbf795bb562db138b": {
          "model_module": "@jupyter-widgets/controls",
          "model_module_version": "1.5.0",
          "model_name": "ProgressStyleModel",
          "state": {
            "_model_module": "@jupyter-widgets/controls",
            "_model_module_version": "1.5.0",
            "_model_name": "ProgressStyleModel",
            "_view_count": null,
            "_view_module": "@jupyter-widgets/base",
            "_view_module_version": "1.2.0",
            "_view_name": "StyleView",
            "bar_color": null,
            "description_width": ""
          }
        },
        "99d9c19f66464983899c9624a1858bae": {
          "model_module": "@jupyter-widgets/controls",
          "model_module_version": "1.5.0",
          "model_name": "DescriptionStyleModel",
          "state": {
            "_model_module": "@jupyter-widgets/controls",
            "_model_module_version": "1.5.0",
            "_model_name": "DescriptionStyleModel",
            "_view_count": null,
            "_view_module": "@jupyter-widgets/base",
            "_view_module_version": "1.2.0",
            "_view_name": "StyleView",
            "description_width": ""
          }
        },
        "9c5bf10841e141cbb09c3b852e59a21e": {
          "model_module": "@jupyter-widgets/controls",
          "model_module_version": "1.5.0",
          "model_name": "HTMLModel",
          "state": {
            "_dom_classes": [],
            "_model_module": "@jupyter-widgets/controls",
            "_model_module_version": "1.5.0",
            "_model_name": "HTMLModel",
            "_view_count": null,
            "_view_module": "@jupyter-widgets/controls",
            "_view_module_version": "1.5.0",
            "_view_name": "HTMLView",
            "description": "",
            "description_tooltip": null,
            "layout": "IPY_MODEL_80bb2652bcea4429af6d402d148f60cb",
            "placeholder": "​",
            "style": "IPY_MODEL_d6a39ef0742f44979054587c81600028",
            "value": "Ep: 100%"
          }
        },
        "a6faa6ed16414a77992acb8ba67c6b92": {
          "model_module": "@jupyter-widgets/base",
          "model_module_version": "1.2.0",
          "model_name": "LayoutModel",
          "state": {
            "_model_module": "@jupyter-widgets/base",
            "_model_module_version": "1.2.0",
            "_model_name": "LayoutModel",
            "_view_count": null,
            "_view_module": "@jupyter-widgets/base",
            "_view_module_version": "1.2.0",
            "_view_name": "LayoutView",
            "align_content": null,
            "align_items": null,
            "align_self": null,
            "border": null,
            "bottom": null,
            "display": null,
            "flex": null,
            "flex_flow": null,
            "grid_area": null,
            "grid_auto_columns": null,
            "grid_auto_flow": null,
            "grid_auto_rows": null,
            "grid_column": null,
            "grid_gap": null,
            "grid_row": null,
            "grid_template_areas": null,
            "grid_template_columns": null,
            "grid_template_rows": null,
            "height": null,
            "justify_content": null,
            "justify_items": null,
            "left": null,
            "margin": null,
            "max_height": null,
            "max_width": null,
            "min_height": null,
            "min_width": null,
            "object_fit": null,
            "object_position": null,
            "order": null,
            "overflow": null,
            "overflow_x": null,
            "overflow_y": null,
            "padding": null,
            "right": null,
            "top": null,
            "visibility": null,
            "width": null
          }
        },
        "a7af2252665c41bc9a9e763092a40226": {
          "model_module": "@jupyter-widgets/controls",
          "model_module_version": "1.5.0",
          "model_name": "DescriptionStyleModel",
          "state": {
            "_model_module": "@jupyter-widgets/controls",
            "_model_module_version": "1.5.0",
            "_model_name": "DescriptionStyleModel",
            "_view_count": null,
            "_view_module": "@jupyter-widgets/base",
            "_view_module_version": "1.2.0",
            "_view_name": "StyleView",
            "description_width": ""
          }
        },
        "b3f489a308184a1d9e5415cdcce9123d": {
          "model_module": "@jupyter-widgets/controls",
          "model_module_version": "1.5.0",
          "model_name": "DescriptionStyleModel",
          "state": {
            "_model_module": "@jupyter-widgets/controls",
            "_model_module_version": "1.5.0",
            "_model_name": "DescriptionStyleModel",
            "_view_count": null,
            "_view_module": "@jupyter-widgets/base",
            "_view_module_version": "1.2.0",
            "_view_name": "StyleView",
            "description_width": ""
          }
        },
        "bee2f3933efa4f888ef76bd495a2ee6b": {
          "model_module": "@jupyter-widgets/controls",
          "model_module_version": "1.5.0",
          "model_name": "FloatProgressModel",
          "state": {
            "_dom_classes": [],
            "_model_module": "@jupyter-widgets/controls",
            "_model_module_version": "1.5.0",
            "_model_name": "FloatProgressModel",
            "_view_count": null,
            "_view_module": "@jupyter-widgets/controls",
            "_view_module_version": "1.5.0",
            "_view_name": "ProgressView",
            "bar_style": "success",
            "description": "",
            "description_tooltip": null,
            "layout": "IPY_MODEL_00451ca84d2a4975b711a62382f19855",
            "max": 80,
            "min": 0,
            "orientation": "horizontal",
            "style": "IPY_MODEL_33d6af8616214ea39f7aebb2f1e6a1a3",
            "value": 80
          }
        },
        "c0ee78dc1f5d45c0811ac344b9ade1fc": {
          "model_module": "@jupyter-widgets/controls",
          "model_module_version": "1.5.0",
          "model_name": "HTMLModel",
          "state": {
            "_dom_classes": [],
            "_model_module": "@jupyter-widgets/controls",
            "_model_module_version": "1.5.0",
            "_model_name": "HTMLModel",
            "_view_count": null,
            "_view_module": "@jupyter-widgets/controls",
            "_view_module_version": "1.5.0",
            "_view_name": "HTMLView",
            "description": "",
            "description_tooltip": null,
            "layout": "IPY_MODEL_33272273747d4571aff444342b1989e9",
            "placeholder": "​",
            "style": "IPY_MODEL_4568afd7cbf44cc7947319dfd1bddd50",
            "value": " 80/80 [07:12&lt;00:00,  5.39s/it]"
          }
        },
        "c1741454203a4374940fdd4d1250b01b": {
          "model_module": "@jupyter-widgets/base",
          "model_module_version": "1.2.0",
          "model_name": "LayoutModel",
          "state": {
            "_model_module": "@jupyter-widgets/base",
            "_model_module_version": "1.2.0",
            "_model_name": "LayoutModel",
            "_view_count": null,
            "_view_module": "@jupyter-widgets/base",
            "_view_module_version": "1.2.0",
            "_view_name": "LayoutView",
            "align_content": null,
            "align_items": null,
            "align_self": null,
            "border": null,
            "bottom": null,
            "display": null,
            "flex": null,
            "flex_flow": null,
            "grid_area": null,
            "grid_auto_columns": null,
            "grid_auto_flow": null,
            "grid_auto_rows": null,
            "grid_column": null,
            "grid_gap": null,
            "grid_row": null,
            "grid_template_areas": null,
            "grid_template_columns": null,
            "grid_template_rows": null,
            "height": null,
            "justify_content": null,
            "justify_items": null,
            "left": null,
            "margin": null,
            "max_height": null,
            "max_width": null,
            "min_height": null,
            "min_width": null,
            "object_fit": null,
            "object_position": null,
            "order": null,
            "overflow": null,
            "overflow_x": null,
            "overflow_y": null,
            "padding": null,
            "right": null,
            "top": null,
            "visibility": null,
            "width": null
          }
        },
        "c1999d633e4742e585f4830beddb16c6": {
          "model_module": "@jupyter-widgets/base",
          "model_module_version": "1.2.0",
          "model_name": "LayoutModel",
          "state": {
            "_model_module": "@jupyter-widgets/base",
            "_model_module_version": "1.2.0",
            "_model_name": "LayoutModel",
            "_view_count": null,
            "_view_module": "@jupyter-widgets/base",
            "_view_module_version": "1.2.0",
            "_view_name": "LayoutView",
            "align_content": null,
            "align_items": null,
            "align_self": null,
            "border": null,
            "bottom": null,
            "display": null,
            "flex": null,
            "flex_flow": null,
            "grid_area": null,
            "grid_auto_columns": null,
            "grid_auto_flow": null,
            "grid_auto_rows": null,
            "grid_column": null,
            "grid_gap": null,
            "grid_row": null,
            "grid_template_areas": null,
            "grid_template_columns": null,
            "grid_template_rows": null,
            "height": null,
            "justify_content": null,
            "justify_items": null,
            "left": null,
            "margin": null,
            "max_height": null,
            "max_width": null,
            "min_height": null,
            "min_width": null,
            "object_fit": null,
            "object_position": null,
            "order": null,
            "overflow": null,
            "overflow_x": null,
            "overflow_y": null,
            "padding": null,
            "right": null,
            "top": null,
            "visibility": null,
            "width": null
          }
        },
        "c6fe4472e1a7482587bdf38dc2af6dfd": {
          "model_module": "@jupyter-widgets/controls",
          "model_module_version": "1.5.0",
          "model_name": "ProgressStyleModel",
          "state": {
            "_model_module": "@jupyter-widgets/controls",
            "_model_module_version": "1.5.0",
            "_model_name": "ProgressStyleModel",
            "_view_count": null,
            "_view_module": "@jupyter-widgets/base",
            "_view_module_version": "1.2.0",
            "_view_name": "StyleView",
            "bar_color": null,
            "description_width": ""
          }
        },
        "d4eb591127924c6db1c6803a312bcd6e": {
          "model_module": "@jupyter-widgets/controls",
          "model_module_version": "1.5.0",
          "model_name": "HTMLModel",
          "state": {
            "_dom_classes": [],
            "_model_module": "@jupyter-widgets/controls",
            "_model_module_version": "1.5.0",
            "_model_name": "HTMLModel",
            "_view_count": null,
            "_view_module": "@jupyter-widgets/controls",
            "_view_module_version": "1.5.0",
            "_view_name": "HTMLView",
            "description": "",
            "description_tooltip": null,
            "layout": "IPY_MODEL_f8358e9272c148adbd89ff7ade2ffb1a",
            "placeholder": "​",
            "style": "IPY_MODEL_ef603c739d6148c1aad0f56f0011c075",
            "value": " 80/80 [09:57&lt;00:00,  6.42s/it]"
          }
        },
        "d61ec56d80304d2196b694802dd580c7": {
          "model_module": "@jupyter-widgets/controls",
          "model_module_version": "1.5.0",
          "model_name": "HTMLModel",
          "state": {
            "_dom_classes": [],
            "_model_module": "@jupyter-widgets/controls",
            "_model_module_version": "1.5.0",
            "_model_name": "HTMLModel",
            "_view_count": null,
            "_view_module": "@jupyter-widgets/controls",
            "_view_module_version": "1.5.0",
            "_view_name": "HTMLView",
            "description": "",
            "description_tooltip": null,
            "layout": "IPY_MODEL_0da484a55614418980b8da3e4136574d",
            "placeholder": "​",
            "style": "IPY_MODEL_3c81f4806aaf4a87850e578134ec6925",
            "value": "Ep: 100%"
          }
        },
        "d6a39ef0742f44979054587c81600028": {
          "model_module": "@jupyter-widgets/controls",
          "model_module_version": "1.5.0",
          "model_name": "DescriptionStyleModel",
          "state": {
            "_model_module": "@jupyter-widgets/controls",
            "_model_module_version": "1.5.0",
            "_model_name": "DescriptionStyleModel",
            "_view_count": null,
            "_view_module": "@jupyter-widgets/base",
            "_view_module_version": "1.2.0",
            "_view_name": "StyleView",
            "description_width": ""
          }
        },
        "d6f0a9a23df44964bbdfef05364194e5": {
          "model_module": "@jupyter-widgets/controls",
          "model_module_version": "1.5.0",
          "model_name": "HTMLModel",
          "state": {
            "_dom_classes": [],
            "_model_module": "@jupyter-widgets/controls",
            "_model_module_version": "1.5.0",
            "_model_name": "HTMLModel",
            "_view_count": null,
            "_view_module": "@jupyter-widgets/controls",
            "_view_module_version": "1.5.0",
            "_view_name": "HTMLView",
            "description": "",
            "description_tooltip": null,
            "layout": "IPY_MODEL_61456ef2c8ed46c6b96095b729c61325",
            "placeholder": "​",
            "style": "IPY_MODEL_b3f489a308184a1d9e5415cdcce9123d",
            "value": " 160/160 [19:45&lt;00:00,  7.34s/it]"
          }
        },
        "e4b8d16692824ae2af96f94095a00569": {
          "model_module": "@jupyter-widgets/base",
          "model_module_version": "1.2.0",
          "model_name": "LayoutModel",
          "state": {
            "_model_module": "@jupyter-widgets/base",
            "_model_module_version": "1.2.0",
            "_model_name": "LayoutModel",
            "_view_count": null,
            "_view_module": "@jupyter-widgets/base",
            "_view_module_version": "1.2.0",
            "_view_name": "LayoutView",
            "align_content": null,
            "align_items": null,
            "align_self": null,
            "border": null,
            "bottom": null,
            "display": null,
            "flex": null,
            "flex_flow": null,
            "grid_area": null,
            "grid_auto_columns": null,
            "grid_auto_flow": null,
            "grid_auto_rows": null,
            "grid_column": null,
            "grid_gap": null,
            "grid_row": null,
            "grid_template_areas": null,
            "grid_template_columns": null,
            "grid_template_rows": null,
            "height": null,
            "justify_content": null,
            "justify_items": null,
            "left": null,
            "margin": null,
            "max_height": null,
            "max_width": null,
            "min_height": null,
            "min_width": null,
            "object_fit": null,
            "object_position": null,
            "order": null,
            "overflow": null,
            "overflow_x": null,
            "overflow_y": null,
            "padding": null,
            "right": null,
            "top": null,
            "visibility": null,
            "width": null
          }
        },
        "ea960df2344046b3828d3a7f07012695": {
          "model_module": "@jupyter-widgets/controls",
          "model_module_version": "1.5.0",
          "model_name": "HBoxModel",
          "state": {
            "_dom_classes": [],
            "_model_module": "@jupyter-widgets/controls",
            "_model_module_version": "1.5.0",
            "_model_name": "HBoxModel",
            "_view_count": null,
            "_view_module": "@jupyter-widgets/controls",
            "_view_module_version": "1.5.0",
            "_view_name": "HBoxView",
            "box_style": "",
            "children": [
              "IPY_MODEL_326c7017c6a847cfacc39ed9590daa6f",
              "IPY_MODEL_79ff35aa8ec8472995ff69a254a5a0df",
              "IPY_MODEL_c0ee78dc1f5d45c0811ac344b9ade1fc"
            ],
            "layout": "IPY_MODEL_83f93f8cf7cd41f0ac13372e46f9b637"
          }
        },
        "ef603c739d6148c1aad0f56f0011c075": {
          "model_module": "@jupyter-widgets/controls",
          "model_module_version": "1.5.0",
          "model_name": "DescriptionStyleModel",
          "state": {
            "_model_module": "@jupyter-widgets/controls",
            "_model_module_version": "1.5.0",
            "_model_name": "DescriptionStyleModel",
            "_view_count": null,
            "_view_module": "@jupyter-widgets/base",
            "_view_module_version": "1.2.0",
            "_view_name": "StyleView",
            "description_width": ""
          }
        },
        "f5f4ee93d3eb4ed5b9ce28a603950cc1": {
          "model_module": "@jupyter-widgets/controls",
          "model_module_version": "1.5.0",
          "model_name": "DescriptionStyleModel",
          "state": {
            "_model_module": "@jupyter-widgets/controls",
            "_model_module_version": "1.5.0",
            "_model_name": "DescriptionStyleModel",
            "_view_count": null,
            "_view_module": "@jupyter-widgets/base",
            "_view_module_version": "1.2.0",
            "_view_name": "StyleView",
            "description_width": ""
          }
        },
        "f8358e9272c148adbd89ff7ade2ffb1a": {
          "model_module": "@jupyter-widgets/base",
          "model_module_version": "1.2.0",
          "model_name": "LayoutModel",
          "state": {
            "_model_module": "@jupyter-widgets/base",
            "_model_module_version": "1.2.0",
            "_model_name": "LayoutModel",
            "_view_count": null,
            "_view_module": "@jupyter-widgets/base",
            "_view_module_version": "1.2.0",
            "_view_name": "LayoutView",
            "align_content": null,
            "align_items": null,
            "align_self": null,
            "border": null,
            "bottom": null,
            "display": null,
            "flex": null,
            "flex_flow": null,
            "grid_area": null,
            "grid_auto_columns": null,
            "grid_auto_flow": null,
            "grid_auto_rows": null,
            "grid_column": null,
            "grid_gap": null,
            "grid_row": null,
            "grid_template_areas": null,
            "grid_template_columns": null,
            "grid_template_rows": null,
            "height": null,
            "justify_content": null,
            "justify_items": null,
            "left": null,
            "margin": null,
            "max_height": null,
            "max_width": null,
            "min_height": null,
            "min_width": null,
            "object_fit": null,
            "object_position": null,
            "order": null,
            "overflow": null,
            "overflow_x": null,
            "overflow_y": null,
            "padding": null,
            "right": null,
            "top": null,
            "visibility": null,
            "width": null
          }
        },
        "fdd3840dde8a440896ad36633bdb91db": {
          "model_module": "@jupyter-widgets/controls",
          "model_module_version": "1.5.0",
          "model_name": "HBoxModel",
          "state": {
            "_dom_classes": [],
            "_model_module": "@jupyter-widgets/controls",
            "_model_module_version": "1.5.0",
            "_model_name": "HBoxModel",
            "_view_count": null,
            "_view_module": "@jupyter-widgets/controls",
            "_view_module_version": "1.5.0",
            "_view_name": "HBoxView",
            "box_style": "",
            "children": [
              "IPY_MODEL_9c5bf10841e141cbb09c3b852e59a21e",
              "IPY_MODEL_7527fbe28c404d4da5a87a34f6b2b689",
              "IPY_MODEL_566ab948033044a190e1d14b578e12e4"
            ],
            "layout": "IPY_MODEL_7a91edbbb93441988d98e4d2527bcf4c"
          }
        },
        "b89fba202558431cac2ae19003fbfd5e": {
          "model_module": "@jupyter-widgets/controls",
          "model_name": "HBoxModel",
          "model_module_version": "1.5.0",
          "state": {
            "_dom_classes": [],
            "_model_module": "@jupyter-widgets/controls",
            "_model_module_version": "1.5.0",
            "_model_name": "HBoxModel",
            "_view_count": null,
            "_view_module": "@jupyter-widgets/controls",
            "_view_module_version": "1.5.0",
            "_view_name": "HBoxView",
            "box_style": "",
            "children": [
              "IPY_MODEL_f329ed6effdf4308bc229c89c487392d",
              "IPY_MODEL_0e9cd8eea6d845f9b0448785bf952d9a",
              "IPY_MODEL_202fb989641f41f098792b03e90a52ce"
            ],
            "layout": "IPY_MODEL_06720b9b22254455be87cbf02e627025"
          }
        },
        "f329ed6effdf4308bc229c89c487392d": {
          "model_module": "@jupyter-widgets/controls",
          "model_name": "HTMLModel",
          "model_module_version": "1.5.0",
          "state": {
            "_dom_classes": [],
            "_model_module": "@jupyter-widgets/controls",
            "_model_module_version": "1.5.0",
            "_model_name": "HTMLModel",
            "_view_count": null,
            "_view_module": "@jupyter-widgets/controls",
            "_view_module_version": "1.5.0",
            "_view_name": "HTMLView",
            "description": "",
            "description_tooltip": null,
            "layout": "IPY_MODEL_1a5f44357c584fa097017cc99ae66f41",
            "placeholder": "​",
            "style": "IPY_MODEL_4666cb50113d4258a8103aea9a2ab009",
            "value": "Ep: 100%"
          }
        },
        "0e9cd8eea6d845f9b0448785bf952d9a": {
          "model_module": "@jupyter-widgets/controls",
          "model_name": "FloatProgressModel",
          "model_module_version": "1.5.0",
          "state": {
            "_dom_classes": [],
            "_model_module": "@jupyter-widgets/controls",
            "_model_module_version": "1.5.0",
            "_model_name": "FloatProgressModel",
            "_view_count": null,
            "_view_module": "@jupyter-widgets/controls",
            "_view_module_version": "1.5.0",
            "_view_name": "ProgressView",
            "bar_style": "success",
            "description": "",
            "description_tooltip": null,
            "layout": "IPY_MODEL_97a6fe2d11c24c28a3ed06663fcf7089",
            "max": 2000,
            "min": 0,
            "orientation": "horizontal",
            "style": "IPY_MODEL_62c4164a686e48519cec3765d3752da9",
            "value": 2000
          }
        },
        "202fb989641f41f098792b03e90a52ce": {
          "model_module": "@jupyter-widgets/controls",
          "model_name": "HTMLModel",
          "model_module_version": "1.5.0",
          "state": {
            "_dom_classes": [],
            "_model_module": "@jupyter-widgets/controls",
            "_model_module_version": "1.5.0",
            "_model_name": "HTMLModel",
            "_view_count": null,
            "_view_module": "@jupyter-widgets/controls",
            "_view_module_version": "1.5.0",
            "_view_name": "HTMLView",
            "description": "",
            "description_tooltip": null,
            "layout": "IPY_MODEL_b91a8a06d9444ad399407ca473bd0405",
            "placeholder": "​",
            "style": "IPY_MODEL_512e31392b2344b6b3870263f4386679",
            "value": " 2000/2000 [59:47&lt;00:00,  6.39s/it]"
          }
        },
        "06720b9b22254455be87cbf02e627025": {
          "model_module": "@jupyter-widgets/base",
          "model_name": "LayoutModel",
          "model_module_version": "1.2.0",
          "state": {
            "_model_module": "@jupyter-widgets/base",
            "_model_module_version": "1.2.0",
            "_model_name": "LayoutModel",
            "_view_count": null,
            "_view_module": "@jupyter-widgets/base",
            "_view_module_version": "1.2.0",
            "_view_name": "LayoutView",
            "align_content": null,
            "align_items": null,
            "align_self": null,
            "border": null,
            "bottom": null,
            "display": null,
            "flex": null,
            "flex_flow": null,
            "grid_area": null,
            "grid_auto_columns": null,
            "grid_auto_flow": null,
            "grid_auto_rows": null,
            "grid_column": null,
            "grid_gap": null,
            "grid_row": null,
            "grid_template_areas": null,
            "grid_template_columns": null,
            "grid_template_rows": null,
            "height": null,
            "justify_content": null,
            "justify_items": null,
            "left": null,
            "margin": null,
            "max_height": null,
            "max_width": null,
            "min_height": null,
            "min_width": null,
            "object_fit": null,
            "object_position": null,
            "order": null,
            "overflow": null,
            "overflow_x": null,
            "overflow_y": null,
            "padding": null,
            "right": null,
            "top": null,
            "visibility": null,
            "width": null
          }
        },
        "1a5f44357c584fa097017cc99ae66f41": {
          "model_module": "@jupyter-widgets/base",
          "model_name": "LayoutModel",
          "model_module_version": "1.2.0",
          "state": {
            "_model_module": "@jupyter-widgets/base",
            "_model_module_version": "1.2.0",
            "_model_name": "LayoutModel",
            "_view_count": null,
            "_view_module": "@jupyter-widgets/base",
            "_view_module_version": "1.2.0",
            "_view_name": "LayoutView",
            "align_content": null,
            "align_items": null,
            "align_self": null,
            "border": null,
            "bottom": null,
            "display": null,
            "flex": null,
            "flex_flow": null,
            "grid_area": null,
            "grid_auto_columns": null,
            "grid_auto_flow": null,
            "grid_auto_rows": null,
            "grid_column": null,
            "grid_gap": null,
            "grid_row": null,
            "grid_template_areas": null,
            "grid_template_columns": null,
            "grid_template_rows": null,
            "height": null,
            "justify_content": null,
            "justify_items": null,
            "left": null,
            "margin": null,
            "max_height": null,
            "max_width": null,
            "min_height": null,
            "min_width": null,
            "object_fit": null,
            "object_position": null,
            "order": null,
            "overflow": null,
            "overflow_x": null,
            "overflow_y": null,
            "padding": null,
            "right": null,
            "top": null,
            "visibility": null,
            "width": null
          }
        },
        "4666cb50113d4258a8103aea9a2ab009": {
          "model_module": "@jupyter-widgets/controls",
          "model_name": "DescriptionStyleModel",
          "model_module_version": "1.5.0",
          "state": {
            "_model_module": "@jupyter-widgets/controls",
            "_model_module_version": "1.5.0",
            "_model_name": "DescriptionStyleModel",
            "_view_count": null,
            "_view_module": "@jupyter-widgets/base",
            "_view_module_version": "1.2.0",
            "_view_name": "StyleView",
            "description_width": ""
          }
        },
        "97a6fe2d11c24c28a3ed06663fcf7089": {
          "model_module": "@jupyter-widgets/base",
          "model_name": "LayoutModel",
          "model_module_version": "1.2.0",
          "state": {
            "_model_module": "@jupyter-widgets/base",
            "_model_module_version": "1.2.0",
            "_model_name": "LayoutModel",
            "_view_count": null,
            "_view_module": "@jupyter-widgets/base",
            "_view_module_version": "1.2.0",
            "_view_name": "LayoutView",
            "align_content": null,
            "align_items": null,
            "align_self": null,
            "border": null,
            "bottom": null,
            "display": null,
            "flex": null,
            "flex_flow": null,
            "grid_area": null,
            "grid_auto_columns": null,
            "grid_auto_flow": null,
            "grid_auto_rows": null,
            "grid_column": null,
            "grid_gap": null,
            "grid_row": null,
            "grid_template_areas": null,
            "grid_template_columns": null,
            "grid_template_rows": null,
            "height": null,
            "justify_content": null,
            "justify_items": null,
            "left": null,
            "margin": null,
            "max_height": null,
            "max_width": null,
            "min_height": null,
            "min_width": null,
            "object_fit": null,
            "object_position": null,
            "order": null,
            "overflow": null,
            "overflow_x": null,
            "overflow_y": null,
            "padding": null,
            "right": null,
            "top": null,
            "visibility": null,
            "width": null
          }
        },
        "62c4164a686e48519cec3765d3752da9": {
          "model_module": "@jupyter-widgets/controls",
          "model_name": "ProgressStyleModel",
          "model_module_version": "1.5.0",
          "state": {
            "_model_module": "@jupyter-widgets/controls",
            "_model_module_version": "1.5.0",
            "_model_name": "ProgressStyleModel",
            "_view_count": null,
            "_view_module": "@jupyter-widgets/base",
            "_view_module_version": "1.2.0",
            "_view_name": "StyleView",
            "bar_color": null,
            "description_width": ""
          }
        },
        "b91a8a06d9444ad399407ca473bd0405": {
          "model_module": "@jupyter-widgets/base",
          "model_name": "LayoutModel",
          "model_module_version": "1.2.0",
          "state": {
            "_model_module": "@jupyter-widgets/base",
            "_model_module_version": "1.2.0",
            "_model_name": "LayoutModel",
            "_view_count": null,
            "_view_module": "@jupyter-widgets/base",
            "_view_module_version": "1.2.0",
            "_view_name": "LayoutView",
            "align_content": null,
            "align_items": null,
            "align_self": null,
            "border": null,
            "bottom": null,
            "display": null,
            "flex": null,
            "flex_flow": null,
            "grid_area": null,
            "grid_auto_columns": null,
            "grid_auto_flow": null,
            "grid_auto_rows": null,
            "grid_column": null,
            "grid_gap": null,
            "grid_row": null,
            "grid_template_areas": null,
            "grid_template_columns": null,
            "grid_template_rows": null,
            "height": null,
            "justify_content": null,
            "justify_items": null,
            "left": null,
            "margin": null,
            "max_height": null,
            "max_width": null,
            "min_height": null,
            "min_width": null,
            "object_fit": null,
            "object_position": null,
            "order": null,
            "overflow": null,
            "overflow_x": null,
            "overflow_y": null,
            "padding": null,
            "right": null,
            "top": null,
            "visibility": null,
            "width": null
          }
        },
        "512e31392b2344b6b3870263f4386679": {
          "model_module": "@jupyter-widgets/controls",
          "model_name": "DescriptionStyleModel",
          "model_module_version": "1.5.0",
          "state": {
            "_model_module": "@jupyter-widgets/controls",
            "_model_module_version": "1.5.0",
            "_model_name": "DescriptionStyleModel",
            "_view_count": null,
            "_view_module": "@jupyter-widgets/base",
            "_view_module_version": "1.2.0",
            "_view_name": "StyleView",
            "description_width": ""
          }
        },
        "182512d223d24266a441c0c0bdf6c47a": {
          "model_module": "@jupyter-widgets/controls",
          "model_name": "HBoxModel",
          "model_module_version": "1.5.0",
          "state": {
            "_dom_classes": [],
            "_model_module": "@jupyter-widgets/controls",
            "_model_module_version": "1.5.0",
            "_model_name": "HBoxModel",
            "_view_count": null,
            "_view_module": "@jupyter-widgets/controls",
            "_view_module_version": "1.5.0",
            "_view_name": "HBoxView",
            "box_style": "",
            "children": [
              "IPY_MODEL_5432cbe56bc94c9591332c19ed63891b",
              "IPY_MODEL_78d60a43d4bc4e24a94284ee515cbe0e",
              "IPY_MODEL_58b98fd26bb34cafb80b6bba3126be40"
            ],
            "layout": "IPY_MODEL_857776f9b0a149afa54150fba1fc1856"
          }
        },
        "5432cbe56bc94c9591332c19ed63891b": {
          "model_module": "@jupyter-widgets/controls",
          "model_name": "HTMLModel",
          "model_module_version": "1.5.0",
          "state": {
            "_dom_classes": [],
            "_model_module": "@jupyter-widgets/controls",
            "_model_module_version": "1.5.0",
            "_model_name": "HTMLModel",
            "_view_count": null,
            "_view_module": "@jupyter-widgets/controls",
            "_view_module_version": "1.5.0",
            "_view_name": "HTMLView",
            "description": "",
            "description_tooltip": null,
            "layout": "IPY_MODEL_8aa751fba7c444fd83fbb9550974db75",
            "placeholder": "​",
            "style": "IPY_MODEL_abb5f95337b248579df9c642a4c09ce4",
            "value": "Ep: 100%"
          }
        },
        "78d60a43d4bc4e24a94284ee515cbe0e": {
          "model_module": "@jupyter-widgets/controls",
          "model_name": "FloatProgressModel",
          "model_module_version": "1.5.0",
          "state": {
            "_dom_classes": [],
            "_model_module": "@jupyter-widgets/controls",
            "_model_module_version": "1.5.0",
            "_model_name": "FloatProgressModel",
            "_view_count": null,
            "_view_module": "@jupyter-widgets/controls",
            "_view_module_version": "1.5.0",
            "_view_name": "ProgressView",
            "bar_style": "success",
            "description": "",
            "description_tooltip": null,
            "layout": "IPY_MODEL_d4741d3cdfd943f594ab76b8dbdd3aa4",
            "max": 2000,
            "min": 0,
            "orientation": "horizontal",
            "style": "IPY_MODEL_ed47add165004b61b55c876dbbaeccf8",
            "value": 2000
          }
        },
        "58b98fd26bb34cafb80b6bba3126be40": {
          "model_module": "@jupyter-widgets/controls",
          "model_name": "HTMLModel",
          "model_module_version": "1.5.0",
          "state": {
            "_dom_classes": [],
            "_model_module": "@jupyter-widgets/controls",
            "_model_module_version": "1.5.0",
            "_model_name": "HTMLModel",
            "_view_count": null,
            "_view_module": "@jupyter-widgets/controls",
            "_view_module_version": "1.5.0",
            "_view_name": "HTMLView",
            "description": "",
            "description_tooltip": null,
            "layout": "IPY_MODEL_35201c595ef244699e0a1385b46dc5b4",
            "placeholder": "​",
            "style": "IPY_MODEL_40ba1f0d2a0b46728ae2999038a629c8",
            "value": " 2000/2000 [1:21:43&lt;00:00,  1.89it/s]"
          }
        },
        "857776f9b0a149afa54150fba1fc1856": {
          "model_module": "@jupyter-widgets/base",
          "model_name": "LayoutModel",
          "model_module_version": "1.2.0",
          "state": {
            "_model_module": "@jupyter-widgets/base",
            "_model_module_version": "1.2.0",
            "_model_name": "LayoutModel",
            "_view_count": null,
            "_view_module": "@jupyter-widgets/base",
            "_view_module_version": "1.2.0",
            "_view_name": "LayoutView",
            "align_content": null,
            "align_items": null,
            "align_self": null,
            "border": null,
            "bottom": null,
            "display": null,
            "flex": null,
            "flex_flow": null,
            "grid_area": null,
            "grid_auto_columns": null,
            "grid_auto_flow": null,
            "grid_auto_rows": null,
            "grid_column": null,
            "grid_gap": null,
            "grid_row": null,
            "grid_template_areas": null,
            "grid_template_columns": null,
            "grid_template_rows": null,
            "height": null,
            "justify_content": null,
            "justify_items": null,
            "left": null,
            "margin": null,
            "max_height": null,
            "max_width": null,
            "min_height": null,
            "min_width": null,
            "object_fit": null,
            "object_position": null,
            "order": null,
            "overflow": null,
            "overflow_x": null,
            "overflow_y": null,
            "padding": null,
            "right": null,
            "top": null,
            "visibility": null,
            "width": null
          }
        },
        "8aa751fba7c444fd83fbb9550974db75": {
          "model_module": "@jupyter-widgets/base",
          "model_name": "LayoutModel",
          "model_module_version": "1.2.0",
          "state": {
            "_model_module": "@jupyter-widgets/base",
            "_model_module_version": "1.2.0",
            "_model_name": "LayoutModel",
            "_view_count": null,
            "_view_module": "@jupyter-widgets/base",
            "_view_module_version": "1.2.0",
            "_view_name": "LayoutView",
            "align_content": null,
            "align_items": null,
            "align_self": null,
            "border": null,
            "bottom": null,
            "display": null,
            "flex": null,
            "flex_flow": null,
            "grid_area": null,
            "grid_auto_columns": null,
            "grid_auto_flow": null,
            "grid_auto_rows": null,
            "grid_column": null,
            "grid_gap": null,
            "grid_row": null,
            "grid_template_areas": null,
            "grid_template_columns": null,
            "grid_template_rows": null,
            "height": null,
            "justify_content": null,
            "justify_items": null,
            "left": null,
            "margin": null,
            "max_height": null,
            "max_width": null,
            "min_height": null,
            "min_width": null,
            "object_fit": null,
            "object_position": null,
            "order": null,
            "overflow": null,
            "overflow_x": null,
            "overflow_y": null,
            "padding": null,
            "right": null,
            "top": null,
            "visibility": null,
            "width": null
          }
        },
        "abb5f95337b248579df9c642a4c09ce4": {
          "model_module": "@jupyter-widgets/controls",
          "model_name": "DescriptionStyleModel",
          "model_module_version": "1.5.0",
          "state": {
            "_model_module": "@jupyter-widgets/controls",
            "_model_module_version": "1.5.0",
            "_model_name": "DescriptionStyleModel",
            "_view_count": null,
            "_view_module": "@jupyter-widgets/base",
            "_view_module_version": "1.2.0",
            "_view_name": "StyleView",
            "description_width": ""
          }
        },
        "d4741d3cdfd943f594ab76b8dbdd3aa4": {
          "model_module": "@jupyter-widgets/base",
          "model_name": "LayoutModel",
          "model_module_version": "1.2.0",
          "state": {
            "_model_module": "@jupyter-widgets/base",
            "_model_module_version": "1.2.0",
            "_model_name": "LayoutModel",
            "_view_count": null,
            "_view_module": "@jupyter-widgets/base",
            "_view_module_version": "1.2.0",
            "_view_name": "LayoutView",
            "align_content": null,
            "align_items": null,
            "align_self": null,
            "border": null,
            "bottom": null,
            "display": null,
            "flex": null,
            "flex_flow": null,
            "grid_area": null,
            "grid_auto_columns": null,
            "grid_auto_flow": null,
            "grid_auto_rows": null,
            "grid_column": null,
            "grid_gap": null,
            "grid_row": null,
            "grid_template_areas": null,
            "grid_template_columns": null,
            "grid_template_rows": null,
            "height": null,
            "justify_content": null,
            "justify_items": null,
            "left": null,
            "margin": null,
            "max_height": null,
            "max_width": null,
            "min_height": null,
            "min_width": null,
            "object_fit": null,
            "object_position": null,
            "order": null,
            "overflow": null,
            "overflow_x": null,
            "overflow_y": null,
            "padding": null,
            "right": null,
            "top": null,
            "visibility": null,
            "width": null
          }
        },
        "ed47add165004b61b55c876dbbaeccf8": {
          "model_module": "@jupyter-widgets/controls",
          "model_name": "ProgressStyleModel",
          "model_module_version": "1.5.0",
          "state": {
            "_model_module": "@jupyter-widgets/controls",
            "_model_module_version": "1.5.0",
            "_model_name": "ProgressStyleModel",
            "_view_count": null,
            "_view_module": "@jupyter-widgets/base",
            "_view_module_version": "1.2.0",
            "_view_name": "StyleView",
            "bar_color": null,
            "description_width": ""
          }
        },
        "35201c595ef244699e0a1385b46dc5b4": {
          "model_module": "@jupyter-widgets/base",
          "model_name": "LayoutModel",
          "model_module_version": "1.2.0",
          "state": {
            "_model_module": "@jupyter-widgets/base",
            "_model_module_version": "1.2.0",
            "_model_name": "LayoutModel",
            "_view_count": null,
            "_view_module": "@jupyter-widgets/base",
            "_view_module_version": "1.2.0",
            "_view_name": "LayoutView",
            "align_content": null,
            "align_items": null,
            "align_self": null,
            "border": null,
            "bottom": null,
            "display": null,
            "flex": null,
            "flex_flow": null,
            "grid_area": null,
            "grid_auto_columns": null,
            "grid_auto_flow": null,
            "grid_auto_rows": null,
            "grid_column": null,
            "grid_gap": null,
            "grid_row": null,
            "grid_template_areas": null,
            "grid_template_columns": null,
            "grid_template_rows": null,
            "height": null,
            "justify_content": null,
            "justify_items": null,
            "left": null,
            "margin": null,
            "max_height": null,
            "max_width": null,
            "min_height": null,
            "min_width": null,
            "object_fit": null,
            "object_position": null,
            "order": null,
            "overflow": null,
            "overflow_x": null,
            "overflow_y": null,
            "padding": null,
            "right": null,
            "top": null,
            "visibility": null,
            "width": null
          }
        },
        "40ba1f0d2a0b46728ae2999038a629c8": {
          "model_module": "@jupyter-widgets/controls",
          "model_name": "DescriptionStyleModel",
          "model_module_version": "1.5.0",
          "state": {
            "_model_module": "@jupyter-widgets/controls",
            "_model_module_version": "1.5.0",
            "_model_name": "DescriptionStyleModel",
            "_view_count": null,
            "_view_module": "@jupyter-widgets/base",
            "_view_module_version": "1.2.0",
            "_view_name": "StyleView",
            "description_width": ""
          }
        },
        "9781cd6a40ae4c3fb2e30f0c2f946e2d": {
          "model_module": "@jupyter-widgets/controls",
          "model_name": "HBoxModel",
          "model_module_version": "1.5.0",
          "state": {
            "_dom_classes": [],
            "_model_module": "@jupyter-widgets/controls",
            "_model_module_version": "1.5.0",
            "_model_name": "HBoxModel",
            "_view_count": null,
            "_view_module": "@jupyter-widgets/controls",
            "_view_module_version": "1.5.0",
            "_view_name": "HBoxView",
            "box_style": "",
            "children": [
              "IPY_MODEL_75cece2f73204c7d91ec122752308c3d",
              "IPY_MODEL_e639744015eb4c1eb9875c968c5e613f",
              "IPY_MODEL_06d46c587bcb483395a9769b87ad79c8"
            ],
            "layout": "IPY_MODEL_078dceeb1d304c9da59da0b855000915"
          }
        },
        "75cece2f73204c7d91ec122752308c3d": {
          "model_module": "@jupyter-widgets/controls",
          "model_name": "HTMLModel",
          "model_module_version": "1.5.0",
          "state": {
            "_dom_classes": [],
            "_model_module": "@jupyter-widgets/controls",
            "_model_module_version": "1.5.0",
            "_model_name": "HTMLModel",
            "_view_count": null,
            "_view_module": "@jupyter-widgets/controls",
            "_view_module_version": "1.5.0",
            "_view_name": "HTMLView",
            "description": "",
            "description_tooltip": null,
            "layout": "IPY_MODEL_57e51877fae9472eb492982fad07b75b",
            "placeholder": "​",
            "style": "IPY_MODEL_3a4678153754495db977e50c93046f85",
            "value": "Ep: 100%"
          }
        },
        "e639744015eb4c1eb9875c968c5e613f": {
          "model_module": "@jupyter-widgets/controls",
          "model_name": "FloatProgressModel",
          "model_module_version": "1.5.0",
          "state": {
            "_dom_classes": [],
            "_model_module": "@jupyter-widgets/controls",
            "_model_module_version": "1.5.0",
            "_model_name": "FloatProgressModel",
            "_view_count": null,
            "_view_module": "@jupyter-widgets/controls",
            "_view_module_version": "1.5.0",
            "_view_name": "ProgressView",
            "bar_style": "success",
            "description": "",
            "description_tooltip": null,
            "layout": "IPY_MODEL_824bc5f6de9c4e1da6072a483b059dec",
            "max": 2000,
            "min": 0,
            "orientation": "horizontal",
            "style": "IPY_MODEL_61b630ec3ceb44108975ceab3573049a",
            "value": 2000
          }
        },
        "06d46c587bcb483395a9769b87ad79c8": {
          "model_module": "@jupyter-widgets/controls",
          "model_name": "HTMLModel",
          "model_module_version": "1.5.0",
          "state": {
            "_dom_classes": [],
            "_model_module": "@jupyter-widgets/controls",
            "_model_module_version": "1.5.0",
            "_model_name": "HTMLModel",
            "_view_count": null,
            "_view_module": "@jupyter-widgets/controls",
            "_view_module_version": "1.5.0",
            "_view_name": "HTMLView",
            "description": "",
            "description_tooltip": null,
            "layout": "IPY_MODEL_4c0c13f262d74d2e96a100a31b34cf3e",
            "placeholder": "​",
            "style": "IPY_MODEL_ba616ee68ae146a1861c0bdf54c6461f",
            "value": " 2000/2000 [15:26&lt;00:00,  3.61it/s]"
          }
        },
        "078dceeb1d304c9da59da0b855000915": {
          "model_module": "@jupyter-widgets/base",
          "model_name": "LayoutModel",
          "model_module_version": "1.2.0",
          "state": {
            "_model_module": "@jupyter-widgets/base",
            "_model_module_version": "1.2.0",
            "_model_name": "LayoutModel",
            "_view_count": null,
            "_view_module": "@jupyter-widgets/base",
            "_view_module_version": "1.2.0",
            "_view_name": "LayoutView",
            "align_content": null,
            "align_items": null,
            "align_self": null,
            "border": null,
            "bottom": null,
            "display": null,
            "flex": null,
            "flex_flow": null,
            "grid_area": null,
            "grid_auto_columns": null,
            "grid_auto_flow": null,
            "grid_auto_rows": null,
            "grid_column": null,
            "grid_gap": null,
            "grid_row": null,
            "grid_template_areas": null,
            "grid_template_columns": null,
            "grid_template_rows": null,
            "height": null,
            "justify_content": null,
            "justify_items": null,
            "left": null,
            "margin": null,
            "max_height": null,
            "max_width": null,
            "min_height": null,
            "min_width": null,
            "object_fit": null,
            "object_position": null,
            "order": null,
            "overflow": null,
            "overflow_x": null,
            "overflow_y": null,
            "padding": null,
            "right": null,
            "top": null,
            "visibility": null,
            "width": null
          }
        },
        "57e51877fae9472eb492982fad07b75b": {
          "model_module": "@jupyter-widgets/base",
          "model_name": "LayoutModel",
          "model_module_version": "1.2.0",
          "state": {
            "_model_module": "@jupyter-widgets/base",
            "_model_module_version": "1.2.0",
            "_model_name": "LayoutModel",
            "_view_count": null,
            "_view_module": "@jupyter-widgets/base",
            "_view_module_version": "1.2.0",
            "_view_name": "LayoutView",
            "align_content": null,
            "align_items": null,
            "align_self": null,
            "border": null,
            "bottom": null,
            "display": null,
            "flex": null,
            "flex_flow": null,
            "grid_area": null,
            "grid_auto_columns": null,
            "grid_auto_flow": null,
            "grid_auto_rows": null,
            "grid_column": null,
            "grid_gap": null,
            "grid_row": null,
            "grid_template_areas": null,
            "grid_template_columns": null,
            "grid_template_rows": null,
            "height": null,
            "justify_content": null,
            "justify_items": null,
            "left": null,
            "margin": null,
            "max_height": null,
            "max_width": null,
            "min_height": null,
            "min_width": null,
            "object_fit": null,
            "object_position": null,
            "order": null,
            "overflow": null,
            "overflow_x": null,
            "overflow_y": null,
            "padding": null,
            "right": null,
            "top": null,
            "visibility": null,
            "width": null
          }
        },
        "3a4678153754495db977e50c93046f85": {
          "model_module": "@jupyter-widgets/controls",
          "model_name": "DescriptionStyleModel",
          "model_module_version": "1.5.0",
          "state": {
            "_model_module": "@jupyter-widgets/controls",
            "_model_module_version": "1.5.0",
            "_model_name": "DescriptionStyleModel",
            "_view_count": null,
            "_view_module": "@jupyter-widgets/base",
            "_view_module_version": "1.2.0",
            "_view_name": "StyleView",
            "description_width": ""
          }
        },
        "824bc5f6de9c4e1da6072a483b059dec": {
          "model_module": "@jupyter-widgets/base",
          "model_name": "LayoutModel",
          "model_module_version": "1.2.0",
          "state": {
            "_model_module": "@jupyter-widgets/base",
            "_model_module_version": "1.2.0",
            "_model_name": "LayoutModel",
            "_view_count": null,
            "_view_module": "@jupyter-widgets/base",
            "_view_module_version": "1.2.0",
            "_view_name": "LayoutView",
            "align_content": null,
            "align_items": null,
            "align_self": null,
            "border": null,
            "bottom": null,
            "display": null,
            "flex": null,
            "flex_flow": null,
            "grid_area": null,
            "grid_auto_columns": null,
            "grid_auto_flow": null,
            "grid_auto_rows": null,
            "grid_column": null,
            "grid_gap": null,
            "grid_row": null,
            "grid_template_areas": null,
            "grid_template_columns": null,
            "grid_template_rows": null,
            "height": null,
            "justify_content": null,
            "justify_items": null,
            "left": null,
            "margin": null,
            "max_height": null,
            "max_width": null,
            "min_height": null,
            "min_width": null,
            "object_fit": null,
            "object_position": null,
            "order": null,
            "overflow": null,
            "overflow_x": null,
            "overflow_y": null,
            "padding": null,
            "right": null,
            "top": null,
            "visibility": null,
            "width": null
          }
        },
        "61b630ec3ceb44108975ceab3573049a": {
          "model_module": "@jupyter-widgets/controls",
          "model_name": "ProgressStyleModel",
          "model_module_version": "1.5.0",
          "state": {
            "_model_module": "@jupyter-widgets/controls",
            "_model_module_version": "1.5.0",
            "_model_name": "ProgressStyleModel",
            "_view_count": null,
            "_view_module": "@jupyter-widgets/base",
            "_view_module_version": "1.2.0",
            "_view_name": "StyleView",
            "bar_color": null,
            "description_width": ""
          }
        },
        "4c0c13f262d74d2e96a100a31b34cf3e": {
          "model_module": "@jupyter-widgets/base",
          "model_name": "LayoutModel",
          "model_module_version": "1.2.0",
          "state": {
            "_model_module": "@jupyter-widgets/base",
            "_model_module_version": "1.2.0",
            "_model_name": "LayoutModel",
            "_view_count": null,
            "_view_module": "@jupyter-widgets/base",
            "_view_module_version": "1.2.0",
            "_view_name": "LayoutView",
            "align_content": null,
            "align_items": null,
            "align_self": null,
            "border": null,
            "bottom": null,
            "display": null,
            "flex": null,
            "flex_flow": null,
            "grid_area": null,
            "grid_auto_columns": null,
            "grid_auto_flow": null,
            "grid_auto_rows": null,
            "grid_column": null,
            "grid_gap": null,
            "grid_row": null,
            "grid_template_areas": null,
            "grid_template_columns": null,
            "grid_template_rows": null,
            "height": null,
            "justify_content": null,
            "justify_items": null,
            "left": null,
            "margin": null,
            "max_height": null,
            "max_width": null,
            "min_height": null,
            "min_width": null,
            "object_fit": null,
            "object_position": null,
            "order": null,
            "overflow": null,
            "overflow_x": null,
            "overflow_y": null,
            "padding": null,
            "right": null,
            "top": null,
            "visibility": null,
            "width": null
          }
        },
        "ba616ee68ae146a1861c0bdf54c6461f": {
          "model_module": "@jupyter-widgets/controls",
          "model_name": "DescriptionStyleModel",
          "model_module_version": "1.5.0",
          "state": {
            "_model_module": "@jupyter-widgets/controls",
            "_model_module_version": "1.5.0",
            "_model_name": "DescriptionStyleModel",
            "_view_count": null,
            "_view_module": "@jupyter-widgets/base",
            "_view_module_version": "1.2.0",
            "_view_name": "StyleView",
            "description_width": ""
          }
        },
        "17bd95a3c5024e66b4810233d058e768": {
          "model_module": "@jupyter-widgets/controls",
          "model_name": "HBoxModel",
          "model_module_version": "1.5.0",
          "state": {
            "_dom_classes": [],
            "_model_module": "@jupyter-widgets/controls",
            "_model_module_version": "1.5.0",
            "_model_name": "HBoxModel",
            "_view_count": null,
            "_view_module": "@jupyter-widgets/controls",
            "_view_module_version": "1.5.0",
            "_view_name": "HBoxView",
            "box_style": "",
            "children": [
              "IPY_MODEL_cff441c5cedd44e980b6a76bb8852a26",
              "IPY_MODEL_2593d1ad569c46cb8cbe14038d750a82",
              "IPY_MODEL_fd4f882895ff4b289e7843450f0eda2d"
            ],
            "layout": "IPY_MODEL_84b07f0e38504b1b9efaaa134c4504d4"
          }
        },
        "cff441c5cedd44e980b6a76bb8852a26": {
          "model_module": "@jupyter-widgets/controls",
          "model_name": "HTMLModel",
          "model_module_version": "1.5.0",
          "state": {
            "_dom_classes": [],
            "_model_module": "@jupyter-widgets/controls",
            "_model_module_version": "1.5.0",
            "_model_name": "HTMLModel",
            "_view_count": null,
            "_view_module": "@jupyter-widgets/controls",
            "_view_module_version": "1.5.0",
            "_view_name": "HTMLView",
            "description": "",
            "description_tooltip": null,
            "layout": "IPY_MODEL_c25d88c9c05744e2b404e7d4f8b1b45e",
            "placeholder": "​",
            "style": "IPY_MODEL_9c6e27c591f84e7baea9b77a0497237d",
            "value": "Ep: 100%"
          }
        },
        "2593d1ad569c46cb8cbe14038d750a82": {
          "model_module": "@jupyter-widgets/controls",
          "model_name": "FloatProgressModel",
          "model_module_version": "1.5.0",
          "state": {
            "_dom_classes": [],
            "_model_module": "@jupyter-widgets/controls",
            "_model_module_version": "1.5.0",
            "_model_name": "FloatProgressModel",
            "_view_count": null,
            "_view_module": "@jupyter-widgets/controls",
            "_view_module_version": "1.5.0",
            "_view_name": "ProgressView",
            "bar_style": "success",
            "description": "",
            "description_tooltip": null,
            "layout": "IPY_MODEL_cd61facaa0d14f6d8cb964ea995b8ffa",
            "max": 2000,
            "min": 0,
            "orientation": "horizontal",
            "style": "IPY_MODEL_452b166abe754de5ad4b2b2de7b5d36b",
            "value": 2000
          }
        },
        "fd4f882895ff4b289e7843450f0eda2d": {
          "model_module": "@jupyter-widgets/controls",
          "model_name": "HTMLModel",
          "model_module_version": "1.5.0",
          "state": {
            "_dom_classes": [],
            "_model_module": "@jupyter-widgets/controls",
            "_model_module_version": "1.5.0",
            "_model_name": "HTMLModel",
            "_view_count": null,
            "_view_module": "@jupyter-widgets/controls",
            "_view_module_version": "1.5.0",
            "_view_name": "HTMLView",
            "description": "",
            "description_tooltip": null,
            "layout": "IPY_MODEL_7bd8077958de4aca8969af1c579fc857",
            "placeholder": "​",
            "style": "IPY_MODEL_c0887c44041941c7b6728e23e24f72a0",
            "value": " 2000/2000 [11:02&lt;00:00,  3.46it/s]"
          }
        },
        "84b07f0e38504b1b9efaaa134c4504d4": {
          "model_module": "@jupyter-widgets/base",
          "model_name": "LayoutModel",
          "model_module_version": "1.2.0",
          "state": {
            "_model_module": "@jupyter-widgets/base",
            "_model_module_version": "1.2.0",
            "_model_name": "LayoutModel",
            "_view_count": null,
            "_view_module": "@jupyter-widgets/base",
            "_view_module_version": "1.2.0",
            "_view_name": "LayoutView",
            "align_content": null,
            "align_items": null,
            "align_self": null,
            "border": null,
            "bottom": null,
            "display": null,
            "flex": null,
            "flex_flow": null,
            "grid_area": null,
            "grid_auto_columns": null,
            "grid_auto_flow": null,
            "grid_auto_rows": null,
            "grid_column": null,
            "grid_gap": null,
            "grid_row": null,
            "grid_template_areas": null,
            "grid_template_columns": null,
            "grid_template_rows": null,
            "height": null,
            "justify_content": null,
            "justify_items": null,
            "left": null,
            "margin": null,
            "max_height": null,
            "max_width": null,
            "min_height": null,
            "min_width": null,
            "object_fit": null,
            "object_position": null,
            "order": null,
            "overflow": null,
            "overflow_x": null,
            "overflow_y": null,
            "padding": null,
            "right": null,
            "top": null,
            "visibility": null,
            "width": null
          }
        },
        "c25d88c9c05744e2b404e7d4f8b1b45e": {
          "model_module": "@jupyter-widgets/base",
          "model_name": "LayoutModel",
          "model_module_version": "1.2.0",
          "state": {
            "_model_module": "@jupyter-widgets/base",
            "_model_module_version": "1.2.0",
            "_model_name": "LayoutModel",
            "_view_count": null,
            "_view_module": "@jupyter-widgets/base",
            "_view_module_version": "1.2.0",
            "_view_name": "LayoutView",
            "align_content": null,
            "align_items": null,
            "align_self": null,
            "border": null,
            "bottom": null,
            "display": null,
            "flex": null,
            "flex_flow": null,
            "grid_area": null,
            "grid_auto_columns": null,
            "grid_auto_flow": null,
            "grid_auto_rows": null,
            "grid_column": null,
            "grid_gap": null,
            "grid_row": null,
            "grid_template_areas": null,
            "grid_template_columns": null,
            "grid_template_rows": null,
            "height": null,
            "justify_content": null,
            "justify_items": null,
            "left": null,
            "margin": null,
            "max_height": null,
            "max_width": null,
            "min_height": null,
            "min_width": null,
            "object_fit": null,
            "object_position": null,
            "order": null,
            "overflow": null,
            "overflow_x": null,
            "overflow_y": null,
            "padding": null,
            "right": null,
            "top": null,
            "visibility": null,
            "width": null
          }
        },
        "9c6e27c591f84e7baea9b77a0497237d": {
          "model_module": "@jupyter-widgets/controls",
          "model_name": "DescriptionStyleModel",
          "model_module_version": "1.5.0",
          "state": {
            "_model_module": "@jupyter-widgets/controls",
            "_model_module_version": "1.5.0",
            "_model_name": "DescriptionStyleModel",
            "_view_count": null,
            "_view_module": "@jupyter-widgets/base",
            "_view_module_version": "1.2.0",
            "_view_name": "StyleView",
            "description_width": ""
          }
        },
        "cd61facaa0d14f6d8cb964ea995b8ffa": {
          "model_module": "@jupyter-widgets/base",
          "model_name": "LayoutModel",
          "model_module_version": "1.2.0",
          "state": {
            "_model_module": "@jupyter-widgets/base",
            "_model_module_version": "1.2.0",
            "_model_name": "LayoutModel",
            "_view_count": null,
            "_view_module": "@jupyter-widgets/base",
            "_view_module_version": "1.2.0",
            "_view_name": "LayoutView",
            "align_content": null,
            "align_items": null,
            "align_self": null,
            "border": null,
            "bottom": null,
            "display": null,
            "flex": null,
            "flex_flow": null,
            "grid_area": null,
            "grid_auto_columns": null,
            "grid_auto_flow": null,
            "grid_auto_rows": null,
            "grid_column": null,
            "grid_gap": null,
            "grid_row": null,
            "grid_template_areas": null,
            "grid_template_columns": null,
            "grid_template_rows": null,
            "height": null,
            "justify_content": null,
            "justify_items": null,
            "left": null,
            "margin": null,
            "max_height": null,
            "max_width": null,
            "min_height": null,
            "min_width": null,
            "object_fit": null,
            "object_position": null,
            "order": null,
            "overflow": null,
            "overflow_x": null,
            "overflow_y": null,
            "padding": null,
            "right": null,
            "top": null,
            "visibility": null,
            "width": null
          }
        },
        "452b166abe754de5ad4b2b2de7b5d36b": {
          "model_module": "@jupyter-widgets/controls",
          "model_name": "ProgressStyleModel",
          "model_module_version": "1.5.0",
          "state": {
            "_model_module": "@jupyter-widgets/controls",
            "_model_module_version": "1.5.0",
            "_model_name": "ProgressStyleModel",
            "_view_count": null,
            "_view_module": "@jupyter-widgets/base",
            "_view_module_version": "1.2.0",
            "_view_name": "StyleView",
            "bar_color": null,
            "description_width": ""
          }
        },
        "7bd8077958de4aca8969af1c579fc857": {
          "model_module": "@jupyter-widgets/base",
          "model_name": "LayoutModel",
          "model_module_version": "1.2.0",
          "state": {
            "_model_module": "@jupyter-widgets/base",
            "_model_module_version": "1.2.0",
            "_model_name": "LayoutModel",
            "_view_count": null,
            "_view_module": "@jupyter-widgets/base",
            "_view_module_version": "1.2.0",
            "_view_name": "LayoutView",
            "align_content": null,
            "align_items": null,
            "align_self": null,
            "border": null,
            "bottom": null,
            "display": null,
            "flex": null,
            "flex_flow": null,
            "grid_area": null,
            "grid_auto_columns": null,
            "grid_auto_flow": null,
            "grid_auto_rows": null,
            "grid_column": null,
            "grid_gap": null,
            "grid_row": null,
            "grid_template_areas": null,
            "grid_template_columns": null,
            "grid_template_rows": null,
            "height": null,
            "justify_content": null,
            "justify_items": null,
            "left": null,
            "margin": null,
            "max_height": null,
            "max_width": null,
            "min_height": null,
            "min_width": null,
            "object_fit": null,
            "object_position": null,
            "order": null,
            "overflow": null,
            "overflow_x": null,
            "overflow_y": null,
            "padding": null,
            "right": null,
            "top": null,
            "visibility": null,
            "width": null
          }
        },
        "c0887c44041941c7b6728e23e24f72a0": {
          "model_module": "@jupyter-widgets/controls",
          "model_name": "DescriptionStyleModel",
          "model_module_version": "1.5.0",
          "state": {
            "_model_module": "@jupyter-widgets/controls",
            "_model_module_version": "1.5.0",
            "_model_name": "DescriptionStyleModel",
            "_view_count": null,
            "_view_module": "@jupyter-widgets/base",
            "_view_module_version": "1.2.0",
            "_view_name": "StyleView",
            "description_width": ""
          }
        },
        "064ab0e679d8400b9d5c02202c8b06ca": {
          "model_module": "@jupyter-widgets/controls",
          "model_name": "HBoxModel",
          "model_module_version": "1.5.0",
          "state": {
            "_dom_classes": [],
            "_model_module": "@jupyter-widgets/controls",
            "_model_module_version": "1.5.0",
            "_model_name": "HBoxModel",
            "_view_count": null,
            "_view_module": "@jupyter-widgets/controls",
            "_view_module_version": "1.5.0",
            "_view_name": "HBoxView",
            "box_style": "",
            "children": [
              "IPY_MODEL_eddb622a8c13479b981226221e0bba05",
              "IPY_MODEL_7b5d82c46eab43588c1ca14679716185",
              "IPY_MODEL_2f2e0d71620e4b31b91758c24b6b4c74"
            ],
            "layout": "IPY_MODEL_8ad2d2be183f4f619baad4b32cccd7ec"
          }
        },
        "eddb622a8c13479b981226221e0bba05": {
          "model_module": "@jupyter-widgets/controls",
          "model_name": "HTMLModel",
          "model_module_version": "1.5.0",
          "state": {
            "_dom_classes": [],
            "_model_module": "@jupyter-widgets/controls",
            "_model_module_version": "1.5.0",
            "_model_name": "HTMLModel",
            "_view_count": null,
            "_view_module": "@jupyter-widgets/controls",
            "_view_module_version": "1.5.0",
            "_view_name": "HTMLView",
            "description": "",
            "description_tooltip": null,
            "layout": "IPY_MODEL_faa77b3a867f489d8091263db46a137f",
            "placeholder": "​",
            "style": "IPY_MODEL_2153bea46a9a48aea81bd063010094f8",
            "value": "Ep:   0%"
          }
        },
        "7b5d82c46eab43588c1ca14679716185": {
          "model_module": "@jupyter-widgets/controls",
          "model_name": "FloatProgressModel",
          "model_module_version": "1.5.0",
          "state": {
            "_dom_classes": [],
            "_model_module": "@jupyter-widgets/controls",
            "_model_module_version": "1.5.0",
            "_model_name": "FloatProgressModel",
            "_view_count": null,
            "_view_module": "@jupyter-widgets/controls",
            "_view_module_version": "1.5.0",
            "_view_name": "ProgressView",
            "bar_style": "",
            "description": "",
            "description_tooltip": null,
            "layout": "IPY_MODEL_378fdc6659054aa4b0ad690f88787873",
            "max": 5000,
            "min": 0,
            "orientation": "horizontal",
            "style": "IPY_MODEL_d7df9e9cfdda40fcb6869efbc2035764",
            "value": 2
          }
        },
        "2f2e0d71620e4b31b91758c24b6b4c74": {
          "model_module": "@jupyter-widgets/controls",
          "model_name": "HTMLModel",
          "model_module_version": "1.5.0",
          "state": {
            "_dom_classes": [],
            "_model_module": "@jupyter-widgets/controls",
            "_model_module_version": "1.5.0",
            "_model_name": "HTMLModel",
            "_view_count": null,
            "_view_module": "@jupyter-widgets/controls",
            "_view_module_version": "1.5.0",
            "_view_name": "HTMLView",
            "description": "",
            "description_tooltip": null,
            "layout": "IPY_MODEL_fca76e88354243b0bca9ebf2c34c5f9c",
            "placeholder": "​",
            "style": "IPY_MODEL_c958e07f3a9f47c5a46cad0f1a558126",
            "value": " 2/5000 [00:16&lt;11:07:14,  8.01s/it]"
          }
        },
        "8ad2d2be183f4f619baad4b32cccd7ec": {
          "model_module": "@jupyter-widgets/base",
          "model_name": "LayoutModel",
          "model_module_version": "1.2.0",
          "state": {
            "_model_module": "@jupyter-widgets/base",
            "_model_module_version": "1.2.0",
            "_model_name": "LayoutModel",
            "_view_count": null,
            "_view_module": "@jupyter-widgets/base",
            "_view_module_version": "1.2.0",
            "_view_name": "LayoutView",
            "align_content": null,
            "align_items": null,
            "align_self": null,
            "border": null,
            "bottom": null,
            "display": null,
            "flex": null,
            "flex_flow": null,
            "grid_area": null,
            "grid_auto_columns": null,
            "grid_auto_flow": null,
            "grid_auto_rows": null,
            "grid_column": null,
            "grid_gap": null,
            "grid_row": null,
            "grid_template_areas": null,
            "grid_template_columns": null,
            "grid_template_rows": null,
            "height": null,
            "justify_content": null,
            "justify_items": null,
            "left": null,
            "margin": null,
            "max_height": null,
            "max_width": null,
            "min_height": null,
            "min_width": null,
            "object_fit": null,
            "object_position": null,
            "order": null,
            "overflow": null,
            "overflow_x": null,
            "overflow_y": null,
            "padding": null,
            "right": null,
            "top": null,
            "visibility": null,
            "width": null
          }
        },
        "faa77b3a867f489d8091263db46a137f": {
          "model_module": "@jupyter-widgets/base",
          "model_name": "LayoutModel",
          "model_module_version": "1.2.0",
          "state": {
            "_model_module": "@jupyter-widgets/base",
            "_model_module_version": "1.2.0",
            "_model_name": "LayoutModel",
            "_view_count": null,
            "_view_module": "@jupyter-widgets/base",
            "_view_module_version": "1.2.0",
            "_view_name": "LayoutView",
            "align_content": null,
            "align_items": null,
            "align_self": null,
            "border": null,
            "bottom": null,
            "display": null,
            "flex": null,
            "flex_flow": null,
            "grid_area": null,
            "grid_auto_columns": null,
            "grid_auto_flow": null,
            "grid_auto_rows": null,
            "grid_column": null,
            "grid_gap": null,
            "grid_row": null,
            "grid_template_areas": null,
            "grid_template_columns": null,
            "grid_template_rows": null,
            "height": null,
            "justify_content": null,
            "justify_items": null,
            "left": null,
            "margin": null,
            "max_height": null,
            "max_width": null,
            "min_height": null,
            "min_width": null,
            "object_fit": null,
            "object_position": null,
            "order": null,
            "overflow": null,
            "overflow_x": null,
            "overflow_y": null,
            "padding": null,
            "right": null,
            "top": null,
            "visibility": null,
            "width": null
          }
        },
        "2153bea46a9a48aea81bd063010094f8": {
          "model_module": "@jupyter-widgets/controls",
          "model_name": "DescriptionStyleModel",
          "model_module_version": "1.5.0",
          "state": {
            "_model_module": "@jupyter-widgets/controls",
            "_model_module_version": "1.5.0",
            "_model_name": "DescriptionStyleModel",
            "_view_count": null,
            "_view_module": "@jupyter-widgets/base",
            "_view_module_version": "1.2.0",
            "_view_name": "StyleView",
            "description_width": ""
          }
        },
        "378fdc6659054aa4b0ad690f88787873": {
          "model_module": "@jupyter-widgets/base",
          "model_name": "LayoutModel",
          "model_module_version": "1.2.0",
          "state": {
            "_model_module": "@jupyter-widgets/base",
            "_model_module_version": "1.2.0",
            "_model_name": "LayoutModel",
            "_view_count": null,
            "_view_module": "@jupyter-widgets/base",
            "_view_module_version": "1.2.0",
            "_view_name": "LayoutView",
            "align_content": null,
            "align_items": null,
            "align_self": null,
            "border": null,
            "bottom": null,
            "display": null,
            "flex": null,
            "flex_flow": null,
            "grid_area": null,
            "grid_auto_columns": null,
            "grid_auto_flow": null,
            "grid_auto_rows": null,
            "grid_column": null,
            "grid_gap": null,
            "grid_row": null,
            "grid_template_areas": null,
            "grid_template_columns": null,
            "grid_template_rows": null,
            "height": null,
            "justify_content": null,
            "justify_items": null,
            "left": null,
            "margin": null,
            "max_height": null,
            "max_width": null,
            "min_height": null,
            "min_width": null,
            "object_fit": null,
            "object_position": null,
            "order": null,
            "overflow": null,
            "overflow_x": null,
            "overflow_y": null,
            "padding": null,
            "right": null,
            "top": null,
            "visibility": null,
            "width": null
          }
        },
        "d7df9e9cfdda40fcb6869efbc2035764": {
          "model_module": "@jupyter-widgets/controls",
          "model_name": "ProgressStyleModel",
          "model_module_version": "1.5.0",
          "state": {
            "_model_module": "@jupyter-widgets/controls",
            "_model_module_version": "1.5.0",
            "_model_name": "ProgressStyleModel",
            "_view_count": null,
            "_view_module": "@jupyter-widgets/base",
            "_view_module_version": "1.2.0",
            "_view_name": "StyleView",
            "bar_color": null,
            "description_width": ""
          }
        },
        "fca76e88354243b0bca9ebf2c34c5f9c": {
          "model_module": "@jupyter-widgets/base",
          "model_name": "LayoutModel",
          "model_module_version": "1.2.0",
          "state": {
            "_model_module": "@jupyter-widgets/base",
            "_model_module_version": "1.2.0",
            "_model_name": "LayoutModel",
            "_view_count": null,
            "_view_module": "@jupyter-widgets/base",
            "_view_module_version": "1.2.0",
            "_view_name": "LayoutView",
            "align_content": null,
            "align_items": null,
            "align_self": null,
            "border": null,
            "bottom": null,
            "display": null,
            "flex": null,
            "flex_flow": null,
            "grid_area": null,
            "grid_auto_columns": null,
            "grid_auto_flow": null,
            "grid_auto_rows": null,
            "grid_column": null,
            "grid_gap": null,
            "grid_row": null,
            "grid_template_areas": null,
            "grid_template_columns": null,
            "grid_template_rows": null,
            "height": null,
            "justify_content": null,
            "justify_items": null,
            "left": null,
            "margin": null,
            "max_height": null,
            "max_width": null,
            "min_height": null,
            "min_width": null,
            "object_fit": null,
            "object_position": null,
            "order": null,
            "overflow": null,
            "overflow_x": null,
            "overflow_y": null,
            "padding": null,
            "right": null,
            "top": null,
            "visibility": null,
            "width": null
          }
        },
        "c958e07f3a9f47c5a46cad0f1a558126": {
          "model_module": "@jupyter-widgets/controls",
          "model_name": "DescriptionStyleModel",
          "model_module_version": "1.5.0",
          "state": {
            "_model_module": "@jupyter-widgets/controls",
            "_model_module_version": "1.5.0",
            "_model_name": "DescriptionStyleModel",
            "_view_count": null,
            "_view_module": "@jupyter-widgets/base",
            "_view_module_version": "1.2.0",
            "_view_name": "StyleView",
            "description_width": ""
          }
        },
        "ff4d12707ab14bfd9e2d8eade126a16e": {
          "model_module": "@jupyter-widgets/controls",
          "model_name": "HBoxModel",
          "model_module_version": "1.5.0",
          "state": {
            "_dom_classes": [],
            "_model_module": "@jupyter-widgets/controls",
            "_model_module_version": "1.5.0",
            "_model_name": "HBoxModel",
            "_view_count": null,
            "_view_module": "@jupyter-widgets/controls",
            "_view_module_version": "1.5.0",
            "_view_name": "HBoxView",
            "box_style": "",
            "children": [
              "IPY_MODEL_a8f502d20dae4a9a9f9657d291b6d004",
              "IPY_MODEL_a35afeb3a6894022a3b1d0a6a72482fa",
              "IPY_MODEL_e4639155cecb482794fa66927d6642fa"
            ],
            "layout": "IPY_MODEL_0f6f97c555954824ac0903c10a48de94"
          }
        },
        "a8f502d20dae4a9a9f9657d291b6d004": {
          "model_module": "@jupyter-widgets/controls",
          "model_name": "HTMLModel",
          "model_module_version": "1.5.0",
          "state": {
            "_dom_classes": [],
            "_model_module": "@jupyter-widgets/controls",
            "_model_module_version": "1.5.0",
            "_model_name": "HTMLModel",
            "_view_count": null,
            "_view_module": "@jupyter-widgets/controls",
            "_view_module_version": "1.5.0",
            "_view_name": "HTMLView",
            "description": "",
            "description_tooltip": null,
            "layout": "IPY_MODEL_a3174fb05dd248cdb6a08c20c712785f",
            "placeholder": "​",
            "style": "IPY_MODEL_e8ec6fcfabd44ed9ae07cf98a79038c4",
            "value": "Ep: 100%"
          }
        },
        "a35afeb3a6894022a3b1d0a6a72482fa": {
          "model_module": "@jupyter-widgets/controls",
          "model_name": "FloatProgressModel",
          "model_module_version": "1.5.0",
          "state": {
            "_dom_classes": [],
            "_model_module": "@jupyter-widgets/controls",
            "_model_module_version": "1.5.0",
            "_model_name": "FloatProgressModel",
            "_view_count": null,
            "_view_module": "@jupyter-widgets/controls",
            "_view_module_version": "1.5.0",
            "_view_name": "ProgressView",
            "bar_style": "success",
            "description": "",
            "description_tooltip": null,
            "layout": "IPY_MODEL_d38b83f9d4bf4d5fa27897053748e56b",
            "max": 500,
            "min": 0,
            "orientation": "horizontal",
            "style": "IPY_MODEL_7dfd33d16c734424aa4734fa40c5d247",
            "value": 500
          }
        },
        "e4639155cecb482794fa66927d6642fa": {
          "model_module": "@jupyter-widgets/controls",
          "model_name": "HTMLModel",
          "model_module_version": "1.5.0",
          "state": {
            "_dom_classes": [],
            "_model_module": "@jupyter-widgets/controls",
            "_model_module_version": "1.5.0",
            "_model_name": "HTMLModel",
            "_view_count": null,
            "_view_module": "@jupyter-widgets/controls",
            "_view_module_version": "1.5.0",
            "_view_name": "HTMLView",
            "description": "",
            "description_tooltip": null,
            "layout": "IPY_MODEL_199004d334b54a438ac9fe566161cc19",
            "placeholder": "​",
            "style": "IPY_MODEL_dd81949fa3c843d48beedf06aeb1416e",
            "value": " 500/500 [26:58&lt;00:00,  3.36s/it]"
          }
        },
        "0f6f97c555954824ac0903c10a48de94": {
          "model_module": "@jupyter-widgets/base",
          "model_name": "LayoutModel",
          "model_module_version": "1.2.0",
          "state": {
            "_model_module": "@jupyter-widgets/base",
            "_model_module_version": "1.2.0",
            "_model_name": "LayoutModel",
            "_view_count": null,
            "_view_module": "@jupyter-widgets/base",
            "_view_module_version": "1.2.0",
            "_view_name": "LayoutView",
            "align_content": null,
            "align_items": null,
            "align_self": null,
            "border": null,
            "bottom": null,
            "display": null,
            "flex": null,
            "flex_flow": null,
            "grid_area": null,
            "grid_auto_columns": null,
            "grid_auto_flow": null,
            "grid_auto_rows": null,
            "grid_column": null,
            "grid_gap": null,
            "grid_row": null,
            "grid_template_areas": null,
            "grid_template_columns": null,
            "grid_template_rows": null,
            "height": null,
            "justify_content": null,
            "justify_items": null,
            "left": null,
            "margin": null,
            "max_height": null,
            "max_width": null,
            "min_height": null,
            "min_width": null,
            "object_fit": null,
            "object_position": null,
            "order": null,
            "overflow": null,
            "overflow_x": null,
            "overflow_y": null,
            "padding": null,
            "right": null,
            "top": null,
            "visibility": null,
            "width": null
          }
        },
        "a3174fb05dd248cdb6a08c20c712785f": {
          "model_module": "@jupyter-widgets/base",
          "model_name": "LayoutModel",
          "model_module_version": "1.2.0",
          "state": {
            "_model_module": "@jupyter-widgets/base",
            "_model_module_version": "1.2.0",
            "_model_name": "LayoutModel",
            "_view_count": null,
            "_view_module": "@jupyter-widgets/base",
            "_view_module_version": "1.2.0",
            "_view_name": "LayoutView",
            "align_content": null,
            "align_items": null,
            "align_self": null,
            "border": null,
            "bottom": null,
            "display": null,
            "flex": null,
            "flex_flow": null,
            "grid_area": null,
            "grid_auto_columns": null,
            "grid_auto_flow": null,
            "grid_auto_rows": null,
            "grid_column": null,
            "grid_gap": null,
            "grid_row": null,
            "grid_template_areas": null,
            "grid_template_columns": null,
            "grid_template_rows": null,
            "height": null,
            "justify_content": null,
            "justify_items": null,
            "left": null,
            "margin": null,
            "max_height": null,
            "max_width": null,
            "min_height": null,
            "min_width": null,
            "object_fit": null,
            "object_position": null,
            "order": null,
            "overflow": null,
            "overflow_x": null,
            "overflow_y": null,
            "padding": null,
            "right": null,
            "top": null,
            "visibility": null,
            "width": null
          }
        },
        "e8ec6fcfabd44ed9ae07cf98a79038c4": {
          "model_module": "@jupyter-widgets/controls",
          "model_name": "DescriptionStyleModel",
          "model_module_version": "1.5.0",
          "state": {
            "_model_module": "@jupyter-widgets/controls",
            "_model_module_version": "1.5.0",
            "_model_name": "DescriptionStyleModel",
            "_view_count": null,
            "_view_module": "@jupyter-widgets/base",
            "_view_module_version": "1.2.0",
            "_view_name": "StyleView",
            "description_width": ""
          }
        },
        "d38b83f9d4bf4d5fa27897053748e56b": {
          "model_module": "@jupyter-widgets/base",
          "model_name": "LayoutModel",
          "model_module_version": "1.2.0",
          "state": {
            "_model_module": "@jupyter-widgets/base",
            "_model_module_version": "1.2.0",
            "_model_name": "LayoutModel",
            "_view_count": null,
            "_view_module": "@jupyter-widgets/base",
            "_view_module_version": "1.2.0",
            "_view_name": "LayoutView",
            "align_content": null,
            "align_items": null,
            "align_self": null,
            "border": null,
            "bottom": null,
            "display": null,
            "flex": null,
            "flex_flow": null,
            "grid_area": null,
            "grid_auto_columns": null,
            "grid_auto_flow": null,
            "grid_auto_rows": null,
            "grid_column": null,
            "grid_gap": null,
            "grid_row": null,
            "grid_template_areas": null,
            "grid_template_columns": null,
            "grid_template_rows": null,
            "height": null,
            "justify_content": null,
            "justify_items": null,
            "left": null,
            "margin": null,
            "max_height": null,
            "max_width": null,
            "min_height": null,
            "min_width": null,
            "object_fit": null,
            "object_position": null,
            "order": null,
            "overflow": null,
            "overflow_x": null,
            "overflow_y": null,
            "padding": null,
            "right": null,
            "top": null,
            "visibility": null,
            "width": null
          }
        },
        "7dfd33d16c734424aa4734fa40c5d247": {
          "model_module": "@jupyter-widgets/controls",
          "model_name": "ProgressStyleModel",
          "model_module_version": "1.5.0",
          "state": {
            "_model_module": "@jupyter-widgets/controls",
            "_model_module_version": "1.5.0",
            "_model_name": "ProgressStyleModel",
            "_view_count": null,
            "_view_module": "@jupyter-widgets/base",
            "_view_module_version": "1.2.0",
            "_view_name": "StyleView",
            "bar_color": null,
            "description_width": ""
          }
        },
        "199004d334b54a438ac9fe566161cc19": {
          "model_module": "@jupyter-widgets/base",
          "model_name": "LayoutModel",
          "model_module_version": "1.2.0",
          "state": {
            "_model_module": "@jupyter-widgets/base",
            "_model_module_version": "1.2.0",
            "_model_name": "LayoutModel",
            "_view_count": null,
            "_view_module": "@jupyter-widgets/base",
            "_view_module_version": "1.2.0",
            "_view_name": "LayoutView",
            "align_content": null,
            "align_items": null,
            "align_self": null,
            "border": null,
            "bottom": null,
            "display": null,
            "flex": null,
            "flex_flow": null,
            "grid_area": null,
            "grid_auto_columns": null,
            "grid_auto_flow": null,
            "grid_auto_rows": null,
            "grid_column": null,
            "grid_gap": null,
            "grid_row": null,
            "grid_template_areas": null,
            "grid_template_columns": null,
            "grid_template_rows": null,
            "height": null,
            "justify_content": null,
            "justify_items": null,
            "left": null,
            "margin": null,
            "max_height": null,
            "max_width": null,
            "min_height": null,
            "min_width": null,
            "object_fit": null,
            "object_position": null,
            "order": null,
            "overflow": null,
            "overflow_x": null,
            "overflow_y": null,
            "padding": null,
            "right": null,
            "top": null,
            "visibility": null,
            "width": null
          }
        },
        "dd81949fa3c843d48beedf06aeb1416e": {
          "model_module": "@jupyter-widgets/controls",
          "model_name": "DescriptionStyleModel",
          "model_module_version": "1.5.0",
          "state": {
            "_model_module": "@jupyter-widgets/controls",
            "_model_module_version": "1.5.0",
            "_model_name": "DescriptionStyleModel",
            "_view_count": null,
            "_view_module": "@jupyter-widgets/base",
            "_view_module_version": "1.2.0",
            "_view_name": "StyleView",
            "description_width": ""
          }
        },
        "f7cf01da73b8460db60cf087c6743c40": {
          "model_module": "@jupyter-widgets/controls",
          "model_name": "HBoxModel",
          "model_module_version": "1.5.0",
          "state": {
            "_dom_classes": [],
            "_model_module": "@jupyter-widgets/controls",
            "_model_module_version": "1.5.0",
            "_model_name": "HBoxModel",
            "_view_count": null,
            "_view_module": "@jupyter-widgets/controls",
            "_view_module_version": "1.5.0",
            "_view_name": "HBoxView",
            "box_style": "",
            "children": [
              "IPY_MODEL_ef6da399ef564443a9d85bbd72aa0b25",
              "IPY_MODEL_e0b7fed8e25545a385be160a964a82da",
              "IPY_MODEL_99f52d3430534880a01da9557742bc03"
            ],
            "layout": "IPY_MODEL_816d28b338484d11879a5b7bebee5283"
          }
        },
        "ef6da399ef564443a9d85bbd72aa0b25": {
          "model_module": "@jupyter-widgets/controls",
          "model_name": "HTMLModel",
          "model_module_version": "1.5.0",
          "state": {
            "_dom_classes": [],
            "_model_module": "@jupyter-widgets/controls",
            "_model_module_version": "1.5.0",
            "_model_name": "HTMLModel",
            "_view_count": null,
            "_view_module": "@jupyter-widgets/controls",
            "_view_module_version": "1.5.0",
            "_view_name": "HTMLView",
            "description": "",
            "description_tooltip": null,
            "layout": "IPY_MODEL_25e7ec543ac44cb7b28cce87bc13a925",
            "placeholder": "​",
            "style": "IPY_MODEL_9a8529514d794f40a29f70cda926b058",
            "value": "Ep:   0%"
          }
        },
        "e0b7fed8e25545a385be160a964a82da": {
          "model_module": "@jupyter-widgets/controls",
          "model_name": "FloatProgressModel",
          "model_module_version": "1.5.0",
          "state": {
            "_dom_classes": [],
            "_model_module": "@jupyter-widgets/controls",
            "_model_module_version": "1.5.0",
            "_model_name": "FloatProgressModel",
            "_view_count": null,
            "_view_module": "@jupyter-widgets/controls",
            "_view_module_version": "1.5.0",
            "_view_name": "ProgressView",
            "bar_style": "",
            "description": "",
            "description_tooltip": null,
            "layout": "IPY_MODEL_c641db16a2e34ef694f245c5f23d76a9",
            "max": 500,
            "min": 0,
            "orientation": "horizontal",
            "style": "IPY_MODEL_22c6102e511545f09086155b4624b2a8",
            "value": 1
          }
        },
        "99f52d3430534880a01da9557742bc03": {
          "model_module": "@jupyter-widgets/controls",
          "model_name": "HTMLModel",
          "model_module_version": "1.5.0",
          "state": {
            "_dom_classes": [],
            "_model_module": "@jupyter-widgets/controls",
            "_model_module_version": "1.5.0",
            "_model_name": "HTMLModel",
            "_view_count": null,
            "_view_module": "@jupyter-widgets/controls",
            "_view_module_version": "1.5.0",
            "_view_name": "HTMLView",
            "description": "",
            "description_tooltip": null,
            "layout": "IPY_MODEL_a0f09404935a4ba6864ca27015cabcec",
            "placeholder": "​",
            "style": "IPY_MODEL_30235253e36b40fe935dc32e6720f24d",
            "value": " 0/500 [00:00&lt;?, ?it/s]"
          }
        },
        "816d28b338484d11879a5b7bebee5283": {
          "model_module": "@jupyter-widgets/base",
          "model_name": "LayoutModel",
          "model_module_version": "1.2.0",
          "state": {
            "_model_module": "@jupyter-widgets/base",
            "_model_module_version": "1.2.0",
            "_model_name": "LayoutModel",
            "_view_count": null,
            "_view_module": "@jupyter-widgets/base",
            "_view_module_version": "1.2.0",
            "_view_name": "LayoutView",
            "align_content": null,
            "align_items": null,
            "align_self": null,
            "border": null,
            "bottom": null,
            "display": null,
            "flex": null,
            "flex_flow": null,
            "grid_area": null,
            "grid_auto_columns": null,
            "grid_auto_flow": null,
            "grid_auto_rows": null,
            "grid_column": null,
            "grid_gap": null,
            "grid_row": null,
            "grid_template_areas": null,
            "grid_template_columns": null,
            "grid_template_rows": null,
            "height": null,
            "justify_content": null,
            "justify_items": null,
            "left": null,
            "margin": null,
            "max_height": null,
            "max_width": null,
            "min_height": null,
            "min_width": null,
            "object_fit": null,
            "object_position": null,
            "order": null,
            "overflow": null,
            "overflow_x": null,
            "overflow_y": null,
            "padding": null,
            "right": null,
            "top": null,
            "visibility": null,
            "width": null
          }
        },
        "25e7ec543ac44cb7b28cce87bc13a925": {
          "model_module": "@jupyter-widgets/base",
          "model_name": "LayoutModel",
          "model_module_version": "1.2.0",
          "state": {
            "_model_module": "@jupyter-widgets/base",
            "_model_module_version": "1.2.0",
            "_model_name": "LayoutModel",
            "_view_count": null,
            "_view_module": "@jupyter-widgets/base",
            "_view_module_version": "1.2.0",
            "_view_name": "LayoutView",
            "align_content": null,
            "align_items": null,
            "align_self": null,
            "border": null,
            "bottom": null,
            "display": null,
            "flex": null,
            "flex_flow": null,
            "grid_area": null,
            "grid_auto_columns": null,
            "grid_auto_flow": null,
            "grid_auto_rows": null,
            "grid_column": null,
            "grid_gap": null,
            "grid_row": null,
            "grid_template_areas": null,
            "grid_template_columns": null,
            "grid_template_rows": null,
            "height": null,
            "justify_content": null,
            "justify_items": null,
            "left": null,
            "margin": null,
            "max_height": null,
            "max_width": null,
            "min_height": null,
            "min_width": null,
            "object_fit": null,
            "object_position": null,
            "order": null,
            "overflow": null,
            "overflow_x": null,
            "overflow_y": null,
            "padding": null,
            "right": null,
            "top": null,
            "visibility": null,
            "width": null
          }
        },
        "9a8529514d794f40a29f70cda926b058": {
          "model_module": "@jupyter-widgets/controls",
          "model_name": "DescriptionStyleModel",
          "model_module_version": "1.5.0",
          "state": {
            "_model_module": "@jupyter-widgets/controls",
            "_model_module_version": "1.5.0",
            "_model_name": "DescriptionStyleModel",
            "_view_count": null,
            "_view_module": "@jupyter-widgets/base",
            "_view_module_version": "1.2.0",
            "_view_name": "StyleView",
            "description_width": ""
          }
        },
        "c641db16a2e34ef694f245c5f23d76a9": {
          "model_module": "@jupyter-widgets/base",
          "model_name": "LayoutModel",
          "model_module_version": "1.2.0",
          "state": {
            "_model_module": "@jupyter-widgets/base",
            "_model_module_version": "1.2.0",
            "_model_name": "LayoutModel",
            "_view_count": null,
            "_view_module": "@jupyter-widgets/base",
            "_view_module_version": "1.2.0",
            "_view_name": "LayoutView",
            "align_content": null,
            "align_items": null,
            "align_self": null,
            "border": null,
            "bottom": null,
            "display": null,
            "flex": null,
            "flex_flow": null,
            "grid_area": null,
            "grid_auto_columns": null,
            "grid_auto_flow": null,
            "grid_auto_rows": null,
            "grid_column": null,
            "grid_gap": null,
            "grid_row": null,
            "grid_template_areas": null,
            "grid_template_columns": null,
            "grid_template_rows": null,
            "height": null,
            "justify_content": null,
            "justify_items": null,
            "left": null,
            "margin": null,
            "max_height": null,
            "max_width": null,
            "min_height": null,
            "min_width": null,
            "object_fit": null,
            "object_position": null,
            "order": null,
            "overflow": null,
            "overflow_x": null,
            "overflow_y": null,
            "padding": null,
            "right": null,
            "top": null,
            "visibility": null,
            "width": null
          }
        },
        "22c6102e511545f09086155b4624b2a8": {
          "model_module": "@jupyter-widgets/controls",
          "model_name": "ProgressStyleModel",
          "model_module_version": "1.5.0",
          "state": {
            "_model_module": "@jupyter-widgets/controls",
            "_model_module_version": "1.5.0",
            "_model_name": "ProgressStyleModel",
            "_view_count": null,
            "_view_module": "@jupyter-widgets/base",
            "_view_module_version": "1.2.0",
            "_view_name": "StyleView",
            "bar_color": null,
            "description_width": ""
          }
        },
        "a0f09404935a4ba6864ca27015cabcec": {
          "model_module": "@jupyter-widgets/base",
          "model_name": "LayoutModel",
          "model_module_version": "1.2.0",
          "state": {
            "_model_module": "@jupyter-widgets/base",
            "_model_module_version": "1.2.0",
            "_model_name": "LayoutModel",
            "_view_count": null,
            "_view_module": "@jupyter-widgets/base",
            "_view_module_version": "1.2.0",
            "_view_name": "LayoutView",
            "align_content": null,
            "align_items": null,
            "align_self": null,
            "border": null,
            "bottom": null,
            "display": null,
            "flex": null,
            "flex_flow": null,
            "grid_area": null,
            "grid_auto_columns": null,
            "grid_auto_flow": null,
            "grid_auto_rows": null,
            "grid_column": null,
            "grid_gap": null,
            "grid_row": null,
            "grid_template_areas": null,
            "grid_template_columns": null,
            "grid_template_rows": null,
            "height": null,
            "justify_content": null,
            "justify_items": null,
            "left": null,
            "margin": null,
            "max_height": null,
            "max_width": null,
            "min_height": null,
            "min_width": null,
            "object_fit": null,
            "object_position": null,
            "order": null,
            "overflow": null,
            "overflow_x": null,
            "overflow_y": null,
            "padding": null,
            "right": null,
            "top": null,
            "visibility": null,
            "width": null
          }
        },
        "30235253e36b40fe935dc32e6720f24d": {
          "model_module": "@jupyter-widgets/controls",
          "model_name": "DescriptionStyleModel",
          "model_module_version": "1.5.0",
          "state": {
            "_model_module": "@jupyter-widgets/controls",
            "_model_module_version": "1.5.0",
            "_model_name": "DescriptionStyleModel",
            "_view_count": null,
            "_view_module": "@jupyter-widgets/base",
            "_view_module_version": "1.2.0",
            "_view_name": "StyleView",
            "description_width": ""
          }
        }
      }
    }
  },
  "nbformat": 4,
  "nbformat_minor": 0
}